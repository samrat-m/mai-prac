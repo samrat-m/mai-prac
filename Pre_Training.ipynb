{
  "nbformat": 4,
  "nbformat_minor": 0,
  "metadata": {
    "colab": {
      "provenance": [],
      "collapsed_sections": [
        "02BUqJcZlowU",
        "8OPqaR-tluKF",
        "x7hQu7sd5oJc",
        "vsKtcp7UBkrh",
        "VpCsYxhtC51Q",
        "aR3y5SetIFJC"
      ],
      "machine_shape": "hm",
      "include_colab_link": true
    },
    "kernelspec": {
      "name": "python3",
      "display_name": "Python 3"
    },
    "language_info": {
      "name": "python"
    },
    "widgets": {
      "application/vnd.jupyter.widget-state+json": {
        "1e5579f20c0f406ca319825d03e0b2b2": {
          "model_module": "@jupyter-widgets/controls",
          "model_name": "HBoxModel",
          "model_module_version": "1.5.0",
          "state": {
            "_dom_classes": [],
            "_model_module": "@jupyter-widgets/controls",
            "_model_module_version": "1.5.0",
            "_model_name": "HBoxModel",
            "_view_count": null,
            "_view_module": "@jupyter-widgets/controls",
            "_view_module_version": "1.5.0",
            "_view_name": "HBoxView",
            "box_style": "",
            "children": [
              "IPY_MODEL_10ea988409b54e23b4d05de0f7a3aabf",
              "IPY_MODEL_0e09ba8db83b4327bdf6f719d85adfa3",
              "IPY_MODEL_4c17432e672243ea86931c9286bffa47"
            ],
            "layout": "IPY_MODEL_ee7df834e1c249a389c8504cc88ebb80"
          }
        },
        "10ea988409b54e23b4d05de0f7a3aabf": {
          "model_module": "@jupyter-widgets/controls",
          "model_name": "HTMLModel",
          "model_module_version": "1.5.0",
          "state": {
            "_dom_classes": [],
            "_model_module": "@jupyter-widgets/controls",
            "_model_module_version": "1.5.0",
            "_model_name": "HTMLModel",
            "_view_count": null,
            "_view_module": "@jupyter-widgets/controls",
            "_view_module_version": "1.5.0",
            "_view_name": "HTMLView",
            "description": "",
            "description_tooltip": null,
            "layout": "IPY_MODEL_92f101c1f45c4dcfa19c72cda4d7df6a",
            "placeholder": "​",
            "style": "IPY_MODEL_cbbde9a45c7648fca9a2350c38c0efde",
            "value": "Downloading readme: 100%"
          }
        },
        "0e09ba8db83b4327bdf6f719d85adfa3": {
          "model_module": "@jupyter-widgets/controls",
          "model_name": "FloatProgressModel",
          "model_module_version": "1.5.0",
          "state": {
            "_dom_classes": [],
            "_model_module": "@jupyter-widgets/controls",
            "_model_module_version": "1.5.0",
            "_model_name": "FloatProgressModel",
            "_view_count": null,
            "_view_module": "@jupyter-widgets/controls",
            "_view_module_version": "1.5.0",
            "_view_name": "ProgressView",
            "bar_style": "success",
            "description": "",
            "description_tooltip": null,
            "layout": "IPY_MODEL_2e9e51aa0fae4030bf870d77e04d51c5",
            "max": 1389,
            "min": 0,
            "orientation": "horizontal",
            "style": "IPY_MODEL_b55526709c2b416aaf2e203646cdaff7",
            "value": 1389
          }
        },
        "4c17432e672243ea86931c9286bffa47": {
          "model_module": "@jupyter-widgets/controls",
          "model_name": "HTMLModel",
          "model_module_version": "1.5.0",
          "state": {
            "_dom_classes": [],
            "_model_module": "@jupyter-widgets/controls",
            "_model_module_version": "1.5.0",
            "_model_name": "HTMLModel",
            "_view_count": null,
            "_view_module": "@jupyter-widgets/controls",
            "_view_module_version": "1.5.0",
            "_view_name": "HTMLView",
            "description": "",
            "description_tooltip": null,
            "layout": "IPY_MODEL_f6db5f798ea144d0bef8da54987380a8",
            "placeholder": "​",
            "style": "IPY_MODEL_3a6fae2452504e749dbc520eb3eff5e1",
            "value": " 1.39k/1.39k [00:00&lt;00:00, 22.6kB/s]"
          }
        },
        "ee7df834e1c249a389c8504cc88ebb80": {
          "model_module": "@jupyter-widgets/base",
          "model_name": "LayoutModel",
          "model_module_version": "1.2.0",
          "state": {
            "_model_module": "@jupyter-widgets/base",
            "_model_module_version": "1.2.0",
            "_model_name": "LayoutModel",
            "_view_count": null,
            "_view_module": "@jupyter-widgets/base",
            "_view_module_version": "1.2.0",
            "_view_name": "LayoutView",
            "align_content": null,
            "align_items": null,
            "align_self": null,
            "border": null,
            "bottom": null,
            "display": null,
            "flex": null,
            "flex_flow": null,
            "grid_area": null,
            "grid_auto_columns": null,
            "grid_auto_flow": null,
            "grid_auto_rows": null,
            "grid_column": null,
            "grid_gap": null,
            "grid_row": null,
            "grid_template_areas": null,
            "grid_template_columns": null,
            "grid_template_rows": null,
            "height": null,
            "justify_content": null,
            "justify_items": null,
            "left": null,
            "margin": null,
            "max_height": null,
            "max_width": null,
            "min_height": null,
            "min_width": null,
            "object_fit": null,
            "object_position": null,
            "order": null,
            "overflow": null,
            "overflow_x": null,
            "overflow_y": null,
            "padding": null,
            "right": null,
            "top": null,
            "visibility": null,
            "width": null
          }
        },
        "92f101c1f45c4dcfa19c72cda4d7df6a": {
          "model_module": "@jupyter-widgets/base",
          "model_name": "LayoutModel",
          "model_module_version": "1.2.0",
          "state": {
            "_model_module": "@jupyter-widgets/base",
            "_model_module_version": "1.2.0",
            "_model_name": "LayoutModel",
            "_view_count": null,
            "_view_module": "@jupyter-widgets/base",
            "_view_module_version": "1.2.0",
            "_view_name": "LayoutView",
            "align_content": null,
            "align_items": null,
            "align_self": null,
            "border": null,
            "bottom": null,
            "display": null,
            "flex": null,
            "flex_flow": null,
            "grid_area": null,
            "grid_auto_columns": null,
            "grid_auto_flow": null,
            "grid_auto_rows": null,
            "grid_column": null,
            "grid_gap": null,
            "grid_row": null,
            "grid_template_areas": null,
            "grid_template_columns": null,
            "grid_template_rows": null,
            "height": null,
            "justify_content": null,
            "justify_items": null,
            "left": null,
            "margin": null,
            "max_height": null,
            "max_width": null,
            "min_height": null,
            "min_width": null,
            "object_fit": null,
            "object_position": null,
            "order": null,
            "overflow": null,
            "overflow_x": null,
            "overflow_y": null,
            "padding": null,
            "right": null,
            "top": null,
            "visibility": null,
            "width": null
          }
        },
        "cbbde9a45c7648fca9a2350c38c0efde": {
          "model_module": "@jupyter-widgets/controls",
          "model_name": "DescriptionStyleModel",
          "model_module_version": "1.5.0",
          "state": {
            "_model_module": "@jupyter-widgets/controls",
            "_model_module_version": "1.5.0",
            "_model_name": "DescriptionStyleModel",
            "_view_count": null,
            "_view_module": "@jupyter-widgets/base",
            "_view_module_version": "1.2.0",
            "_view_name": "StyleView",
            "description_width": ""
          }
        },
        "2e9e51aa0fae4030bf870d77e04d51c5": {
          "model_module": "@jupyter-widgets/base",
          "model_name": "LayoutModel",
          "model_module_version": "1.2.0",
          "state": {
            "_model_module": "@jupyter-widgets/base",
            "_model_module_version": "1.2.0",
            "_model_name": "LayoutModel",
            "_view_count": null,
            "_view_module": "@jupyter-widgets/base",
            "_view_module_version": "1.2.0",
            "_view_name": "LayoutView",
            "align_content": null,
            "align_items": null,
            "align_self": null,
            "border": null,
            "bottom": null,
            "display": null,
            "flex": null,
            "flex_flow": null,
            "grid_area": null,
            "grid_auto_columns": null,
            "grid_auto_flow": null,
            "grid_auto_rows": null,
            "grid_column": null,
            "grid_gap": null,
            "grid_row": null,
            "grid_template_areas": null,
            "grid_template_columns": null,
            "grid_template_rows": null,
            "height": null,
            "justify_content": null,
            "justify_items": null,
            "left": null,
            "margin": null,
            "max_height": null,
            "max_width": null,
            "min_height": null,
            "min_width": null,
            "object_fit": null,
            "object_position": null,
            "order": null,
            "overflow": null,
            "overflow_x": null,
            "overflow_y": null,
            "padding": null,
            "right": null,
            "top": null,
            "visibility": null,
            "width": null
          }
        },
        "b55526709c2b416aaf2e203646cdaff7": {
          "model_module": "@jupyter-widgets/controls",
          "model_name": "ProgressStyleModel",
          "model_module_version": "1.5.0",
          "state": {
            "_model_module": "@jupyter-widgets/controls",
            "_model_module_version": "1.5.0",
            "_model_name": "ProgressStyleModel",
            "_view_count": null,
            "_view_module": "@jupyter-widgets/base",
            "_view_module_version": "1.2.0",
            "_view_name": "StyleView",
            "bar_color": null,
            "description_width": ""
          }
        },
        "f6db5f798ea144d0bef8da54987380a8": {
          "model_module": "@jupyter-widgets/base",
          "model_name": "LayoutModel",
          "model_module_version": "1.2.0",
          "state": {
            "_model_module": "@jupyter-widgets/base",
            "_model_module_version": "1.2.0",
            "_model_name": "LayoutModel",
            "_view_count": null,
            "_view_module": "@jupyter-widgets/base",
            "_view_module_version": "1.2.0",
            "_view_name": "LayoutView",
            "align_content": null,
            "align_items": null,
            "align_self": null,
            "border": null,
            "bottom": null,
            "display": null,
            "flex": null,
            "flex_flow": null,
            "grid_area": null,
            "grid_auto_columns": null,
            "grid_auto_flow": null,
            "grid_auto_rows": null,
            "grid_column": null,
            "grid_gap": null,
            "grid_row": null,
            "grid_template_areas": null,
            "grid_template_columns": null,
            "grid_template_rows": null,
            "height": null,
            "justify_content": null,
            "justify_items": null,
            "left": null,
            "margin": null,
            "max_height": null,
            "max_width": null,
            "min_height": null,
            "min_width": null,
            "object_fit": null,
            "object_position": null,
            "order": null,
            "overflow": null,
            "overflow_x": null,
            "overflow_y": null,
            "padding": null,
            "right": null,
            "top": null,
            "visibility": null,
            "width": null
          }
        },
        "3a6fae2452504e749dbc520eb3eff5e1": {
          "model_module": "@jupyter-widgets/controls",
          "model_name": "DescriptionStyleModel",
          "model_module_version": "1.5.0",
          "state": {
            "_model_module": "@jupyter-widgets/controls",
            "_model_module_version": "1.5.0",
            "_model_name": "DescriptionStyleModel",
            "_view_count": null,
            "_view_module": "@jupyter-widgets/base",
            "_view_module_version": "1.2.0",
            "_view_name": "StyleView",
            "description_width": ""
          }
        },
        "cab128ca27e9443db743bb2c6d21fc1e": {
          "model_module": "@jupyter-widgets/controls",
          "model_name": "HBoxModel",
          "model_module_version": "1.5.0",
          "state": {
            "_dom_classes": [],
            "_model_module": "@jupyter-widgets/controls",
            "_model_module_version": "1.5.0",
            "_model_name": "HBoxModel",
            "_view_count": null,
            "_view_module": "@jupyter-widgets/controls",
            "_view_module_version": "1.5.0",
            "_view_name": "HBoxView",
            "box_style": "",
            "children": [
              "IPY_MODEL_82bce8982cc64d999a3ca5a9dad95de7",
              "IPY_MODEL_c9a95def8c7b4f9c87659f006c211494",
              "IPY_MODEL_88435f8abe584fbcb8102c13e1b035c8"
            ],
            "layout": "IPY_MODEL_b0481261b757427a90583d3ca3653847"
          }
        },
        "82bce8982cc64d999a3ca5a9dad95de7": {
          "model_module": "@jupyter-widgets/controls",
          "model_name": "HTMLModel",
          "model_module_version": "1.5.0",
          "state": {
            "_dom_classes": [],
            "_model_module": "@jupyter-widgets/controls",
            "_model_module_version": "1.5.0",
            "_model_name": "HTMLModel",
            "_view_count": null,
            "_view_module": "@jupyter-widgets/controls",
            "_view_module_version": "1.5.0",
            "_view_name": "HTMLView",
            "description": "",
            "description_tooltip": null,
            "layout": "IPY_MODEL_e41c99cb94dd407d82f40a6c61dabed5",
            "placeholder": "​",
            "style": "IPY_MODEL_53be5ac497644c79b7e4938f9b1837d6",
            "value": "Downloading data: 100%"
          }
        },
        "c9a95def8c7b4f9c87659f006c211494": {
          "model_module": "@jupyter-widgets/controls",
          "model_name": "FloatProgressModel",
          "model_module_version": "1.5.0",
          "state": {
            "_dom_classes": [],
            "_model_module": "@jupyter-widgets/controls",
            "_model_module_version": "1.5.0",
            "_model_name": "FloatProgressModel",
            "_view_count": null,
            "_view_module": "@jupyter-widgets/controls",
            "_view_module_version": "1.5.0",
            "_view_name": "ProgressView",
            "bar_style": "success",
            "description": "",
            "description_tooltip": null,
            "layout": "IPY_MODEL_6c567714e8e04bbeb8240bc2e8b6e6bc",
            "max": 43379276,
            "min": 0,
            "orientation": "horizontal",
            "style": "IPY_MODEL_5ee643fde16f4e91b75de08c52223785",
            "value": 43379276
          }
        },
        "88435f8abe584fbcb8102c13e1b035c8": {
          "model_module": "@jupyter-widgets/controls",
          "model_name": "HTMLModel",
          "model_module_version": "1.5.0",
          "state": {
            "_dom_classes": [],
            "_model_module": "@jupyter-widgets/controls",
            "_model_module_version": "1.5.0",
            "_model_name": "HTMLModel",
            "_view_count": null,
            "_view_module": "@jupyter-widgets/controls",
            "_view_module_version": "1.5.0",
            "_view_name": "HTMLView",
            "description": "",
            "description_tooltip": null,
            "layout": "IPY_MODEL_a7a981ce3e174167bdbfa1d369df2d11",
            "placeholder": "​",
            "style": "IPY_MODEL_415aadb89dd54743be3fa7bb0ca08b12",
            "value": " 43.4M/43.4M [00:01&lt;00:00, 40.8MB/s]"
          }
        },
        "b0481261b757427a90583d3ca3653847": {
          "model_module": "@jupyter-widgets/base",
          "model_name": "LayoutModel",
          "model_module_version": "1.2.0",
          "state": {
            "_model_module": "@jupyter-widgets/base",
            "_model_module_version": "1.2.0",
            "_model_name": "LayoutModel",
            "_view_count": null,
            "_view_module": "@jupyter-widgets/base",
            "_view_module_version": "1.2.0",
            "_view_name": "LayoutView",
            "align_content": null,
            "align_items": null,
            "align_self": null,
            "border": null,
            "bottom": null,
            "display": null,
            "flex": null,
            "flex_flow": null,
            "grid_area": null,
            "grid_auto_columns": null,
            "grid_auto_flow": null,
            "grid_auto_rows": null,
            "grid_column": null,
            "grid_gap": null,
            "grid_row": null,
            "grid_template_areas": null,
            "grid_template_columns": null,
            "grid_template_rows": null,
            "height": null,
            "justify_content": null,
            "justify_items": null,
            "left": null,
            "margin": null,
            "max_height": null,
            "max_width": null,
            "min_height": null,
            "min_width": null,
            "object_fit": null,
            "object_position": null,
            "order": null,
            "overflow": null,
            "overflow_x": null,
            "overflow_y": null,
            "padding": null,
            "right": null,
            "top": null,
            "visibility": null,
            "width": null
          }
        },
        "e41c99cb94dd407d82f40a6c61dabed5": {
          "model_module": "@jupyter-widgets/base",
          "model_name": "LayoutModel",
          "model_module_version": "1.2.0",
          "state": {
            "_model_module": "@jupyter-widgets/base",
            "_model_module_version": "1.2.0",
            "_model_name": "LayoutModel",
            "_view_count": null,
            "_view_module": "@jupyter-widgets/base",
            "_view_module_version": "1.2.0",
            "_view_name": "LayoutView",
            "align_content": null,
            "align_items": null,
            "align_self": null,
            "border": null,
            "bottom": null,
            "display": null,
            "flex": null,
            "flex_flow": null,
            "grid_area": null,
            "grid_auto_columns": null,
            "grid_auto_flow": null,
            "grid_auto_rows": null,
            "grid_column": null,
            "grid_gap": null,
            "grid_row": null,
            "grid_template_areas": null,
            "grid_template_columns": null,
            "grid_template_rows": null,
            "height": null,
            "justify_content": null,
            "justify_items": null,
            "left": null,
            "margin": null,
            "max_height": null,
            "max_width": null,
            "min_height": null,
            "min_width": null,
            "object_fit": null,
            "object_position": null,
            "order": null,
            "overflow": null,
            "overflow_x": null,
            "overflow_y": null,
            "padding": null,
            "right": null,
            "top": null,
            "visibility": null,
            "width": null
          }
        },
        "53be5ac497644c79b7e4938f9b1837d6": {
          "model_module": "@jupyter-widgets/controls",
          "model_name": "DescriptionStyleModel",
          "model_module_version": "1.5.0",
          "state": {
            "_model_module": "@jupyter-widgets/controls",
            "_model_module_version": "1.5.0",
            "_model_name": "DescriptionStyleModel",
            "_view_count": null,
            "_view_module": "@jupyter-widgets/base",
            "_view_module_version": "1.2.0",
            "_view_name": "StyleView",
            "description_width": ""
          }
        },
        "6c567714e8e04bbeb8240bc2e8b6e6bc": {
          "model_module": "@jupyter-widgets/base",
          "model_name": "LayoutModel",
          "model_module_version": "1.2.0",
          "state": {
            "_model_module": "@jupyter-widgets/base",
            "_model_module_version": "1.2.0",
            "_model_name": "LayoutModel",
            "_view_count": null,
            "_view_module": "@jupyter-widgets/base",
            "_view_module_version": "1.2.0",
            "_view_name": "LayoutView",
            "align_content": null,
            "align_items": null,
            "align_self": null,
            "border": null,
            "bottom": null,
            "display": null,
            "flex": null,
            "flex_flow": null,
            "grid_area": null,
            "grid_auto_columns": null,
            "grid_auto_flow": null,
            "grid_auto_rows": null,
            "grid_column": null,
            "grid_gap": null,
            "grid_row": null,
            "grid_template_areas": null,
            "grid_template_columns": null,
            "grid_template_rows": null,
            "height": null,
            "justify_content": null,
            "justify_items": null,
            "left": null,
            "margin": null,
            "max_height": null,
            "max_width": null,
            "min_height": null,
            "min_width": null,
            "object_fit": null,
            "object_position": null,
            "order": null,
            "overflow": null,
            "overflow_x": null,
            "overflow_y": null,
            "padding": null,
            "right": null,
            "top": null,
            "visibility": null,
            "width": null
          }
        },
        "5ee643fde16f4e91b75de08c52223785": {
          "model_module": "@jupyter-widgets/controls",
          "model_name": "ProgressStyleModel",
          "model_module_version": "1.5.0",
          "state": {
            "_model_module": "@jupyter-widgets/controls",
            "_model_module_version": "1.5.0",
            "_model_name": "ProgressStyleModel",
            "_view_count": null,
            "_view_module": "@jupyter-widgets/base",
            "_view_module_version": "1.2.0",
            "_view_name": "StyleView",
            "bar_color": null,
            "description_width": ""
          }
        },
        "a7a981ce3e174167bdbfa1d369df2d11": {
          "model_module": "@jupyter-widgets/base",
          "model_name": "LayoutModel",
          "model_module_version": "1.2.0",
          "state": {
            "_model_module": "@jupyter-widgets/base",
            "_model_module_version": "1.2.0",
            "_model_name": "LayoutModel",
            "_view_count": null,
            "_view_module": "@jupyter-widgets/base",
            "_view_module_version": "1.2.0",
            "_view_name": "LayoutView",
            "align_content": null,
            "align_items": null,
            "align_self": null,
            "border": null,
            "bottom": null,
            "display": null,
            "flex": null,
            "flex_flow": null,
            "grid_area": null,
            "grid_auto_columns": null,
            "grid_auto_flow": null,
            "grid_auto_rows": null,
            "grid_column": null,
            "grid_gap": null,
            "grid_row": null,
            "grid_template_areas": null,
            "grid_template_columns": null,
            "grid_template_rows": null,
            "height": null,
            "justify_content": null,
            "justify_items": null,
            "left": null,
            "margin": null,
            "max_height": null,
            "max_width": null,
            "min_height": null,
            "min_width": null,
            "object_fit": null,
            "object_position": null,
            "order": null,
            "overflow": null,
            "overflow_x": null,
            "overflow_y": null,
            "padding": null,
            "right": null,
            "top": null,
            "visibility": null,
            "width": null
          }
        },
        "415aadb89dd54743be3fa7bb0ca08b12": {
          "model_module": "@jupyter-widgets/controls",
          "model_name": "DescriptionStyleModel",
          "model_module_version": "1.5.0",
          "state": {
            "_model_module": "@jupyter-widgets/controls",
            "_model_module_version": "1.5.0",
            "_model_name": "DescriptionStyleModel",
            "_view_count": null,
            "_view_module": "@jupyter-widgets/base",
            "_view_module_version": "1.2.0",
            "_view_name": "StyleView",
            "description_width": ""
          }
        },
        "8bf763173429472ca8c8f757d273e090": {
          "model_module": "@jupyter-widgets/controls",
          "model_name": "HBoxModel",
          "model_module_version": "1.5.0",
          "state": {
            "_dom_classes": [],
            "_model_module": "@jupyter-widgets/controls",
            "_model_module_version": "1.5.0",
            "_model_name": "HBoxModel",
            "_view_count": null,
            "_view_module": "@jupyter-widgets/controls",
            "_view_module_version": "1.5.0",
            "_view_name": "HBoxView",
            "box_style": "",
            "children": [
              "IPY_MODEL_268383c5e3b94d02a0d17549b766a74f",
              "IPY_MODEL_7d8c3a01248d4741a737ccf8a7b639ae",
              "IPY_MODEL_091d8394e9f14af486a5dcb2e22b25a6"
            ],
            "layout": "IPY_MODEL_a5714051e2614fb99142b3f61b78fdea"
          }
        },
        "268383c5e3b94d02a0d17549b766a74f": {
          "model_module": "@jupyter-widgets/controls",
          "model_name": "HTMLModel",
          "model_module_version": "1.5.0",
          "state": {
            "_dom_classes": [],
            "_model_module": "@jupyter-widgets/controls",
            "_model_module_version": "1.5.0",
            "_model_name": "HTMLModel",
            "_view_count": null,
            "_view_module": "@jupyter-widgets/controls",
            "_view_module_version": "1.5.0",
            "_view_name": "HTMLView",
            "description": "",
            "description_tooltip": null,
            "layout": "IPY_MODEL_128029b451fc40a78517735e21763f14",
            "placeholder": "​",
            "style": "IPY_MODEL_caeb2580ab7e4a0ea91a49564fcba834",
            "value": "Generating train split: 100%"
          }
        },
        "7d8c3a01248d4741a737ccf8a7b639ae": {
          "model_module": "@jupyter-widgets/controls",
          "model_name": "FloatProgressModel",
          "model_module_version": "1.5.0",
          "state": {
            "_dom_classes": [],
            "_model_module": "@jupyter-widgets/controls",
            "_model_module_version": "1.5.0",
            "_model_name": "FloatProgressModel",
            "_view_count": null,
            "_view_module": "@jupyter-widgets/controls",
            "_view_module_version": "1.5.0",
            "_view_name": "ProgressView",
            "bar_style": "success",
            "description": "",
            "description_tooltip": null,
            "layout": "IPY_MODEL_61fd5407499141bcaf867147c4237af0",
            "max": 52002,
            "min": 0,
            "orientation": "horizontal",
            "style": "IPY_MODEL_48739c443f924da887c81db94fd58c1f",
            "value": 52002
          }
        },
        "091d8394e9f14af486a5dcb2e22b25a6": {
          "model_module": "@jupyter-widgets/controls",
          "model_name": "HTMLModel",
          "model_module_version": "1.5.0",
          "state": {
            "_dom_classes": [],
            "_model_module": "@jupyter-widgets/controls",
            "_model_module_version": "1.5.0",
            "_model_name": "HTMLModel",
            "_view_count": null,
            "_view_module": "@jupyter-widgets/controls",
            "_view_module_version": "1.5.0",
            "_view_name": "HTMLView",
            "description": "",
            "description_tooltip": null,
            "layout": "IPY_MODEL_12e770cb808e41e5bdff050be27a26cc",
            "placeholder": "​",
            "style": "IPY_MODEL_5a210cf3f6824530b8809deb002cfcd2",
            "value": " 52002/52002 [00:01&lt;00:00, 45864.67 examples/s]"
          }
        },
        "a5714051e2614fb99142b3f61b78fdea": {
          "model_module": "@jupyter-widgets/base",
          "model_name": "LayoutModel",
          "model_module_version": "1.2.0",
          "state": {
            "_model_module": "@jupyter-widgets/base",
            "_model_module_version": "1.2.0",
            "_model_name": "LayoutModel",
            "_view_count": null,
            "_view_module": "@jupyter-widgets/base",
            "_view_module_version": "1.2.0",
            "_view_name": "LayoutView",
            "align_content": null,
            "align_items": null,
            "align_self": null,
            "border": null,
            "bottom": null,
            "display": null,
            "flex": null,
            "flex_flow": null,
            "grid_area": null,
            "grid_auto_columns": null,
            "grid_auto_flow": null,
            "grid_auto_rows": null,
            "grid_column": null,
            "grid_gap": null,
            "grid_row": null,
            "grid_template_areas": null,
            "grid_template_columns": null,
            "grid_template_rows": null,
            "height": null,
            "justify_content": null,
            "justify_items": null,
            "left": null,
            "margin": null,
            "max_height": null,
            "max_width": null,
            "min_height": null,
            "min_width": null,
            "object_fit": null,
            "object_position": null,
            "order": null,
            "overflow": null,
            "overflow_x": null,
            "overflow_y": null,
            "padding": null,
            "right": null,
            "top": null,
            "visibility": null,
            "width": null
          }
        },
        "128029b451fc40a78517735e21763f14": {
          "model_module": "@jupyter-widgets/base",
          "model_name": "LayoutModel",
          "model_module_version": "1.2.0",
          "state": {
            "_model_module": "@jupyter-widgets/base",
            "_model_module_version": "1.2.0",
            "_model_name": "LayoutModel",
            "_view_count": null,
            "_view_module": "@jupyter-widgets/base",
            "_view_module_version": "1.2.0",
            "_view_name": "LayoutView",
            "align_content": null,
            "align_items": null,
            "align_self": null,
            "border": null,
            "bottom": null,
            "display": null,
            "flex": null,
            "flex_flow": null,
            "grid_area": null,
            "grid_auto_columns": null,
            "grid_auto_flow": null,
            "grid_auto_rows": null,
            "grid_column": null,
            "grid_gap": null,
            "grid_row": null,
            "grid_template_areas": null,
            "grid_template_columns": null,
            "grid_template_rows": null,
            "height": null,
            "justify_content": null,
            "justify_items": null,
            "left": null,
            "margin": null,
            "max_height": null,
            "max_width": null,
            "min_height": null,
            "min_width": null,
            "object_fit": null,
            "object_position": null,
            "order": null,
            "overflow": null,
            "overflow_x": null,
            "overflow_y": null,
            "padding": null,
            "right": null,
            "top": null,
            "visibility": null,
            "width": null
          }
        },
        "caeb2580ab7e4a0ea91a49564fcba834": {
          "model_module": "@jupyter-widgets/controls",
          "model_name": "DescriptionStyleModel",
          "model_module_version": "1.5.0",
          "state": {
            "_model_module": "@jupyter-widgets/controls",
            "_model_module_version": "1.5.0",
            "_model_name": "DescriptionStyleModel",
            "_view_count": null,
            "_view_module": "@jupyter-widgets/base",
            "_view_module_version": "1.2.0",
            "_view_name": "StyleView",
            "description_width": ""
          }
        },
        "61fd5407499141bcaf867147c4237af0": {
          "model_module": "@jupyter-widgets/base",
          "model_name": "LayoutModel",
          "model_module_version": "1.2.0",
          "state": {
            "_model_module": "@jupyter-widgets/base",
            "_model_module_version": "1.2.0",
            "_model_name": "LayoutModel",
            "_view_count": null,
            "_view_module": "@jupyter-widgets/base",
            "_view_module_version": "1.2.0",
            "_view_name": "LayoutView",
            "align_content": null,
            "align_items": null,
            "align_self": null,
            "border": null,
            "bottom": null,
            "display": null,
            "flex": null,
            "flex_flow": null,
            "grid_area": null,
            "grid_auto_columns": null,
            "grid_auto_flow": null,
            "grid_auto_rows": null,
            "grid_column": null,
            "grid_gap": null,
            "grid_row": null,
            "grid_template_areas": null,
            "grid_template_columns": null,
            "grid_template_rows": null,
            "height": null,
            "justify_content": null,
            "justify_items": null,
            "left": null,
            "margin": null,
            "max_height": null,
            "max_width": null,
            "min_height": null,
            "min_width": null,
            "object_fit": null,
            "object_position": null,
            "order": null,
            "overflow": null,
            "overflow_x": null,
            "overflow_y": null,
            "padding": null,
            "right": null,
            "top": null,
            "visibility": null,
            "width": null
          }
        },
        "48739c443f924da887c81db94fd58c1f": {
          "model_module": "@jupyter-widgets/controls",
          "model_name": "ProgressStyleModel",
          "model_module_version": "1.5.0",
          "state": {
            "_model_module": "@jupyter-widgets/controls",
            "_model_module_version": "1.5.0",
            "_model_name": "ProgressStyleModel",
            "_view_count": null,
            "_view_module": "@jupyter-widgets/base",
            "_view_module_version": "1.2.0",
            "_view_name": "StyleView",
            "bar_color": null,
            "description_width": ""
          }
        },
        "12e770cb808e41e5bdff050be27a26cc": {
          "model_module": "@jupyter-widgets/base",
          "model_name": "LayoutModel",
          "model_module_version": "1.2.0",
          "state": {
            "_model_module": "@jupyter-widgets/base",
            "_model_module_version": "1.2.0",
            "_model_name": "LayoutModel",
            "_view_count": null,
            "_view_module": "@jupyter-widgets/base",
            "_view_module_version": "1.2.0",
            "_view_name": "LayoutView",
            "align_content": null,
            "align_items": null,
            "align_self": null,
            "border": null,
            "bottom": null,
            "display": null,
            "flex": null,
            "flex_flow": null,
            "grid_area": null,
            "grid_auto_columns": null,
            "grid_auto_flow": null,
            "grid_auto_rows": null,
            "grid_column": null,
            "grid_gap": null,
            "grid_row": null,
            "grid_template_areas": null,
            "grid_template_columns": null,
            "grid_template_rows": null,
            "height": null,
            "justify_content": null,
            "justify_items": null,
            "left": null,
            "margin": null,
            "max_height": null,
            "max_width": null,
            "min_height": null,
            "min_width": null,
            "object_fit": null,
            "object_position": null,
            "order": null,
            "overflow": null,
            "overflow_x": null,
            "overflow_y": null,
            "padding": null,
            "right": null,
            "top": null,
            "visibility": null,
            "width": null
          }
        },
        "5a210cf3f6824530b8809deb002cfcd2": {
          "model_module": "@jupyter-widgets/controls",
          "model_name": "DescriptionStyleModel",
          "model_module_version": "1.5.0",
          "state": {
            "_model_module": "@jupyter-widgets/controls",
            "_model_module_version": "1.5.0",
            "_model_name": "DescriptionStyleModel",
            "_view_count": null,
            "_view_module": "@jupyter-widgets/base",
            "_view_module_version": "1.2.0",
            "_view_name": "StyleView",
            "description_width": ""
          }
        },
        "ead95d6fbae349498ce15aecf0c4bbd3": {
          "model_module": "@jupyter-widgets/controls",
          "model_name": "HBoxModel",
          "model_module_version": "1.5.0",
          "state": {
            "_dom_classes": [],
            "_model_module": "@jupyter-widgets/controls",
            "_model_module_version": "1.5.0",
            "_model_name": "HBoxModel",
            "_view_count": null,
            "_view_module": "@jupyter-widgets/controls",
            "_view_module_version": "1.5.0",
            "_view_name": "HBoxView",
            "box_style": "",
            "children": [
              "IPY_MODEL_30c71097b52d4b939ecb25d34ac9776f",
              "IPY_MODEL_eee4e386299740e684ccb6ab4a6de9c3",
              "IPY_MODEL_14386c509de54ab29e00447a2130aaf2"
            ],
            "layout": "IPY_MODEL_655db2798c16479bbaabcc6d6528466f"
          }
        },
        "30c71097b52d4b939ecb25d34ac9776f": {
          "model_module": "@jupyter-widgets/controls",
          "model_name": "HTMLModel",
          "model_module_version": "1.5.0",
          "state": {
            "_dom_classes": [],
            "_model_module": "@jupyter-widgets/controls",
            "_model_module_version": "1.5.0",
            "_model_name": "HTMLModel",
            "_view_count": null,
            "_view_module": "@jupyter-widgets/controls",
            "_view_module_version": "1.5.0",
            "_view_name": "HTMLView",
            "description": "",
            "description_tooltip": null,
            "layout": "IPY_MODEL_14c11e15a5ca43f7a03fc57680259397",
            "placeholder": "​",
            "style": "IPY_MODEL_59358dbd322e4e9ab3aec4991e8eef5c",
            "value": "Filter: 100%"
          }
        },
        "eee4e386299740e684ccb6ab4a6de9c3": {
          "model_module": "@jupyter-widgets/controls",
          "model_name": "FloatProgressModel",
          "model_module_version": "1.5.0",
          "state": {
            "_dom_classes": [],
            "_model_module": "@jupyter-widgets/controls",
            "_model_module_version": "1.5.0",
            "_model_name": "FloatProgressModel",
            "_view_count": null,
            "_view_module": "@jupyter-widgets/controls",
            "_view_module_version": "1.5.0",
            "_view_name": "ProgressView",
            "bar_style": "success",
            "description": "",
            "description_tooltip": null,
            "layout": "IPY_MODEL_dbd6ab1c794a4cfda209a1d9c927505c",
            "max": 60009,
            "min": 0,
            "orientation": "horizontal",
            "style": "IPY_MODEL_8264c08fc4aa40f7840dc99c66973ab4",
            "value": 60009
          }
        },
        "14386c509de54ab29e00447a2130aaf2": {
          "model_module": "@jupyter-widgets/controls",
          "model_name": "HTMLModel",
          "model_module_version": "1.5.0",
          "state": {
            "_dom_classes": [],
            "_model_module": "@jupyter-widgets/controls",
            "_model_module_version": "1.5.0",
            "_model_name": "HTMLModel",
            "_view_count": null,
            "_view_module": "@jupyter-widgets/controls",
            "_view_module_version": "1.5.0",
            "_view_name": "HTMLView",
            "description": "",
            "description_tooltip": null,
            "layout": "IPY_MODEL_8286220ce26c4d258f778c9e3ef58bf9",
            "placeholder": "​",
            "style": "IPY_MODEL_4151c98058314dd291968ffaa3b7f83e",
            "value": " 60009/60009 [00:03&lt;00:00, 29507.79 examples/s]"
          }
        },
        "655db2798c16479bbaabcc6d6528466f": {
          "model_module": "@jupyter-widgets/base",
          "model_name": "LayoutModel",
          "model_module_version": "1.2.0",
          "state": {
            "_model_module": "@jupyter-widgets/base",
            "_model_module_version": "1.2.0",
            "_model_name": "LayoutModel",
            "_view_count": null,
            "_view_module": "@jupyter-widgets/base",
            "_view_module_version": "1.2.0",
            "_view_name": "LayoutView",
            "align_content": null,
            "align_items": null,
            "align_self": null,
            "border": null,
            "bottom": null,
            "display": null,
            "flex": null,
            "flex_flow": null,
            "grid_area": null,
            "grid_auto_columns": null,
            "grid_auto_flow": null,
            "grid_auto_rows": null,
            "grid_column": null,
            "grid_gap": null,
            "grid_row": null,
            "grid_template_areas": null,
            "grid_template_columns": null,
            "grid_template_rows": null,
            "height": null,
            "justify_content": null,
            "justify_items": null,
            "left": null,
            "margin": null,
            "max_height": null,
            "max_width": null,
            "min_height": null,
            "min_width": null,
            "object_fit": null,
            "object_position": null,
            "order": null,
            "overflow": null,
            "overflow_x": null,
            "overflow_y": null,
            "padding": null,
            "right": null,
            "top": null,
            "visibility": null,
            "width": null
          }
        },
        "14c11e15a5ca43f7a03fc57680259397": {
          "model_module": "@jupyter-widgets/base",
          "model_name": "LayoutModel",
          "model_module_version": "1.2.0",
          "state": {
            "_model_module": "@jupyter-widgets/base",
            "_model_module_version": "1.2.0",
            "_model_name": "LayoutModel",
            "_view_count": null,
            "_view_module": "@jupyter-widgets/base",
            "_view_module_version": "1.2.0",
            "_view_name": "LayoutView",
            "align_content": null,
            "align_items": null,
            "align_self": null,
            "border": null,
            "bottom": null,
            "display": null,
            "flex": null,
            "flex_flow": null,
            "grid_area": null,
            "grid_auto_columns": null,
            "grid_auto_flow": null,
            "grid_auto_rows": null,
            "grid_column": null,
            "grid_gap": null,
            "grid_row": null,
            "grid_template_areas": null,
            "grid_template_columns": null,
            "grid_template_rows": null,
            "height": null,
            "justify_content": null,
            "justify_items": null,
            "left": null,
            "margin": null,
            "max_height": null,
            "max_width": null,
            "min_height": null,
            "min_width": null,
            "object_fit": null,
            "object_position": null,
            "order": null,
            "overflow": null,
            "overflow_x": null,
            "overflow_y": null,
            "padding": null,
            "right": null,
            "top": null,
            "visibility": null,
            "width": null
          }
        },
        "59358dbd322e4e9ab3aec4991e8eef5c": {
          "model_module": "@jupyter-widgets/controls",
          "model_name": "DescriptionStyleModel",
          "model_module_version": "1.5.0",
          "state": {
            "_model_module": "@jupyter-widgets/controls",
            "_model_module_version": "1.5.0",
            "_model_name": "DescriptionStyleModel",
            "_view_count": null,
            "_view_module": "@jupyter-widgets/base",
            "_view_module_version": "1.2.0",
            "_view_name": "StyleView",
            "description_width": ""
          }
        },
        "dbd6ab1c794a4cfda209a1d9c927505c": {
          "model_module": "@jupyter-widgets/base",
          "model_name": "LayoutModel",
          "model_module_version": "1.2.0",
          "state": {
            "_model_module": "@jupyter-widgets/base",
            "_model_module_version": "1.2.0",
            "_model_name": "LayoutModel",
            "_view_count": null,
            "_view_module": "@jupyter-widgets/base",
            "_view_module_version": "1.2.0",
            "_view_name": "LayoutView",
            "align_content": null,
            "align_items": null,
            "align_self": null,
            "border": null,
            "bottom": null,
            "display": null,
            "flex": null,
            "flex_flow": null,
            "grid_area": null,
            "grid_auto_columns": null,
            "grid_auto_flow": null,
            "grid_auto_rows": null,
            "grid_column": null,
            "grid_gap": null,
            "grid_row": null,
            "grid_template_areas": null,
            "grid_template_columns": null,
            "grid_template_rows": null,
            "height": null,
            "justify_content": null,
            "justify_items": null,
            "left": null,
            "margin": null,
            "max_height": null,
            "max_width": null,
            "min_height": null,
            "min_width": null,
            "object_fit": null,
            "object_position": null,
            "order": null,
            "overflow": null,
            "overflow_x": null,
            "overflow_y": null,
            "padding": null,
            "right": null,
            "top": null,
            "visibility": null,
            "width": null
          }
        },
        "8264c08fc4aa40f7840dc99c66973ab4": {
          "model_module": "@jupyter-widgets/controls",
          "model_name": "ProgressStyleModel",
          "model_module_version": "1.5.0",
          "state": {
            "_model_module": "@jupyter-widgets/controls",
            "_model_module_version": "1.5.0",
            "_model_name": "ProgressStyleModel",
            "_view_count": null,
            "_view_module": "@jupyter-widgets/base",
            "_view_module_version": "1.2.0",
            "_view_name": "StyleView",
            "bar_color": null,
            "description_width": ""
          }
        },
        "8286220ce26c4d258f778c9e3ef58bf9": {
          "model_module": "@jupyter-widgets/base",
          "model_name": "LayoutModel",
          "model_module_version": "1.2.0",
          "state": {
            "_model_module": "@jupyter-widgets/base",
            "_model_module_version": "1.2.0",
            "_model_name": "LayoutModel",
            "_view_count": null,
            "_view_module": "@jupyter-widgets/base",
            "_view_module_version": "1.2.0",
            "_view_name": "LayoutView",
            "align_content": null,
            "align_items": null,
            "align_self": null,
            "border": null,
            "bottom": null,
            "display": null,
            "flex": null,
            "flex_flow": null,
            "grid_area": null,
            "grid_auto_columns": null,
            "grid_auto_flow": null,
            "grid_auto_rows": null,
            "grid_column": null,
            "grid_gap": null,
            "grid_row": null,
            "grid_template_areas": null,
            "grid_template_columns": null,
            "grid_template_rows": null,
            "height": null,
            "justify_content": null,
            "justify_items": null,
            "left": null,
            "margin": null,
            "max_height": null,
            "max_width": null,
            "min_height": null,
            "min_width": null,
            "object_fit": null,
            "object_position": null,
            "order": null,
            "overflow": null,
            "overflow_x": null,
            "overflow_y": null,
            "padding": null,
            "right": null,
            "top": null,
            "visibility": null,
            "width": null
          }
        },
        "4151c98058314dd291968ffaa3b7f83e": {
          "model_module": "@jupyter-widgets/controls",
          "model_name": "DescriptionStyleModel",
          "model_module_version": "1.5.0",
          "state": {
            "_model_module": "@jupyter-widgets/controls",
            "_model_module_version": "1.5.0",
            "_model_name": "DescriptionStyleModel",
            "_view_count": null,
            "_view_module": "@jupyter-widgets/base",
            "_view_module_version": "1.2.0",
            "_view_name": "StyleView",
            "description_width": ""
          }
        },
        "d1839fb1931c4934abaa0ef810d3da37": {
          "model_module": "@jupyter-widgets/controls",
          "model_name": "HBoxModel",
          "model_module_version": "1.5.0",
          "state": {
            "_dom_classes": [],
            "_model_module": "@jupyter-widgets/controls",
            "_model_module_version": "1.5.0",
            "_model_name": "HBoxModel",
            "_view_count": null,
            "_view_module": "@jupyter-widgets/controls",
            "_view_module_version": "1.5.0",
            "_view_name": "HBoxView",
            "box_style": "",
            "children": [
              "IPY_MODEL_2bd21fa3f51942edb21596ff39094d78",
              "IPY_MODEL_e81732f5a6de451ebca510d35751851f",
              "IPY_MODEL_523789f8118f44bf8cdf425eaf832504"
            ],
            "layout": "IPY_MODEL_d8126a48308d4a6ca256e5ded9c2c378"
          }
        },
        "2bd21fa3f51942edb21596ff39094d78": {
          "model_module": "@jupyter-widgets/controls",
          "model_name": "HTMLModel",
          "model_module_version": "1.5.0",
          "state": {
            "_dom_classes": [],
            "_model_module": "@jupyter-widgets/controls",
            "_model_module_version": "1.5.0",
            "_model_name": "HTMLModel",
            "_view_count": null,
            "_view_module": "@jupyter-widgets/controls",
            "_view_module_version": "1.5.0",
            "_view_name": "HTMLView",
            "description": "",
            "description_tooltip": null,
            "layout": "IPY_MODEL_2d2c95d9a2724310a0e6a824b7aa7a8e",
            "placeholder": "​",
            "style": "IPY_MODEL_7b51551525b8437aa6b588186c286cd1",
            "value": "Filter: 100%"
          }
        },
        "e81732f5a6de451ebca510d35751851f": {
          "model_module": "@jupyter-widgets/controls",
          "model_name": "FloatProgressModel",
          "model_module_version": "1.5.0",
          "state": {
            "_dom_classes": [],
            "_model_module": "@jupyter-widgets/controls",
            "_model_module_version": "1.5.0",
            "_model_name": "FloatProgressModel",
            "_view_count": null,
            "_view_module": "@jupyter-widgets/controls",
            "_view_module_version": "1.5.0",
            "_view_name": "ProgressView",
            "bar_style": "success",
            "description": "",
            "description_tooltip": null,
            "layout": "IPY_MODEL_73e302c3bcbd45c2b6c5313e27508f16",
            "max": 52357,
            "min": 0,
            "orientation": "horizontal",
            "style": "IPY_MODEL_79b1218ab6b74095b86829012a45fef5",
            "value": 52357
          }
        },
        "523789f8118f44bf8cdf425eaf832504": {
          "model_module": "@jupyter-widgets/controls",
          "model_name": "HTMLModel",
          "model_module_version": "1.5.0",
          "state": {
            "_dom_classes": [],
            "_model_module": "@jupyter-widgets/controls",
            "_model_module_version": "1.5.0",
            "_model_name": "HTMLModel",
            "_view_count": null,
            "_view_module": "@jupyter-widgets/controls",
            "_view_module_version": "1.5.0",
            "_view_name": "HTMLView",
            "description": "",
            "description_tooltip": null,
            "layout": "IPY_MODEL_9352bb4989d84201a9456f40694f47c7",
            "placeholder": "​",
            "style": "IPY_MODEL_440dec30c39c4b4a8e2fa87a1c028fcc",
            "value": " 52357/52357 [00:13&lt;00:00, 4298.79 examples/s]"
          }
        },
        "d8126a48308d4a6ca256e5ded9c2c378": {
          "model_module": "@jupyter-widgets/base",
          "model_name": "LayoutModel",
          "model_module_version": "1.2.0",
          "state": {
            "_model_module": "@jupyter-widgets/base",
            "_model_module_version": "1.2.0",
            "_model_name": "LayoutModel",
            "_view_count": null,
            "_view_module": "@jupyter-widgets/base",
            "_view_module_version": "1.2.0",
            "_view_name": "LayoutView",
            "align_content": null,
            "align_items": null,
            "align_self": null,
            "border": null,
            "bottom": null,
            "display": null,
            "flex": null,
            "flex_flow": null,
            "grid_area": null,
            "grid_auto_columns": null,
            "grid_auto_flow": null,
            "grid_auto_rows": null,
            "grid_column": null,
            "grid_gap": null,
            "grid_row": null,
            "grid_template_areas": null,
            "grid_template_columns": null,
            "grid_template_rows": null,
            "height": null,
            "justify_content": null,
            "justify_items": null,
            "left": null,
            "margin": null,
            "max_height": null,
            "max_width": null,
            "min_height": null,
            "min_width": null,
            "object_fit": null,
            "object_position": null,
            "order": null,
            "overflow": null,
            "overflow_x": null,
            "overflow_y": null,
            "padding": null,
            "right": null,
            "top": null,
            "visibility": null,
            "width": null
          }
        },
        "2d2c95d9a2724310a0e6a824b7aa7a8e": {
          "model_module": "@jupyter-widgets/base",
          "model_name": "LayoutModel",
          "model_module_version": "1.2.0",
          "state": {
            "_model_module": "@jupyter-widgets/base",
            "_model_module_version": "1.2.0",
            "_model_name": "LayoutModel",
            "_view_count": null,
            "_view_module": "@jupyter-widgets/base",
            "_view_module_version": "1.2.0",
            "_view_name": "LayoutView",
            "align_content": null,
            "align_items": null,
            "align_self": null,
            "border": null,
            "bottom": null,
            "display": null,
            "flex": null,
            "flex_flow": null,
            "grid_area": null,
            "grid_auto_columns": null,
            "grid_auto_flow": null,
            "grid_auto_rows": null,
            "grid_column": null,
            "grid_gap": null,
            "grid_row": null,
            "grid_template_areas": null,
            "grid_template_columns": null,
            "grid_template_rows": null,
            "height": null,
            "justify_content": null,
            "justify_items": null,
            "left": null,
            "margin": null,
            "max_height": null,
            "max_width": null,
            "min_height": null,
            "min_width": null,
            "object_fit": null,
            "object_position": null,
            "order": null,
            "overflow": null,
            "overflow_x": null,
            "overflow_y": null,
            "padding": null,
            "right": null,
            "top": null,
            "visibility": null,
            "width": null
          }
        },
        "7b51551525b8437aa6b588186c286cd1": {
          "model_module": "@jupyter-widgets/controls",
          "model_name": "DescriptionStyleModel",
          "model_module_version": "1.5.0",
          "state": {
            "_model_module": "@jupyter-widgets/controls",
            "_model_module_version": "1.5.0",
            "_model_name": "DescriptionStyleModel",
            "_view_count": null,
            "_view_module": "@jupyter-widgets/base",
            "_view_module_version": "1.2.0",
            "_view_name": "StyleView",
            "description_width": ""
          }
        },
        "73e302c3bcbd45c2b6c5313e27508f16": {
          "model_module": "@jupyter-widgets/base",
          "model_name": "LayoutModel",
          "model_module_version": "1.2.0",
          "state": {
            "_model_module": "@jupyter-widgets/base",
            "_model_module_version": "1.2.0",
            "_model_name": "LayoutModel",
            "_view_count": null,
            "_view_module": "@jupyter-widgets/base",
            "_view_module_version": "1.2.0",
            "_view_name": "LayoutView",
            "align_content": null,
            "align_items": null,
            "align_self": null,
            "border": null,
            "bottom": null,
            "display": null,
            "flex": null,
            "flex_flow": null,
            "grid_area": null,
            "grid_auto_columns": null,
            "grid_auto_flow": null,
            "grid_auto_rows": null,
            "grid_column": null,
            "grid_gap": null,
            "grid_row": null,
            "grid_template_areas": null,
            "grid_template_columns": null,
            "grid_template_rows": null,
            "height": null,
            "justify_content": null,
            "justify_items": null,
            "left": null,
            "margin": null,
            "max_height": null,
            "max_width": null,
            "min_height": null,
            "min_width": null,
            "object_fit": null,
            "object_position": null,
            "order": null,
            "overflow": null,
            "overflow_x": null,
            "overflow_y": null,
            "padding": null,
            "right": null,
            "top": null,
            "visibility": null,
            "width": null
          }
        },
        "79b1218ab6b74095b86829012a45fef5": {
          "model_module": "@jupyter-widgets/controls",
          "model_name": "ProgressStyleModel",
          "model_module_version": "1.5.0",
          "state": {
            "_model_module": "@jupyter-widgets/controls",
            "_model_module_version": "1.5.0",
            "_model_name": "ProgressStyleModel",
            "_view_count": null,
            "_view_module": "@jupyter-widgets/base",
            "_view_module_version": "1.2.0",
            "_view_name": "StyleView",
            "bar_color": null,
            "description_width": ""
          }
        },
        "9352bb4989d84201a9456f40694f47c7": {
          "model_module": "@jupyter-widgets/base",
          "model_name": "LayoutModel",
          "model_module_version": "1.2.0",
          "state": {
            "_model_module": "@jupyter-widgets/base",
            "_model_module_version": "1.2.0",
            "_model_name": "LayoutModel",
            "_view_count": null,
            "_view_module": "@jupyter-widgets/base",
            "_view_module_version": "1.2.0",
            "_view_name": "LayoutView",
            "align_content": null,
            "align_items": null,
            "align_self": null,
            "border": null,
            "bottom": null,
            "display": null,
            "flex": null,
            "flex_flow": null,
            "grid_area": null,
            "grid_auto_columns": null,
            "grid_auto_flow": null,
            "grid_auto_rows": null,
            "grid_column": null,
            "grid_gap": null,
            "grid_row": null,
            "grid_template_areas": null,
            "grid_template_columns": null,
            "grid_template_rows": null,
            "height": null,
            "justify_content": null,
            "justify_items": null,
            "left": null,
            "margin": null,
            "max_height": null,
            "max_width": null,
            "min_height": null,
            "min_width": null,
            "object_fit": null,
            "object_position": null,
            "order": null,
            "overflow": null,
            "overflow_x": null,
            "overflow_y": null,
            "padding": null,
            "right": null,
            "top": null,
            "visibility": null,
            "width": null
          }
        },
        "440dec30c39c4b4a8e2fa87a1c028fcc": {
          "model_module": "@jupyter-widgets/controls",
          "model_name": "DescriptionStyleModel",
          "model_module_version": "1.5.0",
          "state": {
            "_model_module": "@jupyter-widgets/controls",
            "_model_module_version": "1.5.0",
            "_model_name": "DescriptionStyleModel",
            "_view_count": null,
            "_view_module": "@jupyter-widgets/base",
            "_view_module_version": "1.2.0",
            "_view_name": "StyleView",
            "description_width": ""
          }
        },
        "dbcc9eb43d754639857a51891816f802": {
          "model_module": "@jupyter-widgets/controls",
          "model_name": "HBoxModel",
          "model_module_version": "1.5.0",
          "state": {
            "_dom_classes": [],
            "_model_module": "@jupyter-widgets/controls",
            "_model_module_version": "1.5.0",
            "_model_name": "HBoxModel",
            "_view_count": null,
            "_view_module": "@jupyter-widgets/controls",
            "_view_module_version": "1.5.0",
            "_view_name": "HBoxView",
            "box_style": "",
            "children": [
              "IPY_MODEL_9b2a6102d1d5443d94e56c85fd191c3c",
              "IPY_MODEL_c9283c07578240d2b68c2f36d9f9a9a7",
              "IPY_MODEL_ed5bb4444a0d45f78829d4a03fd82385"
            ],
            "layout": "IPY_MODEL_bd40b437ee7e488da3a004b4f1853169"
          }
        },
        "9b2a6102d1d5443d94e56c85fd191c3c": {
          "model_module": "@jupyter-widgets/controls",
          "model_name": "HTMLModel",
          "model_module_version": "1.5.0",
          "state": {
            "_dom_classes": [],
            "_model_module": "@jupyter-widgets/controls",
            "_model_module_version": "1.5.0",
            "_model_name": "HTMLModel",
            "_view_count": null,
            "_view_module": "@jupyter-widgets/controls",
            "_view_module_version": "1.5.0",
            "_view_name": "HTMLView",
            "description": "",
            "description_tooltip": null,
            "layout": "IPY_MODEL_ae02346450564789a2f2b7ba74ddb722",
            "placeholder": "​",
            "style": "IPY_MODEL_ceaea3ca666643baa887cccce376e33f",
            "value": "Filter: 100%"
          }
        },
        "c9283c07578240d2b68c2f36d9f9a9a7": {
          "model_module": "@jupyter-widgets/controls",
          "model_name": "FloatProgressModel",
          "model_module_version": "1.5.0",
          "state": {
            "_dom_classes": [],
            "_model_module": "@jupyter-widgets/controls",
            "_model_module_version": "1.5.0",
            "_model_name": "FloatProgressModel",
            "_view_count": null,
            "_view_module": "@jupyter-widgets/controls",
            "_view_module_version": "1.5.0",
            "_view_name": "ProgressView",
            "bar_style": "success",
            "description": "",
            "description_tooltip": null,
            "layout": "IPY_MODEL_9905d239b29642a3988d6262212e9d09",
            "max": 52327,
            "min": 0,
            "orientation": "horizontal",
            "style": "IPY_MODEL_79a237bcad284652a1d5534058efb0bd",
            "value": 52327
          }
        },
        "ed5bb4444a0d45f78829d4a03fd82385": {
          "model_module": "@jupyter-widgets/controls",
          "model_name": "HTMLModel",
          "model_module_version": "1.5.0",
          "state": {
            "_dom_classes": [],
            "_model_module": "@jupyter-widgets/controls",
            "_model_module_version": "1.5.0",
            "_model_name": "HTMLModel",
            "_view_count": null,
            "_view_module": "@jupyter-widgets/controls",
            "_view_module_version": "1.5.0",
            "_view_name": "HTMLView",
            "description": "",
            "description_tooltip": null,
            "layout": "IPY_MODEL_c60d6bb01a9e4715adbd19455e7a8d55",
            "placeholder": "​",
            "style": "IPY_MODEL_dd4ba2cbd4fd4071badbb80b7eddb74a",
            "value": " 52327/52327 [00:02&lt;00:00, 24964.74 examples/s]"
          }
        },
        "bd40b437ee7e488da3a004b4f1853169": {
          "model_module": "@jupyter-widgets/base",
          "model_name": "LayoutModel",
          "model_module_version": "1.2.0",
          "state": {
            "_model_module": "@jupyter-widgets/base",
            "_model_module_version": "1.2.0",
            "_model_name": "LayoutModel",
            "_view_count": null,
            "_view_module": "@jupyter-widgets/base",
            "_view_module_version": "1.2.0",
            "_view_name": "LayoutView",
            "align_content": null,
            "align_items": null,
            "align_self": null,
            "border": null,
            "bottom": null,
            "display": null,
            "flex": null,
            "flex_flow": null,
            "grid_area": null,
            "grid_auto_columns": null,
            "grid_auto_flow": null,
            "grid_auto_rows": null,
            "grid_column": null,
            "grid_gap": null,
            "grid_row": null,
            "grid_template_areas": null,
            "grid_template_columns": null,
            "grid_template_rows": null,
            "height": null,
            "justify_content": null,
            "justify_items": null,
            "left": null,
            "margin": null,
            "max_height": null,
            "max_width": null,
            "min_height": null,
            "min_width": null,
            "object_fit": null,
            "object_position": null,
            "order": null,
            "overflow": null,
            "overflow_x": null,
            "overflow_y": null,
            "padding": null,
            "right": null,
            "top": null,
            "visibility": null,
            "width": null
          }
        },
        "ae02346450564789a2f2b7ba74ddb722": {
          "model_module": "@jupyter-widgets/base",
          "model_name": "LayoutModel",
          "model_module_version": "1.2.0",
          "state": {
            "_model_module": "@jupyter-widgets/base",
            "_model_module_version": "1.2.0",
            "_model_name": "LayoutModel",
            "_view_count": null,
            "_view_module": "@jupyter-widgets/base",
            "_view_module_version": "1.2.0",
            "_view_name": "LayoutView",
            "align_content": null,
            "align_items": null,
            "align_self": null,
            "border": null,
            "bottom": null,
            "display": null,
            "flex": null,
            "flex_flow": null,
            "grid_area": null,
            "grid_auto_columns": null,
            "grid_auto_flow": null,
            "grid_auto_rows": null,
            "grid_column": null,
            "grid_gap": null,
            "grid_row": null,
            "grid_template_areas": null,
            "grid_template_columns": null,
            "grid_template_rows": null,
            "height": null,
            "justify_content": null,
            "justify_items": null,
            "left": null,
            "margin": null,
            "max_height": null,
            "max_width": null,
            "min_height": null,
            "min_width": null,
            "object_fit": null,
            "object_position": null,
            "order": null,
            "overflow": null,
            "overflow_x": null,
            "overflow_y": null,
            "padding": null,
            "right": null,
            "top": null,
            "visibility": null,
            "width": null
          }
        },
        "ceaea3ca666643baa887cccce376e33f": {
          "model_module": "@jupyter-widgets/controls",
          "model_name": "DescriptionStyleModel",
          "model_module_version": "1.5.0",
          "state": {
            "_model_module": "@jupyter-widgets/controls",
            "_model_module_version": "1.5.0",
            "_model_name": "DescriptionStyleModel",
            "_view_count": null,
            "_view_module": "@jupyter-widgets/base",
            "_view_module_version": "1.2.0",
            "_view_name": "StyleView",
            "description_width": ""
          }
        },
        "9905d239b29642a3988d6262212e9d09": {
          "model_module": "@jupyter-widgets/base",
          "model_name": "LayoutModel",
          "model_module_version": "1.2.0",
          "state": {
            "_model_module": "@jupyter-widgets/base",
            "_model_module_version": "1.2.0",
            "_model_name": "LayoutModel",
            "_view_count": null,
            "_view_module": "@jupyter-widgets/base",
            "_view_module_version": "1.2.0",
            "_view_name": "LayoutView",
            "align_content": null,
            "align_items": null,
            "align_self": null,
            "border": null,
            "bottom": null,
            "display": null,
            "flex": null,
            "flex_flow": null,
            "grid_area": null,
            "grid_auto_columns": null,
            "grid_auto_flow": null,
            "grid_auto_rows": null,
            "grid_column": null,
            "grid_gap": null,
            "grid_row": null,
            "grid_template_areas": null,
            "grid_template_columns": null,
            "grid_template_rows": null,
            "height": null,
            "justify_content": null,
            "justify_items": null,
            "left": null,
            "margin": null,
            "max_height": null,
            "max_width": null,
            "min_height": null,
            "min_width": null,
            "object_fit": null,
            "object_position": null,
            "order": null,
            "overflow": null,
            "overflow_x": null,
            "overflow_y": null,
            "padding": null,
            "right": null,
            "top": null,
            "visibility": null,
            "width": null
          }
        },
        "79a237bcad284652a1d5534058efb0bd": {
          "model_module": "@jupyter-widgets/controls",
          "model_name": "ProgressStyleModel",
          "model_module_version": "1.5.0",
          "state": {
            "_model_module": "@jupyter-widgets/controls",
            "_model_module_version": "1.5.0",
            "_model_name": "ProgressStyleModel",
            "_view_count": null,
            "_view_module": "@jupyter-widgets/base",
            "_view_module_version": "1.2.0",
            "_view_name": "StyleView",
            "bar_color": null,
            "description_width": ""
          }
        },
        "c60d6bb01a9e4715adbd19455e7a8d55": {
          "model_module": "@jupyter-widgets/base",
          "model_name": "LayoutModel",
          "model_module_version": "1.2.0",
          "state": {
            "_model_module": "@jupyter-widgets/base",
            "_model_module_version": "1.2.0",
            "_model_name": "LayoutModel",
            "_view_count": null,
            "_view_module": "@jupyter-widgets/base",
            "_view_module_version": "1.2.0",
            "_view_name": "LayoutView",
            "align_content": null,
            "align_items": null,
            "align_self": null,
            "border": null,
            "bottom": null,
            "display": null,
            "flex": null,
            "flex_flow": null,
            "grid_area": null,
            "grid_auto_columns": null,
            "grid_auto_flow": null,
            "grid_auto_rows": null,
            "grid_column": null,
            "grid_gap": null,
            "grid_row": null,
            "grid_template_areas": null,
            "grid_template_columns": null,
            "grid_template_rows": null,
            "height": null,
            "justify_content": null,
            "justify_items": null,
            "left": null,
            "margin": null,
            "max_height": null,
            "max_width": null,
            "min_height": null,
            "min_width": null,
            "object_fit": null,
            "object_position": null,
            "order": null,
            "overflow": null,
            "overflow_x": null,
            "overflow_y": null,
            "padding": null,
            "right": null,
            "top": null,
            "visibility": null,
            "width": null
          }
        },
        "dd4ba2cbd4fd4071badbb80b7eddb74a": {
          "model_module": "@jupyter-widgets/controls",
          "model_name": "DescriptionStyleModel",
          "model_module_version": "1.5.0",
          "state": {
            "_model_module": "@jupyter-widgets/controls",
            "_model_module_version": "1.5.0",
            "_model_name": "DescriptionStyleModel",
            "_view_count": null,
            "_view_module": "@jupyter-widgets/base",
            "_view_module_version": "1.2.0",
            "_view_name": "StyleView",
            "description_width": ""
          }
        },
        "f462a63c03a24eaea1f304885f86a1cb": {
          "model_module": "@jupyter-widgets/controls",
          "model_name": "HBoxModel",
          "model_module_version": "1.5.0",
          "state": {
            "_dom_classes": [],
            "_model_module": "@jupyter-widgets/controls",
            "_model_module_version": "1.5.0",
            "_model_name": "HBoxModel",
            "_view_count": null,
            "_view_module": "@jupyter-widgets/controls",
            "_view_module_version": "1.5.0",
            "_view_name": "HBoxView",
            "box_style": "",
            "children": [
              "IPY_MODEL_ce90a1e52a24474fb0b1b1ffdfba28d9",
              "IPY_MODEL_cd936450e73346029fe0b03c7fb88b55",
              "IPY_MODEL_7c0913256630422baf02454dcb7b4363"
            ],
            "layout": "IPY_MODEL_1fca209341ee41f8b190c8f043d48975"
          }
        },
        "ce90a1e52a24474fb0b1b1ffdfba28d9": {
          "model_module": "@jupyter-widgets/controls",
          "model_name": "HTMLModel",
          "model_module_version": "1.5.0",
          "state": {
            "_dom_classes": [],
            "_model_module": "@jupyter-widgets/controls",
            "_model_module_version": "1.5.0",
            "_model_name": "HTMLModel",
            "_view_count": null,
            "_view_module": "@jupyter-widgets/controls",
            "_view_module_version": "1.5.0",
            "_view_name": "HTMLView",
            "description": "",
            "description_tooltip": null,
            "layout": "IPY_MODEL_568e73e229bf463fbf64f68e1a1922c5",
            "placeholder": "​",
            "style": "IPY_MODEL_ccd0ce9fd4cb4667b8db5f3a3f3c2b83",
            "value": "Filter: 100%"
          }
        },
        "cd936450e73346029fe0b03c7fb88b55": {
          "model_module": "@jupyter-widgets/controls",
          "model_name": "FloatProgressModel",
          "model_module_version": "1.5.0",
          "state": {
            "_dom_classes": [],
            "_model_module": "@jupyter-widgets/controls",
            "_model_module_version": "1.5.0",
            "_model_name": "FloatProgressModel",
            "_view_count": null,
            "_view_module": "@jupyter-widgets/controls",
            "_view_module_version": "1.5.0",
            "_view_name": "ProgressView",
            "bar_style": "success",
            "description": "",
            "description_tooltip": null,
            "layout": "IPY_MODEL_6fcb54fd1be845f3a2d5834a47120860",
            "max": 43598,
            "min": 0,
            "orientation": "horizontal",
            "style": "IPY_MODEL_33083d3c8c1447ecb152a39e1254a3ed",
            "value": 43598
          }
        },
        "7c0913256630422baf02454dcb7b4363": {
          "model_module": "@jupyter-widgets/controls",
          "model_name": "HTMLModel",
          "model_module_version": "1.5.0",
          "state": {
            "_dom_classes": [],
            "_model_module": "@jupyter-widgets/controls",
            "_model_module_version": "1.5.0",
            "_model_name": "HTMLModel",
            "_view_count": null,
            "_view_module": "@jupyter-widgets/controls",
            "_view_module_version": "1.5.0",
            "_view_name": "HTMLView",
            "description": "",
            "description_tooltip": null,
            "layout": "IPY_MODEL_36b1bfb2ee2d4077aa24ef2200554ef5",
            "placeholder": "​",
            "style": "IPY_MODEL_2055cd25718540429ee0f0e599b0168c",
            "value": " 43598/43598 [00:25&lt;00:00, 1918.84 examples/s]"
          }
        },
        "1fca209341ee41f8b190c8f043d48975": {
          "model_module": "@jupyter-widgets/base",
          "model_name": "LayoutModel",
          "model_module_version": "1.2.0",
          "state": {
            "_model_module": "@jupyter-widgets/base",
            "_model_module_version": "1.2.0",
            "_model_name": "LayoutModel",
            "_view_count": null,
            "_view_module": "@jupyter-widgets/base",
            "_view_module_version": "1.2.0",
            "_view_name": "LayoutView",
            "align_content": null,
            "align_items": null,
            "align_self": null,
            "border": null,
            "bottom": null,
            "display": null,
            "flex": null,
            "flex_flow": null,
            "grid_area": null,
            "grid_auto_columns": null,
            "grid_auto_flow": null,
            "grid_auto_rows": null,
            "grid_column": null,
            "grid_gap": null,
            "grid_row": null,
            "grid_template_areas": null,
            "grid_template_columns": null,
            "grid_template_rows": null,
            "height": null,
            "justify_content": null,
            "justify_items": null,
            "left": null,
            "margin": null,
            "max_height": null,
            "max_width": null,
            "min_height": null,
            "min_width": null,
            "object_fit": null,
            "object_position": null,
            "order": null,
            "overflow": null,
            "overflow_x": null,
            "overflow_y": null,
            "padding": null,
            "right": null,
            "top": null,
            "visibility": null,
            "width": null
          }
        },
        "568e73e229bf463fbf64f68e1a1922c5": {
          "model_module": "@jupyter-widgets/base",
          "model_name": "LayoutModel",
          "model_module_version": "1.2.0",
          "state": {
            "_model_module": "@jupyter-widgets/base",
            "_model_module_version": "1.2.0",
            "_model_name": "LayoutModel",
            "_view_count": null,
            "_view_module": "@jupyter-widgets/base",
            "_view_module_version": "1.2.0",
            "_view_name": "LayoutView",
            "align_content": null,
            "align_items": null,
            "align_self": null,
            "border": null,
            "bottom": null,
            "display": null,
            "flex": null,
            "flex_flow": null,
            "grid_area": null,
            "grid_auto_columns": null,
            "grid_auto_flow": null,
            "grid_auto_rows": null,
            "grid_column": null,
            "grid_gap": null,
            "grid_row": null,
            "grid_template_areas": null,
            "grid_template_columns": null,
            "grid_template_rows": null,
            "height": null,
            "justify_content": null,
            "justify_items": null,
            "left": null,
            "margin": null,
            "max_height": null,
            "max_width": null,
            "min_height": null,
            "min_width": null,
            "object_fit": null,
            "object_position": null,
            "order": null,
            "overflow": null,
            "overflow_x": null,
            "overflow_y": null,
            "padding": null,
            "right": null,
            "top": null,
            "visibility": null,
            "width": null
          }
        },
        "ccd0ce9fd4cb4667b8db5f3a3f3c2b83": {
          "model_module": "@jupyter-widgets/controls",
          "model_name": "DescriptionStyleModel",
          "model_module_version": "1.5.0",
          "state": {
            "_model_module": "@jupyter-widgets/controls",
            "_model_module_version": "1.5.0",
            "_model_name": "DescriptionStyleModel",
            "_view_count": null,
            "_view_module": "@jupyter-widgets/base",
            "_view_module_version": "1.2.0",
            "_view_name": "StyleView",
            "description_width": ""
          }
        },
        "6fcb54fd1be845f3a2d5834a47120860": {
          "model_module": "@jupyter-widgets/base",
          "model_name": "LayoutModel",
          "model_module_version": "1.2.0",
          "state": {
            "_model_module": "@jupyter-widgets/base",
            "_model_module_version": "1.2.0",
            "_model_name": "LayoutModel",
            "_view_count": null,
            "_view_module": "@jupyter-widgets/base",
            "_view_module_version": "1.2.0",
            "_view_name": "LayoutView",
            "align_content": null,
            "align_items": null,
            "align_self": null,
            "border": null,
            "bottom": null,
            "display": null,
            "flex": null,
            "flex_flow": null,
            "grid_area": null,
            "grid_auto_columns": null,
            "grid_auto_flow": null,
            "grid_auto_rows": null,
            "grid_column": null,
            "grid_gap": null,
            "grid_row": null,
            "grid_template_areas": null,
            "grid_template_columns": null,
            "grid_template_rows": null,
            "height": null,
            "justify_content": null,
            "justify_items": null,
            "left": null,
            "margin": null,
            "max_height": null,
            "max_width": null,
            "min_height": null,
            "min_width": null,
            "object_fit": null,
            "object_position": null,
            "order": null,
            "overflow": null,
            "overflow_x": null,
            "overflow_y": null,
            "padding": null,
            "right": null,
            "top": null,
            "visibility": null,
            "width": null
          }
        },
        "33083d3c8c1447ecb152a39e1254a3ed": {
          "model_module": "@jupyter-widgets/controls",
          "model_name": "ProgressStyleModel",
          "model_module_version": "1.5.0",
          "state": {
            "_model_module": "@jupyter-widgets/controls",
            "_model_module_version": "1.5.0",
            "_model_name": "ProgressStyleModel",
            "_view_count": null,
            "_view_module": "@jupyter-widgets/base",
            "_view_module_version": "1.2.0",
            "_view_name": "StyleView",
            "bar_color": null,
            "description_width": ""
          }
        },
        "36b1bfb2ee2d4077aa24ef2200554ef5": {
          "model_module": "@jupyter-widgets/base",
          "model_name": "LayoutModel",
          "model_module_version": "1.2.0",
          "state": {
            "_model_module": "@jupyter-widgets/base",
            "_model_module_version": "1.2.0",
            "_model_name": "LayoutModel",
            "_view_count": null,
            "_view_module": "@jupyter-widgets/base",
            "_view_module_version": "1.2.0",
            "_view_name": "LayoutView",
            "align_content": null,
            "align_items": null,
            "align_self": null,
            "border": null,
            "bottom": null,
            "display": null,
            "flex": null,
            "flex_flow": null,
            "grid_area": null,
            "grid_auto_columns": null,
            "grid_auto_flow": null,
            "grid_auto_rows": null,
            "grid_column": null,
            "grid_gap": null,
            "grid_row": null,
            "grid_template_areas": null,
            "grid_template_columns": null,
            "grid_template_rows": null,
            "height": null,
            "justify_content": null,
            "justify_items": null,
            "left": null,
            "margin": null,
            "max_height": null,
            "max_width": null,
            "min_height": null,
            "min_width": null,
            "object_fit": null,
            "object_position": null,
            "order": null,
            "overflow": null,
            "overflow_x": null,
            "overflow_y": null,
            "padding": null,
            "right": null,
            "top": null,
            "visibility": null,
            "width": null
          }
        },
        "2055cd25718540429ee0f0e599b0168c": {
          "model_module": "@jupyter-widgets/controls",
          "model_name": "DescriptionStyleModel",
          "model_module_version": "1.5.0",
          "state": {
            "_model_module": "@jupyter-widgets/controls",
            "_model_module_version": "1.5.0",
            "_model_name": "DescriptionStyleModel",
            "_view_count": null,
            "_view_module": "@jupyter-widgets/base",
            "_view_module_version": "1.2.0",
            "_view_name": "StyleView",
            "description_width": ""
          }
        },
        "be343e3662fb465a9bfda68542b638ae": {
          "model_module": "@jupyter-widgets/controls",
          "model_name": "HBoxModel",
          "model_module_version": "1.5.0",
          "state": {
            "_dom_classes": [],
            "_model_module": "@jupyter-widgets/controls",
            "_model_module_version": "1.5.0",
            "_model_name": "HBoxModel",
            "_view_count": null,
            "_view_module": "@jupyter-widgets/controls",
            "_view_module_version": "1.5.0",
            "_view_name": "HBoxView",
            "box_style": "",
            "children": [
              "IPY_MODEL_f8e77e973d69429d84cd7cf7e3cc627d",
              "IPY_MODEL_0daf8ef2c2894bae8fdea9d770e6295b",
              "IPY_MODEL_1234b1f4431b468e96884ef5b4dc3bb2"
            ],
            "layout": "IPY_MODEL_c77a625f9c3a416faf4fc69d5f82532c"
          }
        },
        "f8e77e973d69429d84cd7cf7e3cc627d": {
          "model_module": "@jupyter-widgets/controls",
          "model_name": "HTMLModel",
          "model_module_version": "1.5.0",
          "state": {
            "_dom_classes": [],
            "_model_module": "@jupyter-widgets/controls",
            "_model_module_version": "1.5.0",
            "_model_name": "HTMLModel",
            "_view_count": null,
            "_view_module": "@jupyter-widgets/controls",
            "_view_module_version": "1.5.0",
            "_view_name": "HTMLView",
            "description": "",
            "description_tooltip": null,
            "layout": "IPY_MODEL_caa2e2690a8543d599b67d8a56d19931",
            "placeholder": "​",
            "style": "IPY_MODEL_31449284a8574e09b25bd2d1332cc664",
            "value": "Filter: 100%"
          }
        },
        "0daf8ef2c2894bae8fdea9d770e6295b": {
          "model_module": "@jupyter-widgets/controls",
          "model_name": "FloatProgressModel",
          "model_module_version": "1.5.0",
          "state": {
            "_dom_classes": [],
            "_model_module": "@jupyter-widgets/controls",
            "_model_module_version": "1.5.0",
            "_model_name": "FloatProgressModel",
            "_view_count": null,
            "_view_module": "@jupyter-widgets/controls",
            "_view_module_version": "1.5.0",
            "_view_name": "ProgressView",
            "bar_style": "success",
            "description": "",
            "description_tooltip": null,
            "layout": "IPY_MODEL_e14067c225d746a590b10d8dd95ebe36",
            "max": 43598,
            "min": 0,
            "orientation": "horizontal",
            "style": "IPY_MODEL_abf2f4a5a3c6471fb3727ecd282369b7",
            "value": 43598
          }
        },
        "1234b1f4431b468e96884ef5b4dc3bb2": {
          "model_module": "@jupyter-widgets/controls",
          "model_name": "HTMLModel",
          "model_module_version": "1.5.0",
          "state": {
            "_dom_classes": [],
            "_model_module": "@jupyter-widgets/controls",
            "_model_module_version": "1.5.0",
            "_model_name": "HTMLModel",
            "_view_count": null,
            "_view_module": "@jupyter-widgets/controls",
            "_view_module_version": "1.5.0",
            "_view_name": "HTMLView",
            "description": "",
            "description_tooltip": null,
            "layout": "IPY_MODEL_4d6f07da7a814efab1ffdc3434127ba0",
            "placeholder": "​",
            "style": "IPY_MODEL_946cc78c165e46d6bc6362b9dbc2cff2",
            "value": " 43598/43598 [00:30&lt;00:00, 1625.51 examples/s]"
          }
        },
        "c77a625f9c3a416faf4fc69d5f82532c": {
          "model_module": "@jupyter-widgets/base",
          "model_name": "LayoutModel",
          "model_module_version": "1.2.0",
          "state": {
            "_model_module": "@jupyter-widgets/base",
            "_model_module_version": "1.2.0",
            "_model_name": "LayoutModel",
            "_view_count": null,
            "_view_module": "@jupyter-widgets/base",
            "_view_module_version": "1.2.0",
            "_view_name": "LayoutView",
            "align_content": null,
            "align_items": null,
            "align_self": null,
            "border": null,
            "bottom": null,
            "display": null,
            "flex": null,
            "flex_flow": null,
            "grid_area": null,
            "grid_auto_columns": null,
            "grid_auto_flow": null,
            "grid_auto_rows": null,
            "grid_column": null,
            "grid_gap": null,
            "grid_row": null,
            "grid_template_areas": null,
            "grid_template_columns": null,
            "grid_template_rows": null,
            "height": null,
            "justify_content": null,
            "justify_items": null,
            "left": null,
            "margin": null,
            "max_height": null,
            "max_width": null,
            "min_height": null,
            "min_width": null,
            "object_fit": null,
            "object_position": null,
            "order": null,
            "overflow": null,
            "overflow_x": null,
            "overflow_y": null,
            "padding": null,
            "right": null,
            "top": null,
            "visibility": null,
            "width": null
          }
        },
        "caa2e2690a8543d599b67d8a56d19931": {
          "model_module": "@jupyter-widgets/base",
          "model_name": "LayoutModel",
          "model_module_version": "1.2.0",
          "state": {
            "_model_module": "@jupyter-widgets/base",
            "_model_module_version": "1.2.0",
            "_model_name": "LayoutModel",
            "_view_count": null,
            "_view_module": "@jupyter-widgets/base",
            "_view_module_version": "1.2.0",
            "_view_name": "LayoutView",
            "align_content": null,
            "align_items": null,
            "align_self": null,
            "border": null,
            "bottom": null,
            "display": null,
            "flex": null,
            "flex_flow": null,
            "grid_area": null,
            "grid_auto_columns": null,
            "grid_auto_flow": null,
            "grid_auto_rows": null,
            "grid_column": null,
            "grid_gap": null,
            "grid_row": null,
            "grid_template_areas": null,
            "grid_template_columns": null,
            "grid_template_rows": null,
            "height": null,
            "justify_content": null,
            "justify_items": null,
            "left": null,
            "margin": null,
            "max_height": null,
            "max_width": null,
            "min_height": null,
            "min_width": null,
            "object_fit": null,
            "object_position": null,
            "order": null,
            "overflow": null,
            "overflow_x": null,
            "overflow_y": null,
            "padding": null,
            "right": null,
            "top": null,
            "visibility": null,
            "width": null
          }
        },
        "31449284a8574e09b25bd2d1332cc664": {
          "model_module": "@jupyter-widgets/controls",
          "model_name": "DescriptionStyleModel",
          "model_module_version": "1.5.0",
          "state": {
            "_model_module": "@jupyter-widgets/controls",
            "_model_module_version": "1.5.0",
            "_model_name": "DescriptionStyleModel",
            "_view_count": null,
            "_view_module": "@jupyter-widgets/base",
            "_view_module_version": "1.2.0",
            "_view_name": "StyleView",
            "description_width": ""
          }
        },
        "e14067c225d746a590b10d8dd95ebe36": {
          "model_module": "@jupyter-widgets/base",
          "model_name": "LayoutModel",
          "model_module_version": "1.2.0",
          "state": {
            "_model_module": "@jupyter-widgets/base",
            "_model_module_version": "1.2.0",
            "_model_name": "LayoutModel",
            "_view_count": null,
            "_view_module": "@jupyter-widgets/base",
            "_view_module_version": "1.2.0",
            "_view_name": "LayoutView",
            "align_content": null,
            "align_items": null,
            "align_self": null,
            "border": null,
            "bottom": null,
            "display": null,
            "flex": null,
            "flex_flow": null,
            "grid_area": null,
            "grid_auto_columns": null,
            "grid_auto_flow": null,
            "grid_auto_rows": null,
            "grid_column": null,
            "grid_gap": null,
            "grid_row": null,
            "grid_template_areas": null,
            "grid_template_columns": null,
            "grid_template_rows": null,
            "height": null,
            "justify_content": null,
            "justify_items": null,
            "left": null,
            "margin": null,
            "max_height": null,
            "max_width": null,
            "min_height": null,
            "min_width": null,
            "object_fit": null,
            "object_position": null,
            "order": null,
            "overflow": null,
            "overflow_x": null,
            "overflow_y": null,
            "padding": null,
            "right": null,
            "top": null,
            "visibility": null,
            "width": null
          }
        },
        "abf2f4a5a3c6471fb3727ecd282369b7": {
          "model_module": "@jupyter-widgets/controls",
          "model_name": "ProgressStyleModel",
          "model_module_version": "1.5.0",
          "state": {
            "_model_module": "@jupyter-widgets/controls",
            "_model_module_version": "1.5.0",
            "_model_name": "ProgressStyleModel",
            "_view_count": null,
            "_view_module": "@jupyter-widgets/base",
            "_view_module_version": "1.2.0",
            "_view_name": "StyleView",
            "bar_color": null,
            "description_width": ""
          }
        },
        "4d6f07da7a814efab1ffdc3434127ba0": {
          "model_module": "@jupyter-widgets/base",
          "model_name": "LayoutModel",
          "model_module_version": "1.2.0",
          "state": {
            "_model_module": "@jupyter-widgets/base",
            "_model_module_version": "1.2.0",
            "_model_name": "LayoutModel",
            "_view_count": null,
            "_view_module": "@jupyter-widgets/base",
            "_view_module_version": "1.2.0",
            "_view_name": "LayoutView",
            "align_content": null,
            "align_items": null,
            "align_self": null,
            "border": null,
            "bottom": null,
            "display": null,
            "flex": null,
            "flex_flow": null,
            "grid_area": null,
            "grid_auto_columns": null,
            "grid_auto_flow": null,
            "grid_auto_rows": null,
            "grid_column": null,
            "grid_gap": null,
            "grid_row": null,
            "grid_template_areas": null,
            "grid_template_columns": null,
            "grid_template_rows": null,
            "height": null,
            "justify_content": null,
            "justify_items": null,
            "left": null,
            "margin": null,
            "max_height": null,
            "max_width": null,
            "min_height": null,
            "min_width": null,
            "object_fit": null,
            "object_position": null,
            "order": null,
            "overflow": null,
            "overflow_x": null,
            "overflow_y": null,
            "padding": null,
            "right": null,
            "top": null,
            "visibility": null,
            "width": null
          }
        },
        "946cc78c165e46d6bc6362b9dbc2cff2": {
          "model_module": "@jupyter-widgets/controls",
          "model_name": "DescriptionStyleModel",
          "model_module_version": "1.5.0",
          "state": {
            "_model_module": "@jupyter-widgets/controls",
            "_model_module_version": "1.5.0",
            "_model_name": "DescriptionStyleModel",
            "_view_count": null,
            "_view_module": "@jupyter-widgets/base",
            "_view_module_version": "1.2.0",
            "_view_name": "StyleView",
            "description_width": ""
          }
        },
        "ad41638e06044883b0f10c0947e21f3e": {
          "model_module": "@jupyter-widgets/controls",
          "model_name": "HBoxModel",
          "model_module_version": "1.5.0",
          "state": {
            "_dom_classes": [],
            "_model_module": "@jupyter-widgets/controls",
            "_model_module_version": "1.5.0",
            "_model_name": "HBoxModel",
            "_view_count": null,
            "_view_module": "@jupyter-widgets/controls",
            "_view_module_version": "1.5.0",
            "_view_name": "HBoxView",
            "box_style": "",
            "children": [
              "IPY_MODEL_0d9ceafc81bc4e168c79d41a651fd1f7",
              "IPY_MODEL_250892086ce9464bbd7ef685fadc9dbd",
              "IPY_MODEL_c6a722436c1e4dd99c69fff37fa39066"
            ],
            "layout": "IPY_MODEL_8678f4a53d254230b623a50f2562b093"
          }
        },
        "0d9ceafc81bc4e168c79d41a651fd1f7": {
          "model_module": "@jupyter-widgets/controls",
          "model_name": "HTMLModel",
          "model_module_version": "1.5.0",
          "state": {
            "_dom_classes": [],
            "_model_module": "@jupyter-widgets/controls",
            "_model_module_version": "1.5.0",
            "_model_name": "HTMLModel",
            "_view_count": null,
            "_view_module": "@jupyter-widgets/controls",
            "_view_module_version": "1.5.0",
            "_view_name": "HTMLView",
            "description": "",
            "description_tooltip": null,
            "layout": "IPY_MODEL_366ae64096c04df098253e5c095a6455",
            "placeholder": "​",
            "style": "IPY_MODEL_e00377cbc18f49af809fe9976dc6900f",
            "value": "Creating parquet from Arrow format: 100%"
          }
        },
        "250892086ce9464bbd7ef685fadc9dbd": {
          "model_module": "@jupyter-widgets/controls",
          "model_name": "FloatProgressModel",
          "model_module_version": "1.5.0",
          "state": {
            "_dom_classes": [],
            "_model_module": "@jupyter-widgets/controls",
            "_model_module_version": "1.5.0",
            "_model_name": "FloatProgressModel",
            "_view_count": null,
            "_view_module": "@jupyter-widgets/controls",
            "_view_module_version": "1.5.0",
            "_view_name": "ProgressView",
            "bar_style": "success",
            "description": "",
            "description_tooltip": null,
            "layout": "IPY_MODEL_62fa3662dd1d4516b111bab2efd6f079",
            "max": 41,
            "min": 0,
            "orientation": "horizontal",
            "style": "IPY_MODEL_6b858f7c9e7040b2865e788809d43ddd",
            "value": 41
          }
        },
        "c6a722436c1e4dd99c69fff37fa39066": {
          "model_module": "@jupyter-widgets/controls",
          "model_name": "HTMLModel",
          "model_module_version": "1.5.0",
          "state": {
            "_dom_classes": [],
            "_model_module": "@jupyter-widgets/controls",
            "_model_module_version": "1.5.0",
            "_model_name": "HTMLModel",
            "_view_count": null,
            "_view_module": "@jupyter-widgets/controls",
            "_view_module_version": "1.5.0",
            "_view_name": "HTMLView",
            "description": "",
            "description_tooltip": null,
            "layout": "IPY_MODEL_6b699497d2224b4789688f917dff64e4",
            "placeholder": "​",
            "style": "IPY_MODEL_9c7b6be83f4048409338b51f503ebe55",
            "value": " 41/41 [00:02&lt;00:00, 17.43ba/s]"
          }
        },
        "8678f4a53d254230b623a50f2562b093": {
          "model_module": "@jupyter-widgets/base",
          "model_name": "LayoutModel",
          "model_module_version": "1.2.0",
          "state": {
            "_model_module": "@jupyter-widgets/base",
            "_model_module_version": "1.2.0",
            "_model_name": "LayoutModel",
            "_view_count": null,
            "_view_module": "@jupyter-widgets/base",
            "_view_module_version": "1.2.0",
            "_view_name": "LayoutView",
            "align_content": null,
            "align_items": null,
            "align_self": null,
            "border": null,
            "bottom": null,
            "display": null,
            "flex": null,
            "flex_flow": null,
            "grid_area": null,
            "grid_auto_columns": null,
            "grid_auto_flow": null,
            "grid_auto_rows": null,
            "grid_column": null,
            "grid_gap": null,
            "grid_row": null,
            "grid_template_areas": null,
            "grid_template_columns": null,
            "grid_template_rows": null,
            "height": null,
            "justify_content": null,
            "justify_items": null,
            "left": null,
            "margin": null,
            "max_height": null,
            "max_width": null,
            "min_height": null,
            "min_width": null,
            "object_fit": null,
            "object_position": null,
            "order": null,
            "overflow": null,
            "overflow_x": null,
            "overflow_y": null,
            "padding": null,
            "right": null,
            "top": null,
            "visibility": null,
            "width": null
          }
        },
        "366ae64096c04df098253e5c095a6455": {
          "model_module": "@jupyter-widgets/base",
          "model_name": "LayoutModel",
          "model_module_version": "1.2.0",
          "state": {
            "_model_module": "@jupyter-widgets/base",
            "_model_module_version": "1.2.0",
            "_model_name": "LayoutModel",
            "_view_count": null,
            "_view_module": "@jupyter-widgets/base",
            "_view_module_version": "1.2.0",
            "_view_name": "LayoutView",
            "align_content": null,
            "align_items": null,
            "align_self": null,
            "border": null,
            "bottom": null,
            "display": null,
            "flex": null,
            "flex_flow": null,
            "grid_area": null,
            "grid_auto_columns": null,
            "grid_auto_flow": null,
            "grid_auto_rows": null,
            "grid_column": null,
            "grid_gap": null,
            "grid_row": null,
            "grid_template_areas": null,
            "grid_template_columns": null,
            "grid_template_rows": null,
            "height": null,
            "justify_content": null,
            "justify_items": null,
            "left": null,
            "margin": null,
            "max_height": null,
            "max_width": null,
            "min_height": null,
            "min_width": null,
            "object_fit": null,
            "object_position": null,
            "order": null,
            "overflow": null,
            "overflow_x": null,
            "overflow_y": null,
            "padding": null,
            "right": null,
            "top": null,
            "visibility": null,
            "width": null
          }
        },
        "e00377cbc18f49af809fe9976dc6900f": {
          "model_module": "@jupyter-widgets/controls",
          "model_name": "DescriptionStyleModel",
          "model_module_version": "1.5.0",
          "state": {
            "_model_module": "@jupyter-widgets/controls",
            "_model_module_version": "1.5.0",
            "_model_name": "DescriptionStyleModel",
            "_view_count": null,
            "_view_module": "@jupyter-widgets/base",
            "_view_module_version": "1.2.0",
            "_view_name": "StyleView",
            "description_width": ""
          }
        },
        "62fa3662dd1d4516b111bab2efd6f079": {
          "model_module": "@jupyter-widgets/base",
          "model_name": "LayoutModel",
          "model_module_version": "1.2.0",
          "state": {
            "_model_module": "@jupyter-widgets/base",
            "_model_module_version": "1.2.0",
            "_model_name": "LayoutModel",
            "_view_count": null,
            "_view_module": "@jupyter-widgets/base",
            "_view_module_version": "1.2.0",
            "_view_name": "LayoutView",
            "align_content": null,
            "align_items": null,
            "align_self": null,
            "border": null,
            "bottom": null,
            "display": null,
            "flex": null,
            "flex_flow": null,
            "grid_area": null,
            "grid_auto_columns": null,
            "grid_auto_flow": null,
            "grid_auto_rows": null,
            "grid_column": null,
            "grid_gap": null,
            "grid_row": null,
            "grid_template_areas": null,
            "grid_template_columns": null,
            "grid_template_rows": null,
            "height": null,
            "justify_content": null,
            "justify_items": null,
            "left": null,
            "margin": null,
            "max_height": null,
            "max_width": null,
            "min_height": null,
            "min_width": null,
            "object_fit": null,
            "object_position": null,
            "order": null,
            "overflow": null,
            "overflow_x": null,
            "overflow_y": null,
            "padding": null,
            "right": null,
            "top": null,
            "visibility": null,
            "width": null
          }
        },
        "6b858f7c9e7040b2865e788809d43ddd": {
          "model_module": "@jupyter-widgets/controls",
          "model_name": "ProgressStyleModel",
          "model_module_version": "1.5.0",
          "state": {
            "_model_module": "@jupyter-widgets/controls",
            "_model_module_version": "1.5.0",
            "_model_name": "ProgressStyleModel",
            "_view_count": null,
            "_view_module": "@jupyter-widgets/base",
            "_view_module_version": "1.2.0",
            "_view_name": "StyleView",
            "bar_color": null,
            "description_width": ""
          }
        },
        "6b699497d2224b4789688f917dff64e4": {
          "model_module": "@jupyter-widgets/base",
          "model_name": "LayoutModel",
          "model_module_version": "1.2.0",
          "state": {
            "_model_module": "@jupyter-widgets/base",
            "_model_module_version": "1.2.0",
            "_model_name": "LayoutModel",
            "_view_count": null,
            "_view_module": "@jupyter-widgets/base",
            "_view_module_version": "1.2.0",
            "_view_name": "LayoutView",
            "align_content": null,
            "align_items": null,
            "align_self": null,
            "border": null,
            "bottom": null,
            "display": null,
            "flex": null,
            "flex_flow": null,
            "grid_area": null,
            "grid_auto_columns": null,
            "grid_auto_flow": null,
            "grid_auto_rows": null,
            "grid_column": null,
            "grid_gap": null,
            "grid_row": null,
            "grid_template_areas": null,
            "grid_template_columns": null,
            "grid_template_rows": null,
            "height": null,
            "justify_content": null,
            "justify_items": null,
            "left": null,
            "margin": null,
            "max_height": null,
            "max_width": null,
            "min_height": null,
            "min_width": null,
            "object_fit": null,
            "object_position": null,
            "order": null,
            "overflow": null,
            "overflow_x": null,
            "overflow_y": null,
            "padding": null,
            "right": null,
            "top": null,
            "visibility": null,
            "width": null
          }
        },
        "9c7b6be83f4048409338b51f503ebe55": {
          "model_module": "@jupyter-widgets/controls",
          "model_name": "DescriptionStyleModel",
          "model_module_version": "1.5.0",
          "state": {
            "_model_module": "@jupyter-widgets/controls",
            "_model_module_version": "1.5.0",
            "_model_name": "DescriptionStyleModel",
            "_view_count": null,
            "_view_module": "@jupyter-widgets/base",
            "_view_module_version": "1.2.0",
            "_view_name": "StyleView",
            "description_width": ""
          }
        },
        "a037be2d72b64d598d2ba7c688a269b8": {
          "model_module": "@jupyter-widgets/controls",
          "model_name": "HBoxModel",
          "model_module_version": "1.5.0",
          "state": {
            "_dom_classes": [],
            "_model_module": "@jupyter-widgets/controls",
            "_model_module_version": "1.5.0",
            "_model_name": "HBoxModel",
            "_view_count": null,
            "_view_module": "@jupyter-widgets/controls",
            "_view_module_version": "1.5.0",
            "_view_name": "HBoxView",
            "box_style": "",
            "children": [
              "IPY_MODEL_61afc5b603f244d7a221f1c2998235dc",
              "IPY_MODEL_af27b336aa24403bb53872d71cd5f67f",
              "IPY_MODEL_8f5beb52952942739b8ba77b968692cc"
            ],
            "layout": "IPY_MODEL_7f848e52b1ee485e90eda74a64efab80"
          }
        },
        "61afc5b603f244d7a221f1c2998235dc": {
          "model_module": "@jupyter-widgets/controls",
          "model_name": "HTMLModel",
          "model_module_version": "1.5.0",
          "state": {
            "_dom_classes": [],
            "_model_module": "@jupyter-widgets/controls",
            "_model_module_version": "1.5.0",
            "_model_name": "HTMLModel",
            "_view_count": null,
            "_view_module": "@jupyter-widgets/controls",
            "_view_module_version": "1.5.0",
            "_view_name": "HTMLView",
            "description": "",
            "description_tooltip": null,
            "layout": "IPY_MODEL_8fd99f091b6a4abe9e67919aed03d8ab",
            "placeholder": "​",
            "style": "IPY_MODEL_a0889a269b6a499aa4cf0c460d76b3b5",
            "value": "Map: 100%"
          }
        },
        "af27b336aa24403bb53872d71cd5f67f": {
          "model_module": "@jupyter-widgets/controls",
          "model_name": "FloatProgressModel",
          "model_module_version": "1.5.0",
          "state": {
            "_dom_classes": [],
            "_model_module": "@jupyter-widgets/controls",
            "_model_module_version": "1.5.0",
            "_model_name": "FloatProgressModel",
            "_view_count": null,
            "_view_module": "@jupyter-widgets/controls",
            "_view_module_version": "1.5.0",
            "_view_name": "ProgressView",
            "bar_style": "success",
            "description": "",
            "description_tooltip": null,
            "layout": "IPY_MODEL_834605b453834f49b0cb0b737b9c5881",
            "max": 4048,
            "min": 0,
            "orientation": "horizontal",
            "style": "IPY_MODEL_fefd13aa4e354a48b9387667346256d0",
            "value": 4048
          }
        },
        "8f5beb52952942739b8ba77b968692cc": {
          "model_module": "@jupyter-widgets/controls",
          "model_name": "HTMLModel",
          "model_module_version": "1.5.0",
          "state": {
            "_dom_classes": [],
            "_model_module": "@jupyter-widgets/controls",
            "_model_module_version": "1.5.0",
            "_model_name": "HTMLModel",
            "_view_count": null,
            "_view_module": "@jupyter-widgets/controls",
            "_view_module_version": "1.5.0",
            "_view_name": "HTMLView",
            "description": "",
            "description_tooltip": null,
            "layout": "IPY_MODEL_55c5756a0f9e4843980da2bcdc4332c5",
            "placeholder": "​",
            "style": "IPY_MODEL_70597cef159d471fa7d3c4ceb424e413",
            "value": " 4048/4048 [00:47&lt;00:00, 61.73 examples/s]"
          }
        },
        "7f848e52b1ee485e90eda74a64efab80": {
          "model_module": "@jupyter-widgets/base",
          "model_name": "LayoutModel",
          "model_module_version": "1.2.0",
          "state": {
            "_model_module": "@jupyter-widgets/base",
            "_model_module_version": "1.2.0",
            "_model_name": "LayoutModel",
            "_view_count": null,
            "_view_module": "@jupyter-widgets/base",
            "_view_module_version": "1.2.0",
            "_view_name": "LayoutView",
            "align_content": null,
            "align_items": null,
            "align_self": null,
            "border": null,
            "bottom": null,
            "display": null,
            "flex": null,
            "flex_flow": null,
            "grid_area": null,
            "grid_auto_columns": null,
            "grid_auto_flow": null,
            "grid_auto_rows": null,
            "grid_column": null,
            "grid_gap": null,
            "grid_row": null,
            "grid_template_areas": null,
            "grid_template_columns": null,
            "grid_template_rows": null,
            "height": null,
            "justify_content": null,
            "justify_items": null,
            "left": null,
            "margin": null,
            "max_height": null,
            "max_width": null,
            "min_height": null,
            "min_width": null,
            "object_fit": null,
            "object_position": null,
            "order": null,
            "overflow": null,
            "overflow_x": null,
            "overflow_y": null,
            "padding": null,
            "right": null,
            "top": null,
            "visibility": null,
            "width": null
          }
        },
        "8fd99f091b6a4abe9e67919aed03d8ab": {
          "model_module": "@jupyter-widgets/base",
          "model_name": "LayoutModel",
          "model_module_version": "1.2.0",
          "state": {
            "_model_module": "@jupyter-widgets/base",
            "_model_module_version": "1.2.0",
            "_model_name": "LayoutModel",
            "_view_count": null,
            "_view_module": "@jupyter-widgets/base",
            "_view_module_version": "1.2.0",
            "_view_name": "LayoutView",
            "align_content": null,
            "align_items": null,
            "align_self": null,
            "border": null,
            "bottom": null,
            "display": null,
            "flex": null,
            "flex_flow": null,
            "grid_area": null,
            "grid_auto_columns": null,
            "grid_auto_flow": null,
            "grid_auto_rows": null,
            "grid_column": null,
            "grid_gap": null,
            "grid_row": null,
            "grid_template_areas": null,
            "grid_template_columns": null,
            "grid_template_rows": null,
            "height": null,
            "justify_content": null,
            "justify_items": null,
            "left": null,
            "margin": null,
            "max_height": null,
            "max_width": null,
            "min_height": null,
            "min_width": null,
            "object_fit": null,
            "object_position": null,
            "order": null,
            "overflow": null,
            "overflow_x": null,
            "overflow_y": null,
            "padding": null,
            "right": null,
            "top": null,
            "visibility": null,
            "width": null
          }
        },
        "a0889a269b6a499aa4cf0c460d76b3b5": {
          "model_module": "@jupyter-widgets/controls",
          "model_name": "DescriptionStyleModel",
          "model_module_version": "1.5.0",
          "state": {
            "_model_module": "@jupyter-widgets/controls",
            "_model_module_version": "1.5.0",
            "_model_name": "DescriptionStyleModel",
            "_view_count": null,
            "_view_module": "@jupyter-widgets/base",
            "_view_module_version": "1.2.0",
            "_view_name": "StyleView",
            "description_width": ""
          }
        },
        "834605b453834f49b0cb0b737b9c5881": {
          "model_module": "@jupyter-widgets/base",
          "model_name": "LayoutModel",
          "model_module_version": "1.2.0",
          "state": {
            "_model_module": "@jupyter-widgets/base",
            "_model_module_version": "1.2.0",
            "_model_name": "LayoutModel",
            "_view_count": null,
            "_view_module": "@jupyter-widgets/base",
            "_view_module_version": "1.2.0",
            "_view_name": "LayoutView",
            "align_content": null,
            "align_items": null,
            "align_self": null,
            "border": null,
            "bottom": null,
            "display": null,
            "flex": null,
            "flex_flow": null,
            "grid_area": null,
            "grid_auto_columns": null,
            "grid_auto_flow": null,
            "grid_auto_rows": null,
            "grid_column": null,
            "grid_gap": null,
            "grid_row": null,
            "grid_template_areas": null,
            "grid_template_columns": null,
            "grid_template_rows": null,
            "height": null,
            "justify_content": null,
            "justify_items": null,
            "left": null,
            "margin": null,
            "max_height": null,
            "max_width": null,
            "min_height": null,
            "min_width": null,
            "object_fit": null,
            "object_position": null,
            "order": null,
            "overflow": null,
            "overflow_x": null,
            "overflow_y": null,
            "padding": null,
            "right": null,
            "top": null,
            "visibility": null,
            "width": null
          }
        },
        "fefd13aa4e354a48b9387667346256d0": {
          "model_module": "@jupyter-widgets/controls",
          "model_name": "ProgressStyleModel",
          "model_module_version": "1.5.0",
          "state": {
            "_model_module": "@jupyter-widgets/controls",
            "_model_module_version": "1.5.0",
            "_model_name": "ProgressStyleModel",
            "_view_count": null,
            "_view_module": "@jupyter-widgets/base",
            "_view_module_version": "1.2.0",
            "_view_name": "StyleView",
            "bar_color": null,
            "description_width": ""
          }
        },
        "55c5756a0f9e4843980da2bcdc4332c5": {
          "model_module": "@jupyter-widgets/base",
          "model_name": "LayoutModel",
          "model_module_version": "1.2.0",
          "state": {
            "_model_module": "@jupyter-widgets/base",
            "_model_module_version": "1.2.0",
            "_model_name": "LayoutModel",
            "_view_count": null,
            "_view_module": "@jupyter-widgets/base",
            "_view_module_version": "1.2.0",
            "_view_name": "LayoutView",
            "align_content": null,
            "align_items": null,
            "align_self": null,
            "border": null,
            "bottom": null,
            "display": null,
            "flex": null,
            "flex_flow": null,
            "grid_area": null,
            "grid_auto_columns": null,
            "grid_auto_flow": null,
            "grid_auto_rows": null,
            "grid_column": null,
            "grid_gap": null,
            "grid_row": null,
            "grid_template_areas": null,
            "grid_template_columns": null,
            "grid_template_rows": null,
            "height": null,
            "justify_content": null,
            "justify_items": null,
            "left": null,
            "margin": null,
            "max_height": null,
            "max_width": null,
            "min_height": null,
            "min_width": null,
            "object_fit": null,
            "object_position": null,
            "order": null,
            "overflow": null,
            "overflow_x": null,
            "overflow_y": null,
            "padding": null,
            "right": null,
            "top": null,
            "visibility": null,
            "width": null
          }
        },
        "70597cef159d471fa7d3c4ceb424e413": {
          "model_module": "@jupyter-widgets/controls",
          "model_name": "DescriptionStyleModel",
          "model_module_version": "1.5.0",
          "state": {
            "_model_module": "@jupyter-widgets/controls",
            "_model_module_version": "1.5.0",
            "_model_name": "DescriptionStyleModel",
            "_view_count": null,
            "_view_module": "@jupyter-widgets/base",
            "_view_module_version": "1.2.0",
            "_view_name": "StyleView",
            "description_width": ""
          }
        },
        "690b01a47fef44a7802f89715e0e1ff5": {
          "model_module": "@jupyter-widgets/controls",
          "model_name": "HBoxModel",
          "model_module_version": "1.5.0",
          "state": {
            "_dom_classes": [],
            "_model_module": "@jupyter-widgets/controls",
            "_model_module_version": "1.5.0",
            "_model_name": "HBoxModel",
            "_view_count": null,
            "_view_module": "@jupyter-widgets/controls",
            "_view_module_version": "1.5.0",
            "_view_name": "HBoxView",
            "box_style": "",
            "children": [
              "IPY_MODEL_2e5d4278814e4f6fb5c7670d3bd4aa6b",
              "IPY_MODEL_efa800333e7d442a8420a4509e918bd2",
              "IPY_MODEL_5b895c1be6f445fcaadc1dc10797d25d"
            ],
            "layout": "IPY_MODEL_c349cf69f6614fe38f3a610cc895811a"
          }
        },
        "2e5d4278814e4f6fb5c7670d3bd4aa6b": {
          "model_module": "@jupyter-widgets/controls",
          "model_name": "HTMLModel",
          "model_module_version": "1.5.0",
          "state": {
            "_dom_classes": [],
            "_model_module": "@jupyter-widgets/controls",
            "_model_module_version": "1.5.0",
            "_model_name": "HTMLModel",
            "_view_count": null,
            "_view_module": "@jupyter-widgets/controls",
            "_view_module_version": "1.5.0",
            "_view_name": "HTMLView",
            "description": "",
            "description_tooltip": null,
            "layout": "IPY_MODEL_3994b0fa89db435e94a888086db3c7d5",
            "placeholder": "​",
            "style": "IPY_MODEL_0a27e2048da149a2ae52414d26bafd5a",
            "value": "Creating parquet from Arrow format: 100%"
          }
        },
        "efa800333e7d442a8420a4509e918bd2": {
          "model_module": "@jupyter-widgets/controls",
          "model_name": "FloatProgressModel",
          "model_module_version": "1.5.0",
          "state": {
            "_dom_classes": [],
            "_model_module": "@jupyter-widgets/controls",
            "_model_module_version": "1.5.0",
            "_model_name": "FloatProgressModel",
            "_view_count": null,
            "_view_module": "@jupyter-widgets/controls",
            "_view_module_version": "1.5.0",
            "_view_name": "ProgressView",
            "bar_style": "success",
            "description": "",
            "description_tooltip": null,
            "layout": "IPY_MODEL_fd64ec226b8246d8a72ef2bf2156cc84",
            "max": 160,
            "min": 0,
            "orientation": "horizontal",
            "style": "IPY_MODEL_df16b5f26f3640c3b65c651d9560d389",
            "value": 160
          }
        },
        "5b895c1be6f445fcaadc1dc10797d25d": {
          "model_module": "@jupyter-widgets/controls",
          "model_name": "HTMLModel",
          "model_module_version": "1.5.0",
          "state": {
            "_dom_classes": [],
            "_model_module": "@jupyter-widgets/controls",
            "_model_module_version": "1.5.0",
            "_model_name": "HTMLModel",
            "_view_count": null,
            "_view_module": "@jupyter-widgets/controls",
            "_view_module_version": "1.5.0",
            "_view_name": "HTMLView",
            "description": "",
            "description_tooltip": null,
            "layout": "IPY_MODEL_b4be0ff1a4c24d479da2685ac21379b0",
            "placeholder": "​",
            "style": "IPY_MODEL_4ac95f3f751f425790f3c980f0f63ecc",
            "value": " 160/160 [00:00&lt;00:00, 273.41ba/s]"
          }
        },
        "c349cf69f6614fe38f3a610cc895811a": {
          "model_module": "@jupyter-widgets/base",
          "model_name": "LayoutModel",
          "model_module_version": "1.2.0",
          "state": {
            "_model_module": "@jupyter-widgets/base",
            "_model_module_version": "1.2.0",
            "_model_name": "LayoutModel",
            "_view_count": null,
            "_view_module": "@jupyter-widgets/base",
            "_view_module_version": "1.2.0",
            "_view_name": "LayoutView",
            "align_content": null,
            "align_items": null,
            "align_self": null,
            "border": null,
            "bottom": null,
            "display": null,
            "flex": null,
            "flex_flow": null,
            "grid_area": null,
            "grid_auto_columns": null,
            "grid_auto_flow": null,
            "grid_auto_rows": null,
            "grid_column": null,
            "grid_gap": null,
            "grid_row": null,
            "grid_template_areas": null,
            "grid_template_columns": null,
            "grid_template_rows": null,
            "height": null,
            "justify_content": null,
            "justify_items": null,
            "left": null,
            "margin": null,
            "max_height": null,
            "max_width": null,
            "min_height": null,
            "min_width": null,
            "object_fit": null,
            "object_position": null,
            "order": null,
            "overflow": null,
            "overflow_x": null,
            "overflow_y": null,
            "padding": null,
            "right": null,
            "top": null,
            "visibility": null,
            "width": null
          }
        },
        "3994b0fa89db435e94a888086db3c7d5": {
          "model_module": "@jupyter-widgets/base",
          "model_name": "LayoutModel",
          "model_module_version": "1.2.0",
          "state": {
            "_model_module": "@jupyter-widgets/base",
            "_model_module_version": "1.2.0",
            "_model_name": "LayoutModel",
            "_view_count": null,
            "_view_module": "@jupyter-widgets/base",
            "_view_module_version": "1.2.0",
            "_view_name": "LayoutView",
            "align_content": null,
            "align_items": null,
            "align_self": null,
            "border": null,
            "bottom": null,
            "display": null,
            "flex": null,
            "flex_flow": null,
            "grid_area": null,
            "grid_auto_columns": null,
            "grid_auto_flow": null,
            "grid_auto_rows": null,
            "grid_column": null,
            "grid_gap": null,
            "grid_row": null,
            "grid_template_areas": null,
            "grid_template_columns": null,
            "grid_template_rows": null,
            "height": null,
            "justify_content": null,
            "justify_items": null,
            "left": null,
            "margin": null,
            "max_height": null,
            "max_width": null,
            "min_height": null,
            "min_width": null,
            "object_fit": null,
            "object_position": null,
            "order": null,
            "overflow": null,
            "overflow_x": null,
            "overflow_y": null,
            "padding": null,
            "right": null,
            "top": null,
            "visibility": null,
            "width": null
          }
        },
        "0a27e2048da149a2ae52414d26bafd5a": {
          "model_module": "@jupyter-widgets/controls",
          "model_name": "DescriptionStyleModel",
          "model_module_version": "1.5.0",
          "state": {
            "_model_module": "@jupyter-widgets/controls",
            "_model_module_version": "1.5.0",
            "_model_name": "DescriptionStyleModel",
            "_view_count": null,
            "_view_module": "@jupyter-widgets/base",
            "_view_module_version": "1.2.0",
            "_view_name": "StyleView",
            "description_width": ""
          }
        },
        "fd64ec226b8246d8a72ef2bf2156cc84": {
          "model_module": "@jupyter-widgets/base",
          "model_name": "LayoutModel",
          "model_module_version": "1.2.0",
          "state": {
            "_model_module": "@jupyter-widgets/base",
            "_model_module_version": "1.2.0",
            "_model_name": "LayoutModel",
            "_view_count": null,
            "_view_module": "@jupyter-widgets/base",
            "_view_module_version": "1.2.0",
            "_view_name": "LayoutView",
            "align_content": null,
            "align_items": null,
            "align_self": null,
            "border": null,
            "bottom": null,
            "display": null,
            "flex": null,
            "flex_flow": null,
            "grid_area": null,
            "grid_auto_columns": null,
            "grid_auto_flow": null,
            "grid_auto_rows": null,
            "grid_column": null,
            "grid_gap": null,
            "grid_row": null,
            "grid_template_areas": null,
            "grid_template_columns": null,
            "grid_template_rows": null,
            "height": null,
            "justify_content": null,
            "justify_items": null,
            "left": null,
            "margin": null,
            "max_height": null,
            "max_width": null,
            "min_height": null,
            "min_width": null,
            "object_fit": null,
            "object_position": null,
            "order": null,
            "overflow": null,
            "overflow_x": null,
            "overflow_y": null,
            "padding": null,
            "right": null,
            "top": null,
            "visibility": null,
            "width": null
          }
        },
        "df16b5f26f3640c3b65c651d9560d389": {
          "model_module": "@jupyter-widgets/controls",
          "model_name": "ProgressStyleModel",
          "model_module_version": "1.5.0",
          "state": {
            "_model_module": "@jupyter-widgets/controls",
            "_model_module_version": "1.5.0",
            "_model_name": "ProgressStyleModel",
            "_view_count": null,
            "_view_module": "@jupyter-widgets/base",
            "_view_module_version": "1.2.0",
            "_view_name": "StyleView",
            "bar_color": null,
            "description_width": ""
          }
        },
        "b4be0ff1a4c24d479da2685ac21379b0": {
          "model_module": "@jupyter-widgets/base",
          "model_name": "LayoutModel",
          "model_module_version": "1.2.0",
          "state": {
            "_model_module": "@jupyter-widgets/base",
            "_model_module_version": "1.2.0",
            "_model_name": "LayoutModel",
            "_view_count": null,
            "_view_module": "@jupyter-widgets/base",
            "_view_module_version": "1.2.0",
            "_view_name": "LayoutView",
            "align_content": null,
            "align_items": null,
            "align_self": null,
            "border": null,
            "bottom": null,
            "display": null,
            "flex": null,
            "flex_flow": null,
            "grid_area": null,
            "grid_auto_columns": null,
            "grid_auto_flow": null,
            "grid_auto_rows": null,
            "grid_column": null,
            "grid_gap": null,
            "grid_row": null,
            "grid_template_areas": null,
            "grid_template_columns": null,
            "grid_template_rows": null,
            "height": null,
            "justify_content": null,
            "justify_items": null,
            "left": null,
            "margin": null,
            "max_height": null,
            "max_width": null,
            "min_height": null,
            "min_width": null,
            "object_fit": null,
            "object_position": null,
            "order": null,
            "overflow": null,
            "overflow_x": null,
            "overflow_y": null,
            "padding": null,
            "right": null,
            "top": null,
            "visibility": null,
            "width": null
          }
        },
        "4ac95f3f751f425790f3c980f0f63ecc": {
          "model_module": "@jupyter-widgets/controls",
          "model_name": "DescriptionStyleModel",
          "model_module_version": "1.5.0",
          "state": {
            "_model_module": "@jupyter-widgets/controls",
            "_model_module_version": "1.5.0",
            "_model_name": "DescriptionStyleModel",
            "_view_count": null,
            "_view_module": "@jupyter-widgets/base",
            "_view_module_version": "1.2.0",
            "_view_name": "StyleView",
            "description_width": ""
          }
        },
        "177f9f042cb34a9da5b31a26ec500589": {
          "model_module": "@jupyter-widgets/controls",
          "model_name": "HBoxModel",
          "model_module_version": "1.5.0",
          "state": {
            "_dom_classes": [],
            "_model_module": "@jupyter-widgets/controls",
            "_model_module_version": "1.5.0",
            "_model_name": "HBoxModel",
            "_view_count": null,
            "_view_module": "@jupyter-widgets/controls",
            "_view_module_version": "1.5.0",
            "_view_name": "HBoxView",
            "box_style": "",
            "children": [
              "IPY_MODEL_2527d351d9ff4b0287a97e26b318823d",
              "IPY_MODEL_de3da2ab20ef40bfbc7574f7184a3064",
              "IPY_MODEL_d5e9cdf4100540e6a21cebfbaeae5eeb"
            ],
            "layout": "IPY_MODEL_cf1b7a1284094491a82610bbd87e3994"
          }
        },
        "2527d351d9ff4b0287a97e26b318823d": {
          "model_module": "@jupyter-widgets/controls",
          "model_name": "HTMLModel",
          "model_module_version": "1.5.0",
          "state": {
            "_dom_classes": [],
            "_model_module": "@jupyter-widgets/controls",
            "_model_module_version": "1.5.0",
            "_model_name": "HTMLModel",
            "_view_count": null,
            "_view_module": "@jupyter-widgets/controls",
            "_view_module_version": "1.5.0",
            "_view_name": "HTMLView",
            "description": "",
            "description_tooltip": null,
            "layout": "IPY_MODEL_fdcfee81ec144aa19186bc4e9f574a93",
            "placeholder": "​",
            "style": "IPY_MODEL_f4f362de0d1f448c9b6ca886453ff84e",
            "value": "Downloading data: 100%"
          }
        },
        "de3da2ab20ef40bfbc7574f7184a3064": {
          "model_module": "@jupyter-widgets/controls",
          "model_name": "FloatProgressModel",
          "model_module_version": "1.5.0",
          "state": {
            "_dom_classes": [],
            "_model_module": "@jupyter-widgets/controls",
            "_model_module_version": "1.5.0",
            "_model_name": "FloatProgressModel",
            "_view_count": null,
            "_view_module": "@jupyter-widgets/controls",
            "_view_module_version": "1.5.0",
            "_view_name": "ProgressView",
            "bar_style": "success",
            "description": "",
            "description_tooltip": null,
            "layout": "IPY_MODEL_9b7df8ba650d474da9cb2d43e4bb5864",
            "max": 150058575,
            "min": 0,
            "orientation": "horizontal",
            "style": "IPY_MODEL_32e0b5f3865147e99c99e108f13b05eb",
            "value": 150058575
          }
        },
        "d5e9cdf4100540e6a21cebfbaeae5eeb": {
          "model_module": "@jupyter-widgets/controls",
          "model_name": "HTMLModel",
          "model_module_version": "1.5.0",
          "state": {
            "_dom_classes": [],
            "_model_module": "@jupyter-widgets/controls",
            "_model_module_version": "1.5.0",
            "_model_name": "HTMLModel",
            "_view_count": null,
            "_view_module": "@jupyter-widgets/controls",
            "_view_module_version": "1.5.0",
            "_view_name": "HTMLView",
            "description": "",
            "description_tooltip": null,
            "layout": "IPY_MODEL_6c98da8e416841fdbbfa4715a7ed7ade",
            "placeholder": "​",
            "style": "IPY_MODEL_9567edbf7af04d21a2bc5d7f56ea96cc",
            "value": " 150M/150M [00:02&lt;00:00, 88.2MB/s]"
          }
        },
        "cf1b7a1284094491a82610bbd87e3994": {
          "model_module": "@jupyter-widgets/base",
          "model_name": "LayoutModel",
          "model_module_version": "1.2.0",
          "state": {
            "_model_module": "@jupyter-widgets/base",
            "_model_module_version": "1.2.0",
            "_model_name": "LayoutModel",
            "_view_count": null,
            "_view_module": "@jupyter-widgets/base",
            "_view_module_version": "1.2.0",
            "_view_name": "LayoutView",
            "align_content": null,
            "align_items": null,
            "align_self": null,
            "border": null,
            "bottom": null,
            "display": null,
            "flex": null,
            "flex_flow": null,
            "grid_area": null,
            "grid_auto_columns": null,
            "grid_auto_flow": null,
            "grid_auto_rows": null,
            "grid_column": null,
            "grid_gap": null,
            "grid_row": null,
            "grid_template_areas": null,
            "grid_template_columns": null,
            "grid_template_rows": null,
            "height": null,
            "justify_content": null,
            "justify_items": null,
            "left": null,
            "margin": null,
            "max_height": null,
            "max_width": null,
            "min_height": null,
            "min_width": null,
            "object_fit": null,
            "object_position": null,
            "order": null,
            "overflow": null,
            "overflow_x": null,
            "overflow_y": null,
            "padding": null,
            "right": null,
            "top": null,
            "visibility": null,
            "width": null
          }
        },
        "fdcfee81ec144aa19186bc4e9f574a93": {
          "model_module": "@jupyter-widgets/base",
          "model_name": "LayoutModel",
          "model_module_version": "1.2.0",
          "state": {
            "_model_module": "@jupyter-widgets/base",
            "_model_module_version": "1.2.0",
            "_model_name": "LayoutModel",
            "_view_count": null,
            "_view_module": "@jupyter-widgets/base",
            "_view_module_version": "1.2.0",
            "_view_name": "LayoutView",
            "align_content": null,
            "align_items": null,
            "align_self": null,
            "border": null,
            "bottom": null,
            "display": null,
            "flex": null,
            "flex_flow": null,
            "grid_area": null,
            "grid_auto_columns": null,
            "grid_auto_flow": null,
            "grid_auto_rows": null,
            "grid_column": null,
            "grid_gap": null,
            "grid_row": null,
            "grid_template_areas": null,
            "grid_template_columns": null,
            "grid_template_rows": null,
            "height": null,
            "justify_content": null,
            "justify_items": null,
            "left": null,
            "margin": null,
            "max_height": null,
            "max_width": null,
            "min_height": null,
            "min_width": null,
            "object_fit": null,
            "object_position": null,
            "order": null,
            "overflow": null,
            "overflow_x": null,
            "overflow_y": null,
            "padding": null,
            "right": null,
            "top": null,
            "visibility": null,
            "width": null
          }
        },
        "f4f362de0d1f448c9b6ca886453ff84e": {
          "model_module": "@jupyter-widgets/controls",
          "model_name": "DescriptionStyleModel",
          "model_module_version": "1.5.0",
          "state": {
            "_model_module": "@jupyter-widgets/controls",
            "_model_module_version": "1.5.0",
            "_model_name": "DescriptionStyleModel",
            "_view_count": null,
            "_view_module": "@jupyter-widgets/base",
            "_view_module_version": "1.2.0",
            "_view_name": "StyleView",
            "description_width": ""
          }
        },
        "9b7df8ba650d474da9cb2d43e4bb5864": {
          "model_module": "@jupyter-widgets/base",
          "model_name": "LayoutModel",
          "model_module_version": "1.2.0",
          "state": {
            "_model_module": "@jupyter-widgets/base",
            "_model_module_version": "1.2.0",
            "_model_name": "LayoutModel",
            "_view_count": null,
            "_view_module": "@jupyter-widgets/base",
            "_view_module_version": "1.2.0",
            "_view_name": "LayoutView",
            "align_content": null,
            "align_items": null,
            "align_self": null,
            "border": null,
            "bottom": null,
            "display": null,
            "flex": null,
            "flex_flow": null,
            "grid_area": null,
            "grid_auto_columns": null,
            "grid_auto_flow": null,
            "grid_auto_rows": null,
            "grid_column": null,
            "grid_gap": null,
            "grid_row": null,
            "grid_template_areas": null,
            "grid_template_columns": null,
            "grid_template_rows": null,
            "height": null,
            "justify_content": null,
            "justify_items": null,
            "left": null,
            "margin": null,
            "max_height": null,
            "max_width": null,
            "min_height": null,
            "min_width": null,
            "object_fit": null,
            "object_position": null,
            "order": null,
            "overflow": null,
            "overflow_x": null,
            "overflow_y": null,
            "padding": null,
            "right": null,
            "top": null,
            "visibility": null,
            "width": null
          }
        },
        "32e0b5f3865147e99c99e108f13b05eb": {
          "model_module": "@jupyter-widgets/controls",
          "model_name": "ProgressStyleModel",
          "model_module_version": "1.5.0",
          "state": {
            "_model_module": "@jupyter-widgets/controls",
            "_model_module_version": "1.5.0",
            "_model_name": "ProgressStyleModel",
            "_view_count": null,
            "_view_module": "@jupyter-widgets/base",
            "_view_module_version": "1.2.0",
            "_view_name": "StyleView",
            "bar_color": null,
            "description_width": ""
          }
        },
        "6c98da8e416841fdbbfa4715a7ed7ade": {
          "model_module": "@jupyter-widgets/base",
          "model_name": "LayoutModel",
          "model_module_version": "1.2.0",
          "state": {
            "_model_module": "@jupyter-widgets/base",
            "_model_module_version": "1.2.0",
            "_model_name": "LayoutModel",
            "_view_count": null,
            "_view_module": "@jupyter-widgets/base",
            "_view_module_version": "1.2.0",
            "_view_name": "LayoutView",
            "align_content": null,
            "align_items": null,
            "align_self": null,
            "border": null,
            "bottom": null,
            "display": null,
            "flex": null,
            "flex_flow": null,
            "grid_area": null,
            "grid_auto_columns": null,
            "grid_auto_flow": null,
            "grid_auto_rows": null,
            "grid_column": null,
            "grid_gap": null,
            "grid_row": null,
            "grid_template_areas": null,
            "grid_template_columns": null,
            "grid_template_rows": null,
            "height": null,
            "justify_content": null,
            "justify_items": null,
            "left": null,
            "margin": null,
            "max_height": null,
            "max_width": null,
            "min_height": null,
            "min_width": null,
            "object_fit": null,
            "object_position": null,
            "order": null,
            "overflow": null,
            "overflow_x": null,
            "overflow_y": null,
            "padding": null,
            "right": null,
            "top": null,
            "visibility": null,
            "width": null
          }
        },
        "9567edbf7af04d21a2bc5d7f56ea96cc": {
          "model_module": "@jupyter-widgets/controls",
          "model_name": "DescriptionStyleModel",
          "model_module_version": "1.5.0",
          "state": {
            "_model_module": "@jupyter-widgets/controls",
            "_model_module_version": "1.5.0",
            "_model_name": "DescriptionStyleModel",
            "_view_count": null,
            "_view_module": "@jupyter-widgets/base",
            "_view_module_version": "1.2.0",
            "_view_name": "StyleView",
            "description_width": ""
          }
        },
        "6fcb6460b3504ebbb7ede98219e149cf": {
          "model_module": "@jupyter-widgets/controls",
          "model_name": "HBoxModel",
          "model_module_version": "1.5.0",
          "state": {
            "_dom_classes": [],
            "_model_module": "@jupyter-widgets/controls",
            "_model_module_version": "1.5.0",
            "_model_name": "HBoxModel",
            "_view_count": null,
            "_view_module": "@jupyter-widgets/controls",
            "_view_module_version": "1.5.0",
            "_view_name": "HBoxView",
            "box_style": "",
            "children": [
              "IPY_MODEL_46871cee4f0347a6a68e57f4c5e2121d",
              "IPY_MODEL_9a96e4dd3a5049b588ef72456a0d2a35",
              "IPY_MODEL_bb845d523d964b87b0118c3b37e621cc"
            ],
            "layout": "IPY_MODEL_25e5278a74514597ba1fcb281cd40fac"
          }
        },
        "46871cee4f0347a6a68e57f4c5e2121d": {
          "model_module": "@jupyter-widgets/controls",
          "model_name": "HTMLModel",
          "model_module_version": "1.5.0",
          "state": {
            "_dom_classes": [],
            "_model_module": "@jupyter-widgets/controls",
            "_model_module_version": "1.5.0",
            "_model_name": "HTMLModel",
            "_view_count": null,
            "_view_module": "@jupyter-widgets/controls",
            "_view_module_version": "1.5.0",
            "_view_name": "HTMLView",
            "description": "",
            "description_tooltip": null,
            "layout": "IPY_MODEL_0c18781af32244edaf1b998185fa32c6",
            "placeholder": "​",
            "style": "IPY_MODEL_f3b4597bfd95406f917b247415561d49",
            "value": "Generating train split: 100%"
          }
        },
        "9a96e4dd3a5049b588ef72456a0d2a35": {
          "model_module": "@jupyter-widgets/controls",
          "model_name": "FloatProgressModel",
          "model_module_version": "1.5.0",
          "state": {
            "_dom_classes": [],
            "_model_module": "@jupyter-widgets/controls",
            "_model_module_version": "1.5.0",
            "_model_name": "FloatProgressModel",
            "_view_count": null,
            "_view_module": "@jupyter-widgets/controls",
            "_view_module_version": "1.5.0",
            "_view_name": "ProgressView",
            "bar_style": "success",
            "description": "",
            "description_tooltip": null,
            "layout": "IPY_MODEL_b672a941fd7e4914bde8d4cf7843281a",
            "max": 60000,
            "min": 0,
            "orientation": "horizontal",
            "style": "IPY_MODEL_e40bcc4cc51b44aa91f9ceb7a1c2b5c4",
            "value": 60000
          }
        },
        "bb845d523d964b87b0118c3b37e621cc": {
          "model_module": "@jupyter-widgets/controls",
          "model_name": "HTMLModel",
          "model_module_version": "1.5.0",
          "state": {
            "_dom_classes": [],
            "_model_module": "@jupyter-widgets/controls",
            "_model_module_version": "1.5.0",
            "_model_name": "HTMLModel",
            "_view_count": null,
            "_view_module": "@jupyter-widgets/controls",
            "_view_module_version": "1.5.0",
            "_view_name": "HTMLView",
            "description": "",
            "description_tooltip": null,
            "layout": "IPY_MODEL_76d7e77a49c3482fb9e4b1aea162a390",
            "placeholder": "​",
            "style": "IPY_MODEL_6c2a496cce984ab29721f0f05f3dbe5a",
            "value": " 60000/60000 [00:01&lt;00:00, 58246.26 examples/s]"
          }
        },
        "25e5278a74514597ba1fcb281cd40fac": {
          "model_module": "@jupyter-widgets/base",
          "model_name": "LayoutModel",
          "model_module_version": "1.2.0",
          "state": {
            "_model_module": "@jupyter-widgets/base",
            "_model_module_version": "1.2.0",
            "_model_name": "LayoutModel",
            "_view_count": null,
            "_view_module": "@jupyter-widgets/base",
            "_view_module_version": "1.2.0",
            "_view_name": "LayoutView",
            "align_content": null,
            "align_items": null,
            "align_self": null,
            "border": null,
            "bottom": null,
            "display": null,
            "flex": null,
            "flex_flow": null,
            "grid_area": null,
            "grid_auto_columns": null,
            "grid_auto_flow": null,
            "grid_auto_rows": null,
            "grid_column": null,
            "grid_gap": null,
            "grid_row": null,
            "grid_template_areas": null,
            "grid_template_columns": null,
            "grid_template_rows": null,
            "height": null,
            "justify_content": null,
            "justify_items": null,
            "left": null,
            "margin": null,
            "max_height": null,
            "max_width": null,
            "min_height": null,
            "min_width": null,
            "object_fit": null,
            "object_position": null,
            "order": null,
            "overflow": null,
            "overflow_x": null,
            "overflow_y": null,
            "padding": null,
            "right": null,
            "top": null,
            "visibility": null,
            "width": null
          }
        },
        "0c18781af32244edaf1b998185fa32c6": {
          "model_module": "@jupyter-widgets/base",
          "model_name": "LayoutModel",
          "model_module_version": "1.2.0",
          "state": {
            "_model_module": "@jupyter-widgets/base",
            "_model_module_version": "1.2.0",
            "_model_name": "LayoutModel",
            "_view_count": null,
            "_view_module": "@jupyter-widgets/base",
            "_view_module_version": "1.2.0",
            "_view_name": "LayoutView",
            "align_content": null,
            "align_items": null,
            "align_self": null,
            "border": null,
            "bottom": null,
            "display": null,
            "flex": null,
            "flex_flow": null,
            "grid_area": null,
            "grid_auto_columns": null,
            "grid_auto_flow": null,
            "grid_auto_rows": null,
            "grid_column": null,
            "grid_gap": null,
            "grid_row": null,
            "grid_template_areas": null,
            "grid_template_columns": null,
            "grid_template_rows": null,
            "height": null,
            "justify_content": null,
            "justify_items": null,
            "left": null,
            "margin": null,
            "max_height": null,
            "max_width": null,
            "min_height": null,
            "min_width": null,
            "object_fit": null,
            "object_position": null,
            "order": null,
            "overflow": null,
            "overflow_x": null,
            "overflow_y": null,
            "padding": null,
            "right": null,
            "top": null,
            "visibility": null,
            "width": null
          }
        },
        "f3b4597bfd95406f917b247415561d49": {
          "model_module": "@jupyter-widgets/controls",
          "model_name": "DescriptionStyleModel",
          "model_module_version": "1.5.0",
          "state": {
            "_model_module": "@jupyter-widgets/controls",
            "_model_module_version": "1.5.0",
            "_model_name": "DescriptionStyleModel",
            "_view_count": null,
            "_view_module": "@jupyter-widgets/base",
            "_view_module_version": "1.2.0",
            "_view_name": "StyleView",
            "description_width": ""
          }
        },
        "b672a941fd7e4914bde8d4cf7843281a": {
          "model_module": "@jupyter-widgets/base",
          "model_name": "LayoutModel",
          "model_module_version": "1.2.0",
          "state": {
            "_model_module": "@jupyter-widgets/base",
            "_model_module_version": "1.2.0",
            "_model_name": "LayoutModel",
            "_view_count": null,
            "_view_module": "@jupyter-widgets/base",
            "_view_module_version": "1.2.0",
            "_view_name": "LayoutView",
            "align_content": null,
            "align_items": null,
            "align_self": null,
            "border": null,
            "bottom": null,
            "display": null,
            "flex": null,
            "flex_flow": null,
            "grid_area": null,
            "grid_auto_columns": null,
            "grid_auto_flow": null,
            "grid_auto_rows": null,
            "grid_column": null,
            "grid_gap": null,
            "grid_row": null,
            "grid_template_areas": null,
            "grid_template_columns": null,
            "grid_template_rows": null,
            "height": null,
            "justify_content": null,
            "justify_items": null,
            "left": null,
            "margin": null,
            "max_height": null,
            "max_width": null,
            "min_height": null,
            "min_width": null,
            "object_fit": null,
            "object_position": null,
            "order": null,
            "overflow": null,
            "overflow_x": null,
            "overflow_y": null,
            "padding": null,
            "right": null,
            "top": null,
            "visibility": null,
            "width": null
          }
        },
        "e40bcc4cc51b44aa91f9ceb7a1c2b5c4": {
          "model_module": "@jupyter-widgets/controls",
          "model_name": "ProgressStyleModel",
          "model_module_version": "1.5.0",
          "state": {
            "_model_module": "@jupyter-widgets/controls",
            "_model_module_version": "1.5.0",
            "_model_name": "ProgressStyleModel",
            "_view_count": null,
            "_view_module": "@jupyter-widgets/base",
            "_view_module_version": "1.2.0",
            "_view_name": "StyleView",
            "bar_color": null,
            "description_width": ""
          }
        },
        "76d7e77a49c3482fb9e4b1aea162a390": {
          "model_module": "@jupyter-widgets/base",
          "model_name": "LayoutModel",
          "model_module_version": "1.2.0",
          "state": {
            "_model_module": "@jupyter-widgets/base",
            "_model_module_version": "1.2.0",
            "_model_name": "LayoutModel",
            "_view_count": null,
            "_view_module": "@jupyter-widgets/base",
            "_view_module_version": "1.2.0",
            "_view_name": "LayoutView",
            "align_content": null,
            "align_items": null,
            "align_self": null,
            "border": null,
            "bottom": null,
            "display": null,
            "flex": null,
            "flex_flow": null,
            "grid_area": null,
            "grid_auto_columns": null,
            "grid_auto_flow": null,
            "grid_auto_rows": null,
            "grid_column": null,
            "grid_gap": null,
            "grid_row": null,
            "grid_template_areas": null,
            "grid_template_columns": null,
            "grid_template_rows": null,
            "height": null,
            "justify_content": null,
            "justify_items": null,
            "left": null,
            "margin": null,
            "max_height": null,
            "max_width": null,
            "min_height": null,
            "min_width": null,
            "object_fit": null,
            "object_position": null,
            "order": null,
            "overflow": null,
            "overflow_x": null,
            "overflow_y": null,
            "padding": null,
            "right": null,
            "top": null,
            "visibility": null,
            "width": null
          }
        },
        "6c2a496cce984ab29721f0f05f3dbe5a": {
          "model_module": "@jupyter-widgets/controls",
          "model_name": "DescriptionStyleModel",
          "model_module_version": "1.5.0",
          "state": {
            "_model_module": "@jupyter-widgets/controls",
            "_model_module_version": "1.5.0",
            "_model_name": "DescriptionStyleModel",
            "_view_count": null,
            "_view_module": "@jupyter-widgets/base",
            "_view_module_version": "1.2.0",
            "_view_name": "StyleView",
            "description_width": ""
          }
        },
        "9690305921574f88bf5af66c23dea271": {
          "model_module": "@jupyter-widgets/controls",
          "model_name": "HBoxModel",
          "model_module_version": "1.5.0",
          "state": {
            "_dom_classes": [],
            "_model_module": "@jupyter-widgets/controls",
            "_model_module_version": "1.5.0",
            "_model_name": "HBoxModel",
            "_view_count": null,
            "_view_module": "@jupyter-widgets/controls",
            "_view_module_version": "1.5.0",
            "_view_name": "HBoxView",
            "box_style": "",
            "children": [
              "IPY_MODEL_58e2bd20497949068634078b9450481f",
              "IPY_MODEL_b0491af45b7b41e38c95bc85a0b019c7",
              "IPY_MODEL_f39d4014f3b7485ba3e88ed7234a92b2"
            ],
            "layout": "IPY_MODEL_9d033857c83d44a29a3b80e3defdff6f"
          }
        },
        "58e2bd20497949068634078b9450481f": {
          "model_module": "@jupyter-widgets/controls",
          "model_name": "HTMLModel",
          "model_module_version": "1.5.0",
          "state": {
            "_dom_classes": [],
            "_model_module": "@jupyter-widgets/controls",
            "_model_module_version": "1.5.0",
            "_model_name": "HTMLModel",
            "_view_count": null,
            "_view_module": "@jupyter-widgets/controls",
            "_view_module_version": "1.5.0",
            "_view_name": "HTMLView",
            "description": "",
            "description_tooltip": null,
            "layout": "IPY_MODEL_8f17ae62c59643d28d06894eb8752df9",
            "placeholder": "​",
            "style": "IPY_MODEL_b860d484e7e3406081ec938bb1f56891",
            "value": "Filter: 100%"
          }
        },
        "b0491af45b7b41e38c95bc85a0b019c7": {
          "model_module": "@jupyter-widgets/controls",
          "model_name": "FloatProgressModel",
          "model_module_version": "1.5.0",
          "state": {
            "_dom_classes": [],
            "_model_module": "@jupyter-widgets/controls",
            "_model_module_version": "1.5.0",
            "_model_name": "FloatProgressModel",
            "_view_count": null,
            "_view_module": "@jupyter-widgets/controls",
            "_view_module_version": "1.5.0",
            "_view_name": "ProgressView",
            "bar_style": "success",
            "description": "",
            "description_tooltip": null,
            "layout": "IPY_MODEL_6f53a1d2595d427a9cc980c3dcc52496",
            "max": 60009,
            "min": 0,
            "orientation": "horizontal",
            "style": "IPY_MODEL_1e25c6ccd91e47b0bd8f4ddc87a85415",
            "value": 60009
          }
        },
        "f39d4014f3b7485ba3e88ed7234a92b2": {
          "model_module": "@jupyter-widgets/controls",
          "model_name": "HTMLModel",
          "model_module_version": "1.5.0",
          "state": {
            "_dom_classes": [],
            "_model_module": "@jupyter-widgets/controls",
            "_model_module_version": "1.5.0",
            "_model_name": "HTMLModel",
            "_view_count": null,
            "_view_module": "@jupyter-widgets/controls",
            "_view_module_version": "1.5.0",
            "_view_name": "HTMLView",
            "description": "",
            "description_tooltip": null,
            "layout": "IPY_MODEL_4c7d6ce2947a481db431499824bf3335",
            "placeholder": "​",
            "style": "IPY_MODEL_76484ac35d8a4ddea60209184127c424",
            "value": " 60009/60009 [00:01&lt;00:00, 52235.08 examples/s]"
          }
        },
        "9d033857c83d44a29a3b80e3defdff6f": {
          "model_module": "@jupyter-widgets/base",
          "model_name": "LayoutModel",
          "model_module_version": "1.2.0",
          "state": {
            "_model_module": "@jupyter-widgets/base",
            "_model_module_version": "1.2.0",
            "_model_name": "LayoutModel",
            "_view_count": null,
            "_view_module": "@jupyter-widgets/base",
            "_view_module_version": "1.2.0",
            "_view_name": "LayoutView",
            "align_content": null,
            "align_items": null,
            "align_self": null,
            "border": null,
            "bottom": null,
            "display": null,
            "flex": null,
            "flex_flow": null,
            "grid_area": null,
            "grid_auto_columns": null,
            "grid_auto_flow": null,
            "grid_auto_rows": null,
            "grid_column": null,
            "grid_gap": null,
            "grid_row": null,
            "grid_template_areas": null,
            "grid_template_columns": null,
            "grid_template_rows": null,
            "height": null,
            "justify_content": null,
            "justify_items": null,
            "left": null,
            "margin": null,
            "max_height": null,
            "max_width": null,
            "min_height": null,
            "min_width": null,
            "object_fit": null,
            "object_position": null,
            "order": null,
            "overflow": null,
            "overflow_x": null,
            "overflow_y": null,
            "padding": null,
            "right": null,
            "top": null,
            "visibility": null,
            "width": null
          }
        },
        "8f17ae62c59643d28d06894eb8752df9": {
          "model_module": "@jupyter-widgets/base",
          "model_name": "LayoutModel",
          "model_module_version": "1.2.0",
          "state": {
            "_model_module": "@jupyter-widgets/base",
            "_model_module_version": "1.2.0",
            "_model_name": "LayoutModel",
            "_view_count": null,
            "_view_module": "@jupyter-widgets/base",
            "_view_module_version": "1.2.0",
            "_view_name": "LayoutView",
            "align_content": null,
            "align_items": null,
            "align_self": null,
            "border": null,
            "bottom": null,
            "display": null,
            "flex": null,
            "flex_flow": null,
            "grid_area": null,
            "grid_auto_columns": null,
            "grid_auto_flow": null,
            "grid_auto_rows": null,
            "grid_column": null,
            "grid_gap": null,
            "grid_row": null,
            "grid_template_areas": null,
            "grid_template_columns": null,
            "grid_template_rows": null,
            "height": null,
            "justify_content": null,
            "justify_items": null,
            "left": null,
            "margin": null,
            "max_height": null,
            "max_width": null,
            "min_height": null,
            "min_width": null,
            "object_fit": null,
            "object_position": null,
            "order": null,
            "overflow": null,
            "overflow_x": null,
            "overflow_y": null,
            "padding": null,
            "right": null,
            "top": null,
            "visibility": null,
            "width": null
          }
        },
        "b860d484e7e3406081ec938bb1f56891": {
          "model_module": "@jupyter-widgets/controls",
          "model_name": "DescriptionStyleModel",
          "model_module_version": "1.5.0",
          "state": {
            "_model_module": "@jupyter-widgets/controls",
            "_model_module_version": "1.5.0",
            "_model_name": "DescriptionStyleModel",
            "_view_count": null,
            "_view_module": "@jupyter-widgets/base",
            "_view_module_version": "1.2.0",
            "_view_name": "StyleView",
            "description_width": ""
          }
        },
        "6f53a1d2595d427a9cc980c3dcc52496": {
          "model_module": "@jupyter-widgets/base",
          "model_name": "LayoutModel",
          "model_module_version": "1.2.0",
          "state": {
            "_model_module": "@jupyter-widgets/base",
            "_model_module_version": "1.2.0",
            "_model_name": "LayoutModel",
            "_view_count": null,
            "_view_module": "@jupyter-widgets/base",
            "_view_module_version": "1.2.0",
            "_view_name": "LayoutView",
            "align_content": null,
            "align_items": null,
            "align_self": null,
            "border": null,
            "bottom": null,
            "display": null,
            "flex": null,
            "flex_flow": null,
            "grid_area": null,
            "grid_auto_columns": null,
            "grid_auto_flow": null,
            "grid_auto_rows": null,
            "grid_column": null,
            "grid_gap": null,
            "grid_row": null,
            "grid_template_areas": null,
            "grid_template_columns": null,
            "grid_template_rows": null,
            "height": null,
            "justify_content": null,
            "justify_items": null,
            "left": null,
            "margin": null,
            "max_height": null,
            "max_width": null,
            "min_height": null,
            "min_width": null,
            "object_fit": null,
            "object_position": null,
            "order": null,
            "overflow": null,
            "overflow_x": null,
            "overflow_y": null,
            "padding": null,
            "right": null,
            "top": null,
            "visibility": null,
            "width": null
          }
        },
        "1e25c6ccd91e47b0bd8f4ddc87a85415": {
          "model_module": "@jupyter-widgets/controls",
          "model_name": "ProgressStyleModel",
          "model_module_version": "1.5.0",
          "state": {
            "_model_module": "@jupyter-widgets/controls",
            "_model_module_version": "1.5.0",
            "_model_name": "ProgressStyleModel",
            "_view_count": null,
            "_view_module": "@jupyter-widgets/base",
            "_view_module_version": "1.2.0",
            "_view_name": "StyleView",
            "bar_color": null,
            "description_width": ""
          }
        },
        "4c7d6ce2947a481db431499824bf3335": {
          "model_module": "@jupyter-widgets/base",
          "model_name": "LayoutModel",
          "model_module_version": "1.2.0",
          "state": {
            "_model_module": "@jupyter-widgets/base",
            "_model_module_version": "1.2.0",
            "_model_name": "LayoutModel",
            "_view_count": null,
            "_view_module": "@jupyter-widgets/base",
            "_view_module_version": "1.2.0",
            "_view_name": "LayoutView",
            "align_content": null,
            "align_items": null,
            "align_self": null,
            "border": null,
            "bottom": null,
            "display": null,
            "flex": null,
            "flex_flow": null,
            "grid_area": null,
            "grid_auto_columns": null,
            "grid_auto_flow": null,
            "grid_auto_rows": null,
            "grid_column": null,
            "grid_gap": null,
            "grid_row": null,
            "grid_template_areas": null,
            "grid_template_columns": null,
            "grid_template_rows": null,
            "height": null,
            "justify_content": null,
            "justify_items": null,
            "left": null,
            "margin": null,
            "max_height": null,
            "max_width": null,
            "min_height": null,
            "min_width": null,
            "object_fit": null,
            "object_position": null,
            "order": null,
            "overflow": null,
            "overflow_x": null,
            "overflow_y": null,
            "padding": null,
            "right": null,
            "top": null,
            "visibility": null,
            "width": null
          }
        },
        "76484ac35d8a4ddea60209184127c424": {
          "model_module": "@jupyter-widgets/controls",
          "model_name": "DescriptionStyleModel",
          "model_module_version": "1.5.0",
          "state": {
            "_model_module": "@jupyter-widgets/controls",
            "_model_module_version": "1.5.0",
            "_model_name": "DescriptionStyleModel",
            "_view_count": null,
            "_view_module": "@jupyter-widgets/base",
            "_view_module_version": "1.2.0",
            "_view_name": "StyleView",
            "description_width": ""
          }
        },
        "fa2e9cfa9e534eca921a648d6295d233": {
          "model_module": "@jupyter-widgets/controls",
          "model_name": "HBoxModel",
          "model_module_version": "1.5.0",
          "state": {
            "_dom_classes": [],
            "_model_module": "@jupyter-widgets/controls",
            "_model_module_version": "1.5.0",
            "_model_name": "HBoxModel",
            "_view_count": null,
            "_view_module": "@jupyter-widgets/controls",
            "_view_module_version": "1.5.0",
            "_view_name": "HBoxView",
            "box_style": "",
            "children": [
              "IPY_MODEL_ed6db130c98e4592b9a5cc822f4fb7d6",
              "IPY_MODEL_4ee252b249054fcaa4e603e58dfb1bea",
              "IPY_MODEL_005647c5431b45119ed39610c18ff71f"
            ],
            "layout": "IPY_MODEL_d3e4e0d98e5e4e10a702dedfd9467525"
          }
        },
        "ed6db130c98e4592b9a5cc822f4fb7d6": {
          "model_module": "@jupyter-widgets/controls",
          "model_name": "HTMLModel",
          "model_module_version": "1.5.0",
          "state": {
            "_dom_classes": [],
            "_model_module": "@jupyter-widgets/controls",
            "_model_module_version": "1.5.0",
            "_model_name": "HTMLModel",
            "_view_count": null,
            "_view_module": "@jupyter-widgets/controls",
            "_view_module_version": "1.5.0",
            "_view_name": "HTMLView",
            "description": "",
            "description_tooltip": null,
            "layout": "IPY_MODEL_8d3a3fcd18f946499bd2a701628c5beb",
            "placeholder": "​",
            "style": "IPY_MODEL_88af4c8695fe495da1e7795b0fa9e641",
            "value": "Filter: 100%"
          }
        },
        "4ee252b249054fcaa4e603e58dfb1bea": {
          "model_module": "@jupyter-widgets/controls",
          "model_name": "FloatProgressModel",
          "model_module_version": "1.5.0",
          "state": {
            "_dom_classes": [],
            "_model_module": "@jupyter-widgets/controls",
            "_model_module_version": "1.5.0",
            "_model_name": "FloatProgressModel",
            "_view_count": null,
            "_view_module": "@jupyter-widgets/controls",
            "_view_module_version": "1.5.0",
            "_view_name": "ProgressView",
            "bar_style": "success",
            "description": "",
            "description_tooltip": null,
            "layout": "IPY_MODEL_00a8fd0b53e141e4b3334d7841997694",
            "max": 52357,
            "min": 0,
            "orientation": "horizontal",
            "style": "IPY_MODEL_7f9ecd5f66f94e528ccbc78f49386cfb",
            "value": 52357
          }
        },
        "005647c5431b45119ed39610c18ff71f": {
          "model_module": "@jupyter-widgets/controls",
          "model_name": "HTMLModel",
          "model_module_version": "1.5.0",
          "state": {
            "_dom_classes": [],
            "_model_module": "@jupyter-widgets/controls",
            "_model_module_version": "1.5.0",
            "_model_name": "HTMLModel",
            "_view_count": null,
            "_view_module": "@jupyter-widgets/controls",
            "_view_module_version": "1.5.0",
            "_view_name": "HTMLView",
            "description": "",
            "description_tooltip": null,
            "layout": "IPY_MODEL_b8af74e905ad48e0b07309d954a087b0",
            "placeholder": "​",
            "style": "IPY_MODEL_c40717ff99fe42f8ad5cd83b18ef7cd8",
            "value": " 52357/52357 [00:01&lt;00:00, 41855.36 examples/s]"
          }
        },
        "d3e4e0d98e5e4e10a702dedfd9467525": {
          "model_module": "@jupyter-widgets/base",
          "model_name": "LayoutModel",
          "model_module_version": "1.2.0",
          "state": {
            "_model_module": "@jupyter-widgets/base",
            "_model_module_version": "1.2.0",
            "_model_name": "LayoutModel",
            "_view_count": null,
            "_view_module": "@jupyter-widgets/base",
            "_view_module_version": "1.2.0",
            "_view_name": "LayoutView",
            "align_content": null,
            "align_items": null,
            "align_self": null,
            "border": null,
            "bottom": null,
            "display": null,
            "flex": null,
            "flex_flow": null,
            "grid_area": null,
            "grid_auto_columns": null,
            "grid_auto_flow": null,
            "grid_auto_rows": null,
            "grid_column": null,
            "grid_gap": null,
            "grid_row": null,
            "grid_template_areas": null,
            "grid_template_columns": null,
            "grid_template_rows": null,
            "height": null,
            "justify_content": null,
            "justify_items": null,
            "left": null,
            "margin": null,
            "max_height": null,
            "max_width": null,
            "min_height": null,
            "min_width": null,
            "object_fit": null,
            "object_position": null,
            "order": null,
            "overflow": null,
            "overflow_x": null,
            "overflow_y": null,
            "padding": null,
            "right": null,
            "top": null,
            "visibility": null,
            "width": null
          }
        },
        "8d3a3fcd18f946499bd2a701628c5beb": {
          "model_module": "@jupyter-widgets/base",
          "model_name": "LayoutModel",
          "model_module_version": "1.2.0",
          "state": {
            "_model_module": "@jupyter-widgets/base",
            "_model_module_version": "1.2.0",
            "_model_name": "LayoutModel",
            "_view_count": null,
            "_view_module": "@jupyter-widgets/base",
            "_view_module_version": "1.2.0",
            "_view_name": "LayoutView",
            "align_content": null,
            "align_items": null,
            "align_self": null,
            "border": null,
            "bottom": null,
            "display": null,
            "flex": null,
            "flex_flow": null,
            "grid_area": null,
            "grid_auto_columns": null,
            "grid_auto_flow": null,
            "grid_auto_rows": null,
            "grid_column": null,
            "grid_gap": null,
            "grid_row": null,
            "grid_template_areas": null,
            "grid_template_columns": null,
            "grid_template_rows": null,
            "height": null,
            "justify_content": null,
            "justify_items": null,
            "left": null,
            "margin": null,
            "max_height": null,
            "max_width": null,
            "min_height": null,
            "min_width": null,
            "object_fit": null,
            "object_position": null,
            "order": null,
            "overflow": null,
            "overflow_x": null,
            "overflow_y": null,
            "padding": null,
            "right": null,
            "top": null,
            "visibility": null,
            "width": null
          }
        },
        "88af4c8695fe495da1e7795b0fa9e641": {
          "model_module": "@jupyter-widgets/controls",
          "model_name": "DescriptionStyleModel",
          "model_module_version": "1.5.0",
          "state": {
            "_model_module": "@jupyter-widgets/controls",
            "_model_module_version": "1.5.0",
            "_model_name": "DescriptionStyleModel",
            "_view_count": null,
            "_view_module": "@jupyter-widgets/base",
            "_view_module_version": "1.2.0",
            "_view_name": "StyleView",
            "description_width": ""
          }
        },
        "00a8fd0b53e141e4b3334d7841997694": {
          "model_module": "@jupyter-widgets/base",
          "model_name": "LayoutModel",
          "model_module_version": "1.2.0",
          "state": {
            "_model_module": "@jupyter-widgets/base",
            "_model_module_version": "1.2.0",
            "_model_name": "LayoutModel",
            "_view_count": null,
            "_view_module": "@jupyter-widgets/base",
            "_view_module_version": "1.2.0",
            "_view_name": "LayoutView",
            "align_content": null,
            "align_items": null,
            "align_self": null,
            "border": null,
            "bottom": null,
            "display": null,
            "flex": null,
            "flex_flow": null,
            "grid_area": null,
            "grid_auto_columns": null,
            "grid_auto_flow": null,
            "grid_auto_rows": null,
            "grid_column": null,
            "grid_gap": null,
            "grid_row": null,
            "grid_template_areas": null,
            "grid_template_columns": null,
            "grid_template_rows": null,
            "height": null,
            "justify_content": null,
            "justify_items": null,
            "left": null,
            "margin": null,
            "max_height": null,
            "max_width": null,
            "min_height": null,
            "min_width": null,
            "object_fit": null,
            "object_position": null,
            "order": null,
            "overflow": null,
            "overflow_x": null,
            "overflow_y": null,
            "padding": null,
            "right": null,
            "top": null,
            "visibility": null,
            "width": null
          }
        },
        "7f9ecd5f66f94e528ccbc78f49386cfb": {
          "model_module": "@jupyter-widgets/controls",
          "model_name": "ProgressStyleModel",
          "model_module_version": "1.5.0",
          "state": {
            "_model_module": "@jupyter-widgets/controls",
            "_model_module_version": "1.5.0",
            "_model_name": "ProgressStyleModel",
            "_view_count": null,
            "_view_module": "@jupyter-widgets/base",
            "_view_module_version": "1.2.0",
            "_view_name": "StyleView",
            "bar_color": null,
            "description_width": ""
          }
        },
        "b8af74e905ad48e0b07309d954a087b0": {
          "model_module": "@jupyter-widgets/base",
          "model_name": "LayoutModel",
          "model_module_version": "1.2.0",
          "state": {
            "_model_module": "@jupyter-widgets/base",
            "_model_module_version": "1.2.0",
            "_model_name": "LayoutModel",
            "_view_count": null,
            "_view_module": "@jupyter-widgets/base",
            "_view_module_version": "1.2.0",
            "_view_name": "LayoutView",
            "align_content": null,
            "align_items": null,
            "align_self": null,
            "border": null,
            "bottom": null,
            "display": null,
            "flex": null,
            "flex_flow": null,
            "grid_area": null,
            "grid_auto_columns": null,
            "grid_auto_flow": null,
            "grid_auto_rows": null,
            "grid_column": null,
            "grid_gap": null,
            "grid_row": null,
            "grid_template_areas": null,
            "grid_template_columns": null,
            "grid_template_rows": null,
            "height": null,
            "justify_content": null,
            "justify_items": null,
            "left": null,
            "margin": null,
            "max_height": null,
            "max_width": null,
            "min_height": null,
            "min_width": null,
            "object_fit": null,
            "object_position": null,
            "order": null,
            "overflow": null,
            "overflow_x": null,
            "overflow_y": null,
            "padding": null,
            "right": null,
            "top": null,
            "visibility": null,
            "width": null
          }
        },
        "c40717ff99fe42f8ad5cd83b18ef7cd8": {
          "model_module": "@jupyter-widgets/controls",
          "model_name": "DescriptionStyleModel",
          "model_module_version": "1.5.0",
          "state": {
            "_model_module": "@jupyter-widgets/controls",
            "_model_module_version": "1.5.0",
            "_model_name": "DescriptionStyleModel",
            "_view_count": null,
            "_view_module": "@jupyter-widgets/base",
            "_view_module_version": "1.2.0",
            "_view_name": "StyleView",
            "description_width": ""
          }
        },
        "133af26c7df144d9bd3a31c2100160d5": {
          "model_module": "@jupyter-widgets/controls",
          "model_name": "HBoxModel",
          "model_module_version": "1.5.0",
          "state": {
            "_dom_classes": [],
            "_model_module": "@jupyter-widgets/controls",
            "_model_module_version": "1.5.0",
            "_model_name": "HBoxModel",
            "_view_count": null,
            "_view_module": "@jupyter-widgets/controls",
            "_view_module_version": "1.5.0",
            "_view_name": "HBoxView",
            "box_style": "",
            "children": [
              "IPY_MODEL_fb27ceae06444624afcc4cce60b875a8",
              "IPY_MODEL_d8a0b9e9f19a4c0abe3b8e755d6a9be5",
              "IPY_MODEL_86f5e23e1f374e9f91ff28c6a702d98c"
            ],
            "layout": "IPY_MODEL_d1cf48a7fbed47008dae9bdd74268965"
          }
        },
        "fb27ceae06444624afcc4cce60b875a8": {
          "model_module": "@jupyter-widgets/controls",
          "model_name": "HTMLModel",
          "model_module_version": "1.5.0",
          "state": {
            "_dom_classes": [],
            "_model_module": "@jupyter-widgets/controls",
            "_model_module_version": "1.5.0",
            "_model_name": "HTMLModel",
            "_view_count": null,
            "_view_module": "@jupyter-widgets/controls",
            "_view_module_version": "1.5.0",
            "_view_name": "HTMLView",
            "description": "",
            "description_tooltip": null,
            "layout": "IPY_MODEL_c1224c8719974cce9bd84ed5ca9f94f3",
            "placeholder": "​",
            "style": "IPY_MODEL_cc86f46e9ba54c96ad34e1141677ce94",
            "value": "Generating train split: "
          }
        },
        "d8a0b9e9f19a4c0abe3b8e755d6a9be5": {
          "model_module": "@jupyter-widgets/controls",
          "model_name": "FloatProgressModel",
          "model_module_version": "1.5.0",
          "state": {
            "_dom_classes": [],
            "_model_module": "@jupyter-widgets/controls",
            "_model_module_version": "1.5.0",
            "_model_name": "FloatProgressModel",
            "_view_count": null,
            "_view_module": "@jupyter-widgets/controls",
            "_view_module_version": "1.5.0",
            "_view_name": "ProgressView",
            "bar_style": "success",
            "description": "",
            "description_tooltip": null,
            "layout": "IPY_MODEL_9fa2b7eb00ee409b87e66b27a31af518",
            "max": 1,
            "min": 0,
            "orientation": "horizontal",
            "style": "IPY_MODEL_155844330f1c400bb7f91c0ba78344d0",
            "value": 1
          }
        },
        "86f5e23e1f374e9f91ff28c6a702d98c": {
          "model_module": "@jupyter-widgets/controls",
          "model_name": "HTMLModel",
          "model_module_version": "1.5.0",
          "state": {
            "_dom_classes": [],
            "_model_module": "@jupyter-widgets/controls",
            "_model_module_version": "1.5.0",
            "_model_name": "HTMLModel",
            "_view_count": null,
            "_view_module": "@jupyter-widgets/controls",
            "_view_module_version": "1.5.0",
            "_view_name": "HTMLView",
            "description": "",
            "description_tooltip": null,
            "layout": "IPY_MODEL_19b3558ed8854eb3ac2c89675af96029",
            "placeholder": "​",
            "style": "IPY_MODEL_cbec5f98e4ac45f2b9601beceb3d9b68",
            "value": " 159801/0 [00:00&lt;00:00, 386443.79 examples/s]"
          }
        },
        "d1cf48a7fbed47008dae9bdd74268965": {
          "model_module": "@jupyter-widgets/base",
          "model_name": "LayoutModel",
          "model_module_version": "1.2.0",
          "state": {
            "_model_module": "@jupyter-widgets/base",
            "_model_module_version": "1.2.0",
            "_model_name": "LayoutModel",
            "_view_count": null,
            "_view_module": "@jupyter-widgets/base",
            "_view_module_version": "1.2.0",
            "_view_name": "LayoutView",
            "align_content": null,
            "align_items": null,
            "align_self": null,
            "border": null,
            "bottom": null,
            "display": null,
            "flex": null,
            "flex_flow": null,
            "grid_area": null,
            "grid_auto_columns": null,
            "grid_auto_flow": null,
            "grid_auto_rows": null,
            "grid_column": null,
            "grid_gap": null,
            "grid_row": null,
            "grid_template_areas": null,
            "grid_template_columns": null,
            "grid_template_rows": null,
            "height": null,
            "justify_content": null,
            "justify_items": null,
            "left": null,
            "margin": null,
            "max_height": null,
            "max_width": null,
            "min_height": null,
            "min_width": null,
            "object_fit": null,
            "object_position": null,
            "order": null,
            "overflow": null,
            "overflow_x": null,
            "overflow_y": null,
            "padding": null,
            "right": null,
            "top": null,
            "visibility": null,
            "width": null
          }
        },
        "c1224c8719974cce9bd84ed5ca9f94f3": {
          "model_module": "@jupyter-widgets/base",
          "model_name": "LayoutModel",
          "model_module_version": "1.2.0",
          "state": {
            "_model_module": "@jupyter-widgets/base",
            "_model_module_version": "1.2.0",
            "_model_name": "LayoutModel",
            "_view_count": null,
            "_view_module": "@jupyter-widgets/base",
            "_view_module_version": "1.2.0",
            "_view_name": "LayoutView",
            "align_content": null,
            "align_items": null,
            "align_self": null,
            "border": null,
            "bottom": null,
            "display": null,
            "flex": null,
            "flex_flow": null,
            "grid_area": null,
            "grid_auto_columns": null,
            "grid_auto_flow": null,
            "grid_auto_rows": null,
            "grid_column": null,
            "grid_gap": null,
            "grid_row": null,
            "grid_template_areas": null,
            "grid_template_columns": null,
            "grid_template_rows": null,
            "height": null,
            "justify_content": null,
            "justify_items": null,
            "left": null,
            "margin": null,
            "max_height": null,
            "max_width": null,
            "min_height": null,
            "min_width": null,
            "object_fit": null,
            "object_position": null,
            "order": null,
            "overflow": null,
            "overflow_x": null,
            "overflow_y": null,
            "padding": null,
            "right": null,
            "top": null,
            "visibility": null,
            "width": null
          }
        },
        "cc86f46e9ba54c96ad34e1141677ce94": {
          "model_module": "@jupyter-widgets/controls",
          "model_name": "DescriptionStyleModel",
          "model_module_version": "1.5.0",
          "state": {
            "_model_module": "@jupyter-widgets/controls",
            "_model_module_version": "1.5.0",
            "_model_name": "DescriptionStyleModel",
            "_view_count": null,
            "_view_module": "@jupyter-widgets/base",
            "_view_module_version": "1.2.0",
            "_view_name": "StyleView",
            "description_width": ""
          }
        },
        "9fa2b7eb00ee409b87e66b27a31af518": {
          "model_module": "@jupyter-widgets/base",
          "model_name": "LayoutModel",
          "model_module_version": "1.2.0",
          "state": {
            "_model_module": "@jupyter-widgets/base",
            "_model_module_version": "1.2.0",
            "_model_name": "LayoutModel",
            "_view_count": null,
            "_view_module": "@jupyter-widgets/base",
            "_view_module_version": "1.2.0",
            "_view_name": "LayoutView",
            "align_content": null,
            "align_items": null,
            "align_self": null,
            "border": null,
            "bottom": null,
            "display": null,
            "flex": null,
            "flex_flow": null,
            "grid_area": null,
            "grid_auto_columns": null,
            "grid_auto_flow": null,
            "grid_auto_rows": null,
            "grid_column": null,
            "grid_gap": null,
            "grid_row": null,
            "grid_template_areas": null,
            "grid_template_columns": null,
            "grid_template_rows": null,
            "height": null,
            "justify_content": null,
            "justify_items": null,
            "left": null,
            "margin": null,
            "max_height": null,
            "max_width": null,
            "min_height": null,
            "min_width": null,
            "object_fit": null,
            "object_position": null,
            "order": null,
            "overflow": null,
            "overflow_x": null,
            "overflow_y": null,
            "padding": null,
            "right": null,
            "top": null,
            "visibility": null,
            "width": "20px"
          }
        },
        "155844330f1c400bb7f91c0ba78344d0": {
          "model_module": "@jupyter-widgets/controls",
          "model_name": "ProgressStyleModel",
          "model_module_version": "1.5.0",
          "state": {
            "_model_module": "@jupyter-widgets/controls",
            "_model_module_version": "1.5.0",
            "_model_name": "ProgressStyleModel",
            "_view_count": null,
            "_view_module": "@jupyter-widgets/base",
            "_view_module_version": "1.2.0",
            "_view_name": "StyleView",
            "bar_color": null,
            "description_width": ""
          }
        },
        "19b3558ed8854eb3ac2c89675af96029": {
          "model_module": "@jupyter-widgets/base",
          "model_name": "LayoutModel",
          "model_module_version": "1.2.0",
          "state": {
            "_model_module": "@jupyter-widgets/base",
            "_model_module_version": "1.2.0",
            "_model_name": "LayoutModel",
            "_view_count": null,
            "_view_module": "@jupyter-widgets/base",
            "_view_module_version": "1.2.0",
            "_view_name": "LayoutView",
            "align_content": null,
            "align_items": null,
            "align_self": null,
            "border": null,
            "bottom": null,
            "display": null,
            "flex": null,
            "flex_flow": null,
            "grid_area": null,
            "grid_auto_columns": null,
            "grid_auto_flow": null,
            "grid_auto_rows": null,
            "grid_column": null,
            "grid_gap": null,
            "grid_row": null,
            "grid_template_areas": null,
            "grid_template_columns": null,
            "grid_template_rows": null,
            "height": null,
            "justify_content": null,
            "justify_items": null,
            "left": null,
            "margin": null,
            "max_height": null,
            "max_width": null,
            "min_height": null,
            "min_width": null,
            "object_fit": null,
            "object_position": null,
            "order": null,
            "overflow": null,
            "overflow_x": null,
            "overflow_y": null,
            "padding": null,
            "right": null,
            "top": null,
            "visibility": null,
            "width": null
          }
        },
        "cbec5f98e4ac45f2b9601beceb3d9b68": {
          "model_module": "@jupyter-widgets/controls",
          "model_name": "DescriptionStyleModel",
          "model_module_version": "1.5.0",
          "state": {
            "_model_module": "@jupyter-widgets/controls",
            "_model_module_version": "1.5.0",
            "_model_name": "DescriptionStyleModel",
            "_view_count": null,
            "_view_module": "@jupyter-widgets/base",
            "_view_module_version": "1.2.0",
            "_view_name": "StyleView",
            "description_width": ""
          }
        },
        "097ca160f86c429a8a0db38fa761e9ba": {
          "model_module": "@jupyter-widgets/controls",
          "model_name": "HBoxModel",
          "model_module_version": "1.5.0",
          "state": {
            "_dom_classes": [],
            "_model_module": "@jupyter-widgets/controls",
            "_model_module_version": "1.5.0",
            "_model_name": "HBoxModel",
            "_view_count": null,
            "_view_module": "@jupyter-widgets/controls",
            "_view_module_version": "1.5.0",
            "_view_name": "HBoxView",
            "box_style": "",
            "children": [
              "IPY_MODEL_5236b08183864ce28025e3fffd0ff3f2",
              "IPY_MODEL_c321ba25436d4a0c9033be9173cc2eaf",
              "IPY_MODEL_c5786284942a4fbb9dcee3c839146fae"
            ],
            "layout": "IPY_MODEL_c2a6ac610260414097fc20d58543c5f3"
          }
        },
        "5236b08183864ce28025e3fffd0ff3f2": {
          "model_module": "@jupyter-widgets/controls",
          "model_name": "HTMLModel",
          "model_module_version": "1.5.0",
          "state": {
            "_dom_classes": [],
            "_model_module": "@jupyter-widgets/controls",
            "_model_module_version": "1.5.0",
            "_model_name": "HTMLModel",
            "_view_count": null,
            "_view_module": "@jupyter-widgets/controls",
            "_view_module_version": "1.5.0",
            "_view_name": "HTMLView",
            "description": "",
            "description_tooltip": null,
            "layout": "IPY_MODEL_e6e47e3c49ae4cbebdd18ad96bdf428a",
            "placeholder": "​",
            "style": "IPY_MODEL_74adce08f8534461a155250647666517",
            "value": "Filter: 100%"
          }
        },
        "c321ba25436d4a0c9033be9173cc2eaf": {
          "model_module": "@jupyter-widgets/controls",
          "model_name": "FloatProgressModel",
          "model_module_version": "1.5.0",
          "state": {
            "_dom_classes": [],
            "_model_module": "@jupyter-widgets/controls",
            "_model_module_version": "1.5.0",
            "_model_name": "FloatProgressModel",
            "_view_count": null,
            "_view_module": "@jupyter-widgets/controls",
            "_view_module_version": "1.5.0",
            "_view_name": "ProgressView",
            "bar_style": "success",
            "description": "",
            "description_tooltip": null,
            "layout": "IPY_MODEL_9744455a980b4792a4a87f44787f2820",
            "max": 40489,
            "min": 0,
            "orientation": "horizontal",
            "style": "IPY_MODEL_f173de19b27b4d1cb089c871815cc822",
            "value": 40489
          }
        },
        "c5786284942a4fbb9dcee3c839146fae": {
          "model_module": "@jupyter-widgets/controls",
          "model_name": "HTMLModel",
          "model_module_version": "1.5.0",
          "state": {
            "_dom_classes": [],
            "_model_module": "@jupyter-widgets/controls",
            "_model_module_version": "1.5.0",
            "_model_name": "HTMLModel",
            "_view_count": null,
            "_view_module": "@jupyter-widgets/controls",
            "_view_module_version": "1.5.0",
            "_view_name": "HTMLView",
            "description": "",
            "description_tooltip": null,
            "layout": "IPY_MODEL_0cbc7c3eef714126965e8e11d9eac696",
            "placeholder": "​",
            "style": "IPY_MODEL_5a0b39186ee04f6e81cd6dd74754f80f",
            "value": " 40489/40489 [1:05:33&lt;00:00, 10.33 examples/s]"
          }
        },
        "c2a6ac610260414097fc20d58543c5f3": {
          "model_module": "@jupyter-widgets/base",
          "model_name": "LayoutModel",
          "model_module_version": "1.2.0",
          "state": {
            "_model_module": "@jupyter-widgets/base",
            "_model_module_version": "1.2.0",
            "_model_name": "LayoutModel",
            "_view_count": null,
            "_view_module": "@jupyter-widgets/base",
            "_view_module_version": "1.2.0",
            "_view_name": "LayoutView",
            "align_content": null,
            "align_items": null,
            "align_self": null,
            "border": null,
            "bottom": null,
            "display": null,
            "flex": null,
            "flex_flow": null,
            "grid_area": null,
            "grid_auto_columns": null,
            "grid_auto_flow": null,
            "grid_auto_rows": null,
            "grid_column": null,
            "grid_gap": null,
            "grid_row": null,
            "grid_template_areas": null,
            "grid_template_columns": null,
            "grid_template_rows": null,
            "height": null,
            "justify_content": null,
            "justify_items": null,
            "left": null,
            "margin": null,
            "max_height": null,
            "max_width": null,
            "min_height": null,
            "min_width": null,
            "object_fit": null,
            "object_position": null,
            "order": null,
            "overflow": null,
            "overflow_x": null,
            "overflow_y": null,
            "padding": null,
            "right": null,
            "top": null,
            "visibility": null,
            "width": null
          }
        },
        "e6e47e3c49ae4cbebdd18ad96bdf428a": {
          "model_module": "@jupyter-widgets/base",
          "model_name": "LayoutModel",
          "model_module_version": "1.2.0",
          "state": {
            "_model_module": "@jupyter-widgets/base",
            "_model_module_version": "1.2.0",
            "_model_name": "LayoutModel",
            "_view_count": null,
            "_view_module": "@jupyter-widgets/base",
            "_view_module_version": "1.2.0",
            "_view_name": "LayoutView",
            "align_content": null,
            "align_items": null,
            "align_self": null,
            "border": null,
            "bottom": null,
            "display": null,
            "flex": null,
            "flex_flow": null,
            "grid_area": null,
            "grid_auto_columns": null,
            "grid_auto_flow": null,
            "grid_auto_rows": null,
            "grid_column": null,
            "grid_gap": null,
            "grid_row": null,
            "grid_template_areas": null,
            "grid_template_columns": null,
            "grid_template_rows": null,
            "height": null,
            "justify_content": null,
            "justify_items": null,
            "left": null,
            "margin": null,
            "max_height": null,
            "max_width": null,
            "min_height": null,
            "min_width": null,
            "object_fit": null,
            "object_position": null,
            "order": null,
            "overflow": null,
            "overflow_x": null,
            "overflow_y": null,
            "padding": null,
            "right": null,
            "top": null,
            "visibility": null,
            "width": null
          }
        },
        "74adce08f8534461a155250647666517": {
          "model_module": "@jupyter-widgets/controls",
          "model_name": "DescriptionStyleModel",
          "model_module_version": "1.5.0",
          "state": {
            "_model_module": "@jupyter-widgets/controls",
            "_model_module_version": "1.5.0",
            "_model_name": "DescriptionStyleModel",
            "_view_count": null,
            "_view_module": "@jupyter-widgets/base",
            "_view_module_version": "1.2.0",
            "_view_name": "StyleView",
            "description_width": ""
          }
        },
        "9744455a980b4792a4a87f44787f2820": {
          "model_module": "@jupyter-widgets/base",
          "model_name": "LayoutModel",
          "model_module_version": "1.2.0",
          "state": {
            "_model_module": "@jupyter-widgets/base",
            "_model_module_version": "1.2.0",
            "_model_name": "LayoutModel",
            "_view_count": null,
            "_view_module": "@jupyter-widgets/base",
            "_view_module_version": "1.2.0",
            "_view_name": "LayoutView",
            "align_content": null,
            "align_items": null,
            "align_self": null,
            "border": null,
            "bottom": null,
            "display": null,
            "flex": null,
            "flex_flow": null,
            "grid_area": null,
            "grid_auto_columns": null,
            "grid_auto_flow": null,
            "grid_auto_rows": null,
            "grid_column": null,
            "grid_gap": null,
            "grid_row": null,
            "grid_template_areas": null,
            "grid_template_columns": null,
            "grid_template_rows": null,
            "height": null,
            "justify_content": null,
            "justify_items": null,
            "left": null,
            "margin": null,
            "max_height": null,
            "max_width": null,
            "min_height": null,
            "min_width": null,
            "object_fit": null,
            "object_position": null,
            "order": null,
            "overflow": null,
            "overflow_x": null,
            "overflow_y": null,
            "padding": null,
            "right": null,
            "top": null,
            "visibility": null,
            "width": null
          }
        },
        "f173de19b27b4d1cb089c871815cc822": {
          "model_module": "@jupyter-widgets/controls",
          "model_name": "ProgressStyleModel",
          "model_module_version": "1.5.0",
          "state": {
            "_model_module": "@jupyter-widgets/controls",
            "_model_module_version": "1.5.0",
            "_model_name": "ProgressStyleModel",
            "_view_count": null,
            "_view_module": "@jupyter-widgets/base",
            "_view_module_version": "1.2.0",
            "_view_name": "StyleView",
            "bar_color": null,
            "description_width": ""
          }
        },
        "0cbc7c3eef714126965e8e11d9eac696": {
          "model_module": "@jupyter-widgets/base",
          "model_name": "LayoutModel",
          "model_module_version": "1.2.0",
          "state": {
            "_model_module": "@jupyter-widgets/base",
            "_model_module_version": "1.2.0",
            "_model_name": "LayoutModel",
            "_view_count": null,
            "_view_module": "@jupyter-widgets/base",
            "_view_module_version": "1.2.0",
            "_view_name": "LayoutView",
            "align_content": null,
            "align_items": null,
            "align_self": null,
            "border": null,
            "bottom": null,
            "display": null,
            "flex": null,
            "flex_flow": null,
            "grid_area": null,
            "grid_auto_columns": null,
            "grid_auto_flow": null,
            "grid_auto_rows": null,
            "grid_column": null,
            "grid_gap": null,
            "grid_row": null,
            "grid_template_areas": null,
            "grid_template_columns": null,
            "grid_template_rows": null,
            "height": null,
            "justify_content": null,
            "justify_items": null,
            "left": null,
            "margin": null,
            "max_height": null,
            "max_width": null,
            "min_height": null,
            "min_width": null,
            "object_fit": null,
            "object_position": null,
            "order": null,
            "overflow": null,
            "overflow_x": null,
            "overflow_y": null,
            "padding": null,
            "right": null,
            "top": null,
            "visibility": null,
            "width": null
          }
        },
        "5a0b39186ee04f6e81cd6dd74754f80f": {
          "model_module": "@jupyter-widgets/controls",
          "model_name": "DescriptionStyleModel",
          "model_module_version": "1.5.0",
          "state": {
            "_model_module": "@jupyter-widgets/controls",
            "_model_module_version": "1.5.0",
            "_model_name": "DescriptionStyleModel",
            "_view_count": null,
            "_view_module": "@jupyter-widgets/base",
            "_view_module_version": "1.2.0",
            "_view_name": "StyleView",
            "description_width": ""
          }
        },
        "c260a4ed6b8d4aef8fcd6227a9327576": {
          "model_module": "@jupyter-widgets/controls",
          "model_name": "HBoxModel",
          "model_module_version": "1.5.0",
          "state": {
            "_dom_classes": [],
            "_model_module": "@jupyter-widgets/controls",
            "_model_module_version": "1.5.0",
            "_model_name": "HBoxModel",
            "_view_count": null,
            "_view_module": "@jupyter-widgets/controls",
            "_view_module_version": "1.5.0",
            "_view_name": "HBoxView",
            "box_style": "",
            "children": [
              "IPY_MODEL_2e11e7c72c35427cbab45e0383ca93a6",
              "IPY_MODEL_b6b1baf978aa4ab68f3ea05490c71665",
              "IPY_MODEL_cb677e9e6589498ab04a50849eb0c33c"
            ],
            "layout": "IPY_MODEL_e107d571593d4b28b8502c0e5a35c405"
          }
        },
        "2e11e7c72c35427cbab45e0383ca93a6": {
          "model_module": "@jupyter-widgets/controls",
          "model_name": "HTMLModel",
          "model_module_version": "1.5.0",
          "state": {
            "_dom_classes": [],
            "_model_module": "@jupyter-widgets/controls",
            "_model_module_version": "1.5.0",
            "_model_name": "HTMLModel",
            "_view_count": null,
            "_view_module": "@jupyter-widgets/controls",
            "_view_module_version": "1.5.0",
            "_view_name": "HTMLView",
            "description": "",
            "description_tooltip": null,
            "layout": "IPY_MODEL_beb9b8c4fc5e489bade6ec594fd82aeb",
            "placeholder": "​",
            "style": "IPY_MODEL_571fd5379dbc4117a951ef89c92efc6b",
            "value": "Creating parquet from Arrow format: 100%"
          }
        },
        "b6b1baf978aa4ab68f3ea05490c71665": {
          "model_module": "@jupyter-widgets/controls",
          "model_name": "FloatProgressModel",
          "model_module_version": "1.5.0",
          "state": {
            "_dom_classes": [],
            "_model_module": "@jupyter-widgets/controls",
            "_model_module_version": "1.5.0",
            "_model_name": "FloatProgressModel",
            "_view_count": null,
            "_view_module": "@jupyter-widgets/controls",
            "_view_module_version": "1.5.0",
            "_view_name": "ProgressView",
            "bar_style": "success",
            "description": "",
            "description_tooltip": null,
            "layout": "IPY_MODEL_ece95fd64bf040e4bd899505997188f1",
            "max": 41,
            "min": 0,
            "orientation": "horizontal",
            "style": "IPY_MODEL_2ee358bbbe0b4ad3ac761b0cf77b72b4",
            "value": 41
          }
        },
        "cb677e9e6589498ab04a50849eb0c33c": {
          "model_module": "@jupyter-widgets/controls",
          "model_name": "HTMLModel",
          "model_module_version": "1.5.0",
          "state": {
            "_dom_classes": [],
            "_model_module": "@jupyter-widgets/controls",
            "_model_module_version": "1.5.0",
            "_model_name": "HTMLModel",
            "_view_count": null,
            "_view_module": "@jupyter-widgets/controls",
            "_view_module_version": "1.5.0",
            "_view_name": "HTMLView",
            "description": "",
            "description_tooltip": null,
            "layout": "IPY_MODEL_82cb553cd57e4fd2b1bc2f1b3c7b99fd",
            "placeholder": "​",
            "style": "IPY_MODEL_e932f4139c084f17a656bcea4c461091",
            "value": " 41/41 [00:01&lt;00:00, 30.00ba/s]"
          }
        },
        "e107d571593d4b28b8502c0e5a35c405": {
          "model_module": "@jupyter-widgets/base",
          "model_name": "LayoutModel",
          "model_module_version": "1.2.0",
          "state": {
            "_model_module": "@jupyter-widgets/base",
            "_model_module_version": "1.2.0",
            "_model_name": "LayoutModel",
            "_view_count": null,
            "_view_module": "@jupyter-widgets/base",
            "_view_module_version": "1.2.0",
            "_view_name": "LayoutView",
            "align_content": null,
            "align_items": null,
            "align_self": null,
            "border": null,
            "bottom": null,
            "display": null,
            "flex": null,
            "flex_flow": null,
            "grid_area": null,
            "grid_auto_columns": null,
            "grid_auto_flow": null,
            "grid_auto_rows": null,
            "grid_column": null,
            "grid_gap": null,
            "grid_row": null,
            "grid_template_areas": null,
            "grid_template_columns": null,
            "grid_template_rows": null,
            "height": null,
            "justify_content": null,
            "justify_items": null,
            "left": null,
            "margin": null,
            "max_height": null,
            "max_width": null,
            "min_height": null,
            "min_width": null,
            "object_fit": null,
            "object_position": null,
            "order": null,
            "overflow": null,
            "overflow_x": null,
            "overflow_y": null,
            "padding": null,
            "right": null,
            "top": null,
            "visibility": null,
            "width": null
          }
        },
        "beb9b8c4fc5e489bade6ec594fd82aeb": {
          "model_module": "@jupyter-widgets/base",
          "model_name": "LayoutModel",
          "model_module_version": "1.2.0",
          "state": {
            "_model_module": "@jupyter-widgets/base",
            "_model_module_version": "1.2.0",
            "_model_name": "LayoutModel",
            "_view_count": null,
            "_view_module": "@jupyter-widgets/base",
            "_view_module_version": "1.2.0",
            "_view_name": "LayoutView",
            "align_content": null,
            "align_items": null,
            "align_self": null,
            "border": null,
            "bottom": null,
            "display": null,
            "flex": null,
            "flex_flow": null,
            "grid_area": null,
            "grid_auto_columns": null,
            "grid_auto_flow": null,
            "grid_auto_rows": null,
            "grid_column": null,
            "grid_gap": null,
            "grid_row": null,
            "grid_template_areas": null,
            "grid_template_columns": null,
            "grid_template_rows": null,
            "height": null,
            "justify_content": null,
            "justify_items": null,
            "left": null,
            "margin": null,
            "max_height": null,
            "max_width": null,
            "min_height": null,
            "min_width": null,
            "object_fit": null,
            "object_position": null,
            "order": null,
            "overflow": null,
            "overflow_x": null,
            "overflow_y": null,
            "padding": null,
            "right": null,
            "top": null,
            "visibility": null,
            "width": null
          }
        },
        "571fd5379dbc4117a951ef89c92efc6b": {
          "model_module": "@jupyter-widgets/controls",
          "model_name": "DescriptionStyleModel",
          "model_module_version": "1.5.0",
          "state": {
            "_model_module": "@jupyter-widgets/controls",
            "_model_module_version": "1.5.0",
            "_model_name": "DescriptionStyleModel",
            "_view_count": null,
            "_view_module": "@jupyter-widgets/base",
            "_view_module_version": "1.2.0",
            "_view_name": "StyleView",
            "description_width": ""
          }
        },
        "ece95fd64bf040e4bd899505997188f1": {
          "model_module": "@jupyter-widgets/base",
          "model_name": "LayoutModel",
          "model_module_version": "1.2.0",
          "state": {
            "_model_module": "@jupyter-widgets/base",
            "_model_module_version": "1.2.0",
            "_model_name": "LayoutModel",
            "_view_count": null,
            "_view_module": "@jupyter-widgets/base",
            "_view_module_version": "1.2.0",
            "_view_name": "LayoutView",
            "align_content": null,
            "align_items": null,
            "align_self": null,
            "border": null,
            "bottom": null,
            "display": null,
            "flex": null,
            "flex_flow": null,
            "grid_area": null,
            "grid_auto_columns": null,
            "grid_auto_flow": null,
            "grid_auto_rows": null,
            "grid_column": null,
            "grid_gap": null,
            "grid_row": null,
            "grid_template_areas": null,
            "grid_template_columns": null,
            "grid_template_rows": null,
            "height": null,
            "justify_content": null,
            "justify_items": null,
            "left": null,
            "margin": null,
            "max_height": null,
            "max_width": null,
            "min_height": null,
            "min_width": null,
            "object_fit": null,
            "object_position": null,
            "order": null,
            "overflow": null,
            "overflow_x": null,
            "overflow_y": null,
            "padding": null,
            "right": null,
            "top": null,
            "visibility": null,
            "width": null
          }
        },
        "2ee358bbbe0b4ad3ac761b0cf77b72b4": {
          "model_module": "@jupyter-widgets/controls",
          "model_name": "ProgressStyleModel",
          "model_module_version": "1.5.0",
          "state": {
            "_model_module": "@jupyter-widgets/controls",
            "_model_module_version": "1.5.0",
            "_model_name": "ProgressStyleModel",
            "_view_count": null,
            "_view_module": "@jupyter-widgets/base",
            "_view_module_version": "1.2.0",
            "_view_name": "StyleView",
            "bar_color": null,
            "description_width": ""
          }
        },
        "82cb553cd57e4fd2b1bc2f1b3c7b99fd": {
          "model_module": "@jupyter-widgets/base",
          "model_name": "LayoutModel",
          "model_module_version": "1.2.0",
          "state": {
            "_model_module": "@jupyter-widgets/base",
            "_model_module_version": "1.2.0",
            "_model_name": "LayoutModel",
            "_view_count": null,
            "_view_module": "@jupyter-widgets/base",
            "_view_module_version": "1.2.0",
            "_view_name": "LayoutView",
            "align_content": null,
            "align_items": null,
            "align_self": null,
            "border": null,
            "bottom": null,
            "display": null,
            "flex": null,
            "flex_flow": null,
            "grid_area": null,
            "grid_auto_columns": null,
            "grid_auto_flow": null,
            "grid_auto_rows": null,
            "grid_column": null,
            "grid_gap": null,
            "grid_row": null,
            "grid_template_areas": null,
            "grid_template_columns": null,
            "grid_template_rows": null,
            "height": null,
            "justify_content": null,
            "justify_items": null,
            "left": null,
            "margin": null,
            "max_height": null,
            "max_width": null,
            "min_height": null,
            "min_width": null,
            "object_fit": null,
            "object_position": null,
            "order": null,
            "overflow": null,
            "overflow_x": null,
            "overflow_y": null,
            "padding": null,
            "right": null,
            "top": null,
            "visibility": null,
            "width": null
          }
        },
        "e932f4139c084f17a656bcea4c461091": {
          "model_module": "@jupyter-widgets/controls",
          "model_name": "DescriptionStyleModel",
          "model_module_version": "1.5.0",
          "state": {
            "_model_module": "@jupyter-widgets/controls",
            "_model_module_version": "1.5.0",
            "_model_name": "DescriptionStyleModel",
            "_view_count": null,
            "_view_module": "@jupyter-widgets/base",
            "_view_module_version": "1.2.0",
            "_view_name": "StyleView",
            "description_width": ""
          }
        }
      }
    }
  },
  "cells": [
    {
      "cell_type": "markdown",
      "metadata": {
        "id": "view-in-github",
        "colab_type": "text"
      },
      "source": [
        "<a href=\"https://colab.research.google.com/github/samrat-m/mai-prac/blob/main/Pre_Training.ipynb\" target=\"_parent\"><img src=\"https://colab.research.google.com/assets/colab-badge.svg\" alt=\"Open In Colab\"/></a>"
      ]
    },
    {
      "cell_type": "markdown",
      "source": [
        "# Stage 1: Showing Fine-Tuning vs Pre-Training"
      ],
      "metadata": {
        "id": "02BUqJcZlowU"
      }
    },
    {
      "cell_type": "code",
      "source": [
        "# Ignore insignificant warnings (ex: deprecations)\n",
        "import warnings\n",
        "warnings.filterwarnings('ignore')"
      ],
      "metadata": {
        "id": "vDN9-PwfhZMm"
      },
      "execution_count": null,
      "outputs": []
    },
    {
      "cell_type": "code",
      "source": [
        "# Set a seed for reproducibility\n",
        "import torch\n",
        "\n",
        "def fix_torch_seed(seed=42):\n",
        "    torch.manual_seed(seed)\n",
        "    torch.cuda.manual_seed(seed)\n",
        "    torch.backends.cudnn.deterministic = True\n",
        "    torch.backends.cudnn.benchmark = False\n",
        "\n",
        "fix_torch_seed()"
      ],
      "metadata": {
        "id": "etP7Kmxphn5h"
      },
      "execution_count": null,
      "outputs": []
    },
    {
      "cell_type": "code",
      "execution_count": null,
      "metadata": {
        "id": "c-CYZbxNhUTJ"
      },
      "outputs": [],
      "source": [
        "from transformers import AutoModelForCausalLM\n",
        "tiny_general_model = AutoModelForCausalLM.from_pretrained(\n",
        "    \"upstage/TinySolar-248m-4k\", #https://huggingface.co/upstage/TinySolar-248m-4k\n",
        "    device_map=\"auto\", # change to auto if you have access to a GPU\n",
        "    torch_dtype=torch.bfloat16\n",
        ")"
      ]
    },
    {
      "cell_type": "code",
      "source": [
        "from transformers import AutoTokenizer\n",
        "tiny_general_tokenizer = AutoTokenizer.from_pretrained(\n",
        "    \"upstage/TinySolar-248m-4k\"\n",
        ")"
      ],
      "metadata": {
        "id": "n0OkOTpiiE7D"
      },
      "execution_count": null,
      "outputs": []
    },
    {
      "cell_type": "markdown",
      "source": [
        "![Screenshot 2024-07-23 at 10.00.43 AM.png](data:image/png;base64,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)"
      ],
      "metadata": {
        "id": "0v3zAUs7idiR"
      }
    },
    {
      "cell_type": "code",
      "source": [
        "prompt = \"I am an engineer. I love\""
      ],
      "metadata": {
        "id": "7o8BDYwbiyBD"
      },
      "execution_count": null,
      "outputs": []
    },
    {
      "cell_type": "code",
      "source": [
        "inputs = tiny_general_tokenizer(prompt, return_tensors=\"pt\")\n",
        "inputs"
      ],
      "metadata": {
        "id": "yOsKFy5bi1CL",
        "colab": {
          "base_uri": "https://localhost:8080/"
        },
        "outputId": "d0d3ff2c-3fc0-4f61-98b9-fccd5558a0d8"
      },
      "execution_count": null,
      "outputs": [
        {
          "output_type": "execute_result",
          "data": {
            "text/plain": [
              "{'input_ids': tensor([[    1,   315,   837,   396, 18112, 28723,   315,  2016]]), 'attention_mask': tensor([[1, 1, 1, 1, 1, 1, 1, 1]])}"
            ]
          },
          "metadata": {},
          "execution_count": 87
        }
      ]
    },
    {
      "cell_type": "markdown",
      "source": [
        "## Wrapping this into a general purpose function\n",
        "1. Tokenize\n",
        "2. Stream\n",
        "3. Generate"
      ],
      "metadata": {
        "id": "UsbpcuG8Ec-w"
      }
    },
    {
      "cell_type": "code",
      "source": [
        "from transformers import TextStreamer\n",
        "def generate_output(prompt, model, tokenizer):\n",
        "  inputs = tokenizer(prompt, return_tensors=\"pt\")\n",
        "  streamer = TextStreamer(\n",
        "    tokenizer,\n",
        "    skip_prompt=True, # If you set to false, the model will first return the prompt and then the generated text\n",
        "    skip_special_tokens=True\n",
        "  )\n",
        "  outputs = model.generate(\n",
        "    **inputs,\n",
        "    streamer=streamer,\n",
        "    use_cache=True,\n",
        "    max_new_tokens=128,\n",
        "    do_sample=False,\n",
        "    temperature=0.0,\n",
        "    repetition_penalty=1.1\n",
        "  )\n",
        "  print(outputs)\n",
        "\n"
      ],
      "metadata": {
        "id": "9JcWdYDpDodW"
      },
      "execution_count": null,
      "outputs": []
    },
    {
      "cell_type": "code",
      "source": [
        "generate_output(prompt, tiny_general_model, tiny_general_tokenizer)"
      ],
      "metadata": {
        "colab": {
          "base_uri": "https://localhost:8080/"
        },
        "id": "velQQSUAEPfz",
        "outputId": "5d43e4d7-b52c-46c2-df95-b7615576112a"
      },
      "execution_count": null,
      "outputs": [
        {
          "output_type": "stream",
          "name": "stderr",
          "text": [
            "Setting `pad_token_id` to `eos_token_id`:2 for open-end generation.\n"
          ]
        },
        {
          "output_type": "stream",
          "name": "stdout",
          "text": [
            "to travel and have a great time, but I'm not sure if I can do it all again.\n",
            "I've been working on my first book for the last 10 years, and I've always wanted to write about something that has happened in my life. It's been a long journey, but I've finally found my voice. I've written a lot of books, and I've had some really good ones. I've also written a few short stories, which are very different from what I'd normally write.\n",
            "I've been writing fiction since I was 12\n",
            "tensor([[    1,   315,   837,   396, 18112, 28723,   315,  2016,   298,  4530,\n",
            "           304,   506,   264,  1598,   727, 28725,   562,   315, 28742, 28719,\n",
            "           459,  1864,   513,   315,   541,   511,   378,   544,  1076, 28723,\n",
            "            13, 28737, 28742,   333,   750,  2739,   356,   586,   907,  1820,\n",
            "           354,   272,  1432, 28705, 28740, 28734,  1267, 28725,   304,   315,\n",
            "         28742,   333,  1743,  2613,   298,  3324,   684,  1545,   369,   659,\n",
            "          4243,   297,   586,  1411, 28723,   661, 28742, 28713,   750,   264,\n",
            "          1043,  8123, 28725,   562,   315, 28742,   333,  4251,  1419,   586,\n",
            "          3441, 28723,   315, 28742,   333,  4241,   264,  2055,   302,  4796,\n",
            "         28725,   304,   315, 28742,   333,   553,   741,  1528,  1179,  4413,\n",
            "         28723,   315, 28742,   333,   835,  4241,   264,  1664,  2485,  5979,\n",
            "         28725,   690,   460,  1215,  1581,   477,   767,   315, 28742, 28715,\n",
            "         12336,  3324, 28723,    13, 28737, 28742,   333,   750,  3653, 14344,\n",
            "          1854,   315,   403, 28705, 28740, 28750]])\n"
          ]
        }
      ]
    },
    {
      "cell_type": "markdown",
      "source": [
        "## Let's now do a different task"
      ],
      "metadata": {
        "id": "i1WRgFIFjL7B"
      }
    },
    {
      "cell_type": "code",
      "source": [
        "prompt =  \"def find_max(numbers):\"\n",
        "generate_output(prompt, tiny_general_model, tiny_general_tokenizer)"
      ],
      "metadata": {
        "id": "Kr-vyJLNjIr_",
        "colab": {
          "base_uri": "https://localhost:8080/"
        },
        "outputId": "21551996-69d7-48d6-ed01-3d965a074d53"
      },
      "execution_count": null,
      "outputs": [
        {
          "output_type": "stream",
          "name": "stderr",
          "text": [
            "Setting `pad_token_id` to `eos_token_id`:2 for open-end generation.\n"
          ]
        },
        {
          "output_type": "stream",
          "name": "stdout",
          "text": [
            "\n",
            "       \"\"\"\n",
            "       Returns the number of times a user has been added to the list.\n",
            "       \"\"\"\n",
            "       return num_users() + 1\n",
            "\n",
            "   def get_user_id(self, id):\n",
            "       \"\"\"\n",
            "       Returns the number of users that have been added to the list.\n",
            "       \"\"\"\n",
            "       return self._get_user_id(id)\n",
            "\n",
            "   def get_user_name(self, name):\n",
            "       \"\"\"\n",
            "       Returns the name of the user that has been added to the list.\n",
            "       \"\"\"\n",
            "       return self._get_user_name(name\n",
            "tensor([[    1,   801,  1300, 28730,  2416, 28732,  2575,  1891,  1329,    13,\n",
            "          5390,  3504,    13,  5390,  6699,   272,  1474,   302,  2421,   264,\n",
            "          2188,   659,   750,  3886,   298,   272,  1274, 28723,    13,  5390,\n",
            "          3504,    13,  5390,   604,  2075, 28730, 10247,   470,   648, 28705,\n",
            "         28740,    13,    13,  2287,   801,   625, 28730,  1838, 28730,   313,\n",
            "         28732,   944, 28725,  1910,  1329,    13,  5390,  3504,    13,  5390,\n",
            "          6699,   272,  1474,   302,  5443,   369,   506,   750,  3886,   298,\n",
            "           272,  1274, 28723,    13,  5390,  3504,    13,  5390,   604,  1008,\n",
            "          1573,   527, 28730,  1838, 28730,   313, 28732,   313, 28731,    13,\n",
            "            13,  2287,   801,   625, 28730,  1838, 28730,   861, 28732,   944,\n",
            "         28725,  1141,  1329,    13,  5390,  3504,    13,  5390,  6699,   272,\n",
            "          1141,   302,   272,  2188,   369,   659,   750,  3886,   298,   272,\n",
            "          1274, 28723,    13,  5390,  3504,    13,  5390,   604,  1008,  1573,\n",
            "           527, 28730,  1838, 28730,   861, 28732,   861]])\n"
          ]
        }
      ]
    },
    {
      "cell_type": "markdown",
      "source": [
        "## Since it is bad, we would use a model that is better at doing python code.\n"
      ],
      "metadata": {
        "id": "pB52M4Zijdrg"
      }
    },
    {
      "cell_type": "code",
      "source": [
        "model_path_or_name = \"upstage/TinySolar-248m-4k-code-instruct\"\n",
        "python_ft_model = AutoModelForCausalLM.from_pretrained(\n",
        "    model_path_or_name,\n",
        "    device_map=\"auto\",\n",
        "    torch_dtype=torch.bfloat16\n",
        ")\n",
        "python_ft_tokenizer = AutoTokenizer.from_pretrained(\n",
        "    model_path_or_name\n",
        ")\n",
        "\n",
        "generate_output(prompt, python_ft_model, python_ft_tokenizer)"
      ],
      "metadata": {
        "colab": {
          "base_uri": "https://localhost:8080/"
        },
        "id": "Njyf_bgFjhkd",
        "outputId": "6ed44847-9921-47ea-eda2-956d54885a07"
      },
      "execution_count": null,
      "outputs": [
        {
          "output_type": "stream",
          "name": "stderr",
          "text": [
            "Setting `pad_token_id` to `eos_token_id`:2 for open-end generation.\n"
          ]
        },
        {
          "output_type": "stream",
          "name": "stdout",
          "text": [
            "\n",
            "   if len(numbers) == 0:\n",
            "       return \"Invalid input\"\n",
            "   else:\n",
            "       return max(numbers)\n",
            "```\n",
            "\n",
            "In this solution, the `find_max` function takes a list of numbers as input and returns the maximum value in that list. It then iterates through each number in the list and checks if it is greater than or equal to 1. If it is, it adds it to the `max` list. Finally, it returns the maximum value found so far.\n",
            "tensor([[    1,   801,  1300, 28730,  2416, 28732,  2575,  1891,  1329,    13,\n",
            "          2287,   513,  3919, 28732,  2575,  1891, 28731,   859, 28705, 28734,\n",
            "         28747,    13,  5390,   604,   345,  6976,  2787, 28739,    13,  2287,\n",
            "          1112, 28747,    13,  5390,   604,  2666, 28732,  2575,  1891, 28731,\n",
            "            13, 13940, 28832,    13,    13,   657,   456,  5165, 28725,   272,\n",
            "          1552,  3326, 28730,  2416, 28832,   908,  4347,   264,  1274,   302,\n",
            "          5551,   390,  2787,   304,  5723,   272,  7228,  1192,   297,   369,\n",
            "          1274, 28723,   661,   868,  6854,  1002,  1059,  1430,  1474,   297,\n",
            "           272,  1274,   304, 13804,   513,   378,   349,  6517,   821,   442,\n",
            "          6530,   298, 28705, 28740, 28723,  1047,   378,   349, 28725,   378,\n",
            "         13633,   378,   298,   272,  1552,  2416, 28832,  1274, 28723,  8126,\n",
            "         28725,   378,  5723,   272,  7228,  1192,  1419,   579,  2082, 28723,\n",
            "             2]])\n"
          ]
        }
      ]
    },
    {
      "cell_type": "markdown",
      "source": [
        "## In this model we are going to use even a model that is trained on actual Python code."
      ],
      "metadata": {
        "id": "aBMKuEMHkUAk"
      }
    },
    {
      "cell_type": "code",
      "source": [
        "model_path_or_name = \"upstage/TinySolar-248m-4k-py\"\n",
        "python_pt_model = AutoModelForCausalLM.from_pretrained(\n",
        "    model_path_or_name,\n",
        "    device_map=\"auto\",\n",
        "    torch_dtype=torch.bfloat16\n",
        ")\n",
        "python_pt_tokenizer = AutoTokenizer.from_pretrained(\n",
        "    model_path_or_name\n",
        ")\n",
        "generate_output(prompt, python_pt_model, python_pt_tokenizer)"
      ],
      "metadata": {
        "colab": {
          "base_uri": "https://localhost:8080/"
        },
        "id": "f2CLS1MNkfsu",
        "outputId": "e3952de2-3457-4e06-9792-9a3964af5a62"
      },
      "execution_count": null,
      "outputs": [
        {
          "output_type": "stream",
          "name": "stderr",
          "text": [
            "Setting `pad_token_id` to `eos_token_id`:2 for open-end generation.\n"
          ]
        },
        {
          "output_type": "stream",
          "name": "stdout",
          "text": [
            "\n",
            "   \"\"\"Find the maximum number of numbers in a list.\"\"\"\n",
            "   max = 0\n",
            "   for num in numbers:\n",
            "       if num > max:\n",
            "           max = num\n",
            "   return max\n",
            "\n",
            "\n",
            "def get_min_max(numbers, min_value=1):\n",
            "   \"\"\"Get the minimum value of a list.\"\"\"\n",
            "   min_value = min_value or 1\n",
            "   for num in numbers:\n",
            "       if num < min_value:\n",
            "           min_value = num\n",
            "   return min_value\n",
            "\n",
            "tensor([[    1,   801,  1300, 28730,  2416, 28732,  2575,  1891,  1329,    13,\n",
            "          2287,  3504, 10779,   272,  7228,  1474,   302,  5551,   297,   264,\n",
            "          1274, 16498,    13,  2287,  2666,   327, 28705, 28734,    13,  2287,\n",
            "           354,  2075,   297,  5551, 28747,    13,  5390,   513,  2075,   876,\n",
            "          2666, 28747,    13, 17422,  2666,   327,  2075,    13,  2287,   604,\n",
            "          2666,    13,    13,    13,  1270,   625, 28730,  1240, 28730,  2416,\n",
            "         28732,  2575,  1891, 28725,  1187, 28730,  1431, 28746, 28740,  1329,\n",
            "            13,  2287,  3504,  1458,   272,  7968,  1192,   302,   264,  1274,\n",
            "         16498,    13,  2287,  1187, 28730,  1431,   327,  1187, 28730,  1431,\n",
            "           442, 28705, 28740,    13,  2287,   354,  2075,   297,  5551, 28747,\n",
            "            13,  5390,   513,  2075,   523,  1187, 28730,  1431, 28747,    13,\n",
            "         17422,  1187, 28730,  1431,   327,  2075,    13,  2287,   604,  1187,\n",
            "         28730,  1431,    13,     2]])\n"
          ]
        }
      ]
    },
    {
      "cell_type": "markdown",
      "source": [
        "# Stage 2: Data preparation"
      ],
      "metadata": {
        "id": "8OPqaR-tluKF"
      }
    },
    {
      "cell_type": "code",
      "source": [
        "!pip install -q datasets # from Huggingface"
      ],
      "metadata": {
        "id": "71-3PVtalxDf",
        "colab": {
          "base_uri": "https://localhost:8080/"
        },
        "outputId": "97bb5050-7a12-42b5-bd20-a734e0d26950"
      },
      "execution_count": null,
      "outputs": [
        {
          "output_type": "stream",
          "name": "stdout",
          "text": [
            "Requirement already satisfied: datasets in /usr/local/lib/python3.10/dist-packages (2.20.0)\n",
            "Requirement already satisfied: filelock in /usr/local/lib/python3.10/dist-packages (from datasets) (3.15.4)\n",
            "Requirement already satisfied: numpy>=1.17 in /usr/local/lib/python3.10/dist-packages (from datasets) (1.25.2)\n",
            "Requirement already satisfied: pyarrow>=15.0.0 in /usr/local/lib/python3.10/dist-packages (from datasets) (17.0.0)\n",
            "Requirement already satisfied: pyarrow-hotfix in /usr/local/lib/python3.10/dist-packages (from datasets) (0.6)\n",
            "Requirement already satisfied: dill<0.3.9,>=0.3.0 in /usr/local/lib/python3.10/dist-packages (from datasets) (0.3.8)\n",
            "Requirement already satisfied: pandas in /usr/local/lib/python3.10/dist-packages (from datasets) (2.0.3)\n",
            "Requirement already satisfied: requests>=2.32.2 in /usr/local/lib/python3.10/dist-packages (from datasets) (2.32.3)\n",
            "Requirement already satisfied: tqdm>=4.66.3 in /usr/local/lib/python3.10/dist-packages (from datasets) (4.66.4)\n",
            "Requirement already satisfied: xxhash in /usr/local/lib/python3.10/dist-packages (from datasets) (3.4.1)\n",
            "Requirement already satisfied: multiprocess in /usr/local/lib/python3.10/dist-packages (from datasets) (0.70.16)\n",
            "Requirement already satisfied: fsspec[http]<=2024.5.0,>=2023.1.0 in /usr/local/lib/python3.10/dist-packages (from datasets) (2023.6.0)\n",
            "Requirement already satisfied: aiohttp in /usr/local/lib/python3.10/dist-packages (from datasets) (3.9.5)\n",
            "Requirement already satisfied: huggingface-hub>=0.21.2 in /usr/local/lib/python3.10/dist-packages (from datasets) (0.23.5)\n",
            "Requirement already satisfied: packaging in /usr/local/lib/python3.10/dist-packages (from datasets) (24.1)\n",
            "Requirement already satisfied: pyyaml>=5.1 in /usr/local/lib/python3.10/dist-packages (from datasets) (6.0.1)\n",
            "Requirement already satisfied: aiosignal>=1.1.2 in /usr/local/lib/python3.10/dist-packages (from aiohttp->datasets) (1.3.1)\n",
            "Requirement already satisfied: attrs>=17.3.0 in /usr/local/lib/python3.10/dist-packages (from aiohttp->datasets) (23.2.0)\n",
            "Requirement already satisfied: frozenlist>=1.1.1 in /usr/local/lib/python3.10/dist-packages (from aiohttp->datasets) (1.4.1)\n",
            "Requirement already satisfied: multidict<7.0,>=4.5 in /usr/local/lib/python3.10/dist-packages (from aiohttp->datasets) (6.0.5)\n",
            "Requirement already satisfied: yarl<2.0,>=1.0 in /usr/local/lib/python3.10/dist-packages (from aiohttp->datasets) (1.9.4)\n",
            "Requirement already satisfied: async-timeout<5.0,>=4.0 in /usr/local/lib/python3.10/dist-packages (from aiohttp->datasets) (4.0.3)\n",
            "Requirement already satisfied: typing-extensions>=3.7.4.3 in /usr/local/lib/python3.10/dist-packages (from huggingface-hub>=0.21.2->datasets) (4.12.2)\n",
            "Requirement already satisfied: charset-normalizer<4,>=2 in /usr/local/lib/python3.10/dist-packages (from requests>=2.32.2->datasets) (3.3.2)\n",
            "Requirement already satisfied: idna<4,>=2.5 in /usr/local/lib/python3.10/dist-packages (from requests>=2.32.2->datasets) (3.7)\n",
            "Requirement already satisfied: urllib3<3,>=1.21.1 in /usr/local/lib/python3.10/dist-packages (from requests>=2.32.2->datasets) (2.0.7)\n",
            "Requirement already satisfied: certifi>=2017.4.17 in /usr/local/lib/python3.10/dist-packages (from requests>=2.32.2->datasets) (2024.7.4)\n",
            "Requirement already satisfied: python-dateutil>=2.8.2 in /usr/local/lib/python3.10/dist-packages (from pandas->datasets) (2.8.2)\n",
            "Requirement already satisfied: pytz>=2020.1 in /usr/local/lib/python3.10/dist-packages (from pandas->datasets) (2023.4)\n",
            "Requirement already satisfied: tzdata>=2022.1 in /usr/local/lib/python3.10/dist-packages (from pandas->datasets) (2024.1)\n",
            "Requirement already satisfied: six>=1.5 in /usr/local/lib/python3.10/dist-packages (from python-dateutil>=2.8.2->pandas->datasets) (1.16.0)\n"
          ]
        }
      ]
    },
    {
      "cell_type": "code",
      "source": [
        "import datasets\n",
        "pretraining_dataset = datasets.load_dataset(\n",
        "    \"upstage/Pretraining_Dataset\",\n",
        "    split=\"train\"\n",
        ")"
      ],
      "metadata": {
        "id": "sUVkqxuioWhT"
      },
      "execution_count": null,
      "outputs": []
    },
    {
      "cell_type": "markdown",
      "source": [
        "## Understand differences between a pre-trained dataset and an instruction dataset"
      ],
      "metadata": {
        "id": "XkkbXMM6pAAg"
      }
    },
    {
      "cell_type": "code",
      "source": [
        "print(pretraining_dataset)"
      ],
      "metadata": {
        "colab": {
          "base_uri": "https://localhost:8080/"
        },
        "id": "FL_hwCx3ofjY",
        "outputId": "49fdd855-2ca9-4a5c-d81f-fdf9f3dcacb0"
      },
      "execution_count": null,
      "outputs": [
        {
          "output_type": "stream",
          "name": "stdout",
          "text": [
            "Dataset({\n",
            "    features: ['text', 'meta'],\n",
            "    num_rows: 60000\n",
            "})\n"
          ]
        }
      ]
    },
    {
      "cell_type": "code",
      "source": [
        "pretraining_dataset[0][\"text\"][:300]"
      ],
      "metadata": {
        "colab": {
          "base_uri": "https://localhost:8080/",
          "height": 71
        },
        "id": "scen4AiSoi22",
        "outputId": "9a5b1ea6-2fa2-4e3c-9a1b-c74d115861da"
      },
      "execution_count": null,
      "outputs": [
        {
          "output_type": "execute_result",
          "data": {
            "text/plain": [
              "'In 1793 Zaman Shah, a grandson of Ahmad Shah Durrani, won a brief war of succession to become ruler of Afghanistan. The support of Painda Khan, chief of the Baraksai branch of the Durrani tribe, was decisive in his victory. In the next fifty year., the brothers of Zaman shah and the sons of Painda K'"
            ],
            "application/vnd.google.colaboratory.intrinsic+json": {
              "type": "string"
            }
          },
          "metadata": {},
          "execution_count": 5
        }
      ]
    },
    {
      "cell_type": "code",
      "source": [
        "instruction_dataset = datasets.load_dataset(\n",
        "    \"c-s-ale/alpaca-gpt4-data\",\n",
        "    split='train'\n",
        ")\n",
        "print(instruction_dataset)"
      ],
      "metadata": {
        "colab": {
          "base_uri": "https://localhost:8080/",
          "height": 184,
          "referenced_widgets": [
            "1e5579f20c0f406ca319825d03e0b2b2",
            "10ea988409b54e23b4d05de0f7a3aabf",
            "0e09ba8db83b4327bdf6f719d85adfa3",
            "4c17432e672243ea86931c9286bffa47",
            "ee7df834e1c249a389c8504cc88ebb80",
            "92f101c1f45c4dcfa19c72cda4d7df6a",
            "cbbde9a45c7648fca9a2350c38c0efde",
            "2e9e51aa0fae4030bf870d77e04d51c5",
            "b55526709c2b416aaf2e203646cdaff7",
            "f6db5f798ea144d0bef8da54987380a8",
            "3a6fae2452504e749dbc520eb3eff5e1",
            "cab128ca27e9443db743bb2c6d21fc1e",
            "82bce8982cc64d999a3ca5a9dad95de7",
            "c9a95def8c7b4f9c87659f006c211494",
            "88435f8abe584fbcb8102c13e1b035c8",
            "b0481261b757427a90583d3ca3653847",
            "e41c99cb94dd407d82f40a6c61dabed5",
            "53be5ac497644c79b7e4938f9b1837d6",
            "6c567714e8e04bbeb8240bc2e8b6e6bc",
            "5ee643fde16f4e91b75de08c52223785",
            "a7a981ce3e174167bdbfa1d369df2d11",
            "415aadb89dd54743be3fa7bb0ca08b12",
            "8bf763173429472ca8c8f757d273e090",
            "268383c5e3b94d02a0d17549b766a74f",
            "7d8c3a01248d4741a737ccf8a7b639ae",
            "091d8394e9f14af486a5dcb2e22b25a6",
            "a5714051e2614fb99142b3f61b78fdea",
            "128029b451fc40a78517735e21763f14",
            "caeb2580ab7e4a0ea91a49564fcba834",
            "61fd5407499141bcaf867147c4237af0",
            "48739c443f924da887c81db94fd58c1f",
            "12e770cb808e41e5bdff050be27a26cc",
            "5a210cf3f6824530b8809deb002cfcd2"
          ]
        },
        "id": "NK_icQeZowgA",
        "outputId": "008e1cc3-4a5b-4a53-b929-d38d34ad88bc"
      },
      "execution_count": null,
      "outputs": [
        {
          "output_type": "display_data",
          "data": {
            "text/plain": [
              "Downloading readme:   0%|          | 0.00/1.39k [00:00<?, ?B/s]"
            ],
            "application/vnd.jupyter.widget-view+json": {
              "version_major": 2,
              "version_minor": 0,
              "model_id": "1e5579f20c0f406ca319825d03e0b2b2"
            }
          },
          "metadata": {}
        },
        {
          "output_type": "display_data",
          "data": {
            "text/plain": [
              "Downloading data:   0%|          | 0.00/43.4M [00:00<?, ?B/s]"
            ],
            "application/vnd.jupyter.widget-view+json": {
              "version_major": 2,
              "version_minor": 0,
              "model_id": "cab128ca27e9443db743bb2c6d21fc1e"
            }
          },
          "metadata": {}
        },
        {
          "output_type": "display_data",
          "data": {
            "text/plain": [
              "Generating train split:   0%|          | 0/52002 [00:00<?, ? examples/s]"
            ],
            "application/vnd.jupyter.widget-view+json": {
              "version_major": 2,
              "version_minor": 0,
              "model_id": "8bf763173429472ca8c8f757d273e090"
            }
          },
          "metadata": {}
        },
        {
          "output_type": "stream",
          "name": "stdout",
          "text": [
            "Dataset({\n",
            "    features: ['instruction', 'input', 'output'],\n",
            "    num_rows: 52002\n",
            "})\n"
          ]
        }
      ]
    },
    {
      "cell_type": "code",
      "source": [
        "i=10\n",
        "print(\"Instruction: \" + instruction_dataset[i][\"instruction\"]\n",
        "      + \"\\nInput: \" + instruction_dataset[i][\"input\"]\n",
        "      + \"\\nOutput: \" + instruction_dataset[i][\"output\"])"
      ],
      "metadata": {
        "colab": {
          "base_uri": "https://localhost:8080/"
        },
        "id": "t4YpqwU5o2G5",
        "outputId": "4c617f86-eacb-49a4-df2b-828ad2bc8e54"
      },
      "execution_count": null,
      "outputs": [
        {
          "output_type": "stream",
          "name": "stdout",
          "text": [
            "Instruction: How did Julius Caesar die?\n",
            "Input: \n",
            "Output: Julius Caesar, the Roman Military general, and statesman was assassinated on March 15, 44 BC. He was stabbed to death at a meeting of the Senate in the Theatre of Pompey by a group of senators who called themselves the Liberatores. Led by Gaius Cassius Longinus, and Marcus Junius Brutus, they believed that Caesar's dictatorship was subverting the Roman Republic and sought to restore the traditional republican government. The exact number of assailants is not known, but it is believed that a group of as many as 60 conspirators participated in the assassination, and each of them took turns in stabbing Caesar. The day of his death is still known as the Ides of March.\n"
          ]
        }
      ]
    },
    {
      "cell_type": "markdown",
      "source": [
        "## Getting custom data"
      ],
      "metadata": {
        "id": "_ggOoKknpVhS"
      }
    },
    {
      "cell_type": "code",
      "source": [
        "import os\n",
        "import requests\n",
        "\n",
        "# Path to directory to store python scripts\n",
        "!mkdir code\n",
        "code_dir = \"./code\""
      ],
      "metadata": {
        "id": "24okFVkqpYJh"
      },
      "execution_count": null,
      "outputs": []
    },
    {
      "cell_type": "code",
      "source": [
        "urls = [\n",
        "    \"https://raw.githubusercontent.com/TheAlgorithms/Python/master/searches/double_linear_search_recursion.py\",\n",
        "    \"https://raw.githubusercontent.com/KosingZhu/tensorflow/master/tensorflow/python/tools/module_util.py\",\n",
        "    \"https://raw.githubusercontent.com/EricRemmerswaal/tensorflow/master/tensorflow/python/distribute/distribute_coordinator_context.py\",\n",
        "    \"https://raw.githubusercontent.com/computationalartist/tensorflow/master/tensorflow/python/ops/numpy_ops/integration_test/benchmarks/numpy_mlp.py\",\n",
        "    \"https://raw.githubusercontent.com/Van-an/tensorflow/master/tensorflow/python/distribute/coordinator/values.py\",\n",
        "    \"https://raw.githubusercontent.com/nkgwer/tensorflow/master/tensorflow/lite/tools/visualize.py\",\n",
        "    \"https://raw.githubusercontent.com/gitblazer/youtube-dl/master/youtube_dl/version.py\",\n",
        "    \"https://raw.githubusercontent.com/Joshua-Barawa/My-Photos/master/venv/lib/python3.8/site-packages/django/contrib/messages/__init__.py\",\n",
        "    \"https://raw.githubusercontent.com/PaliC/pytorch/master/test/fx/test_subgraph_rewriter.py\"\n",
        "]"
      ],
      "metadata": {
        "id": "7BXT8OUopb8d"
      },
      "execution_count": null,
      "outputs": []
    },
    {
      "cell_type": "code",
      "source": [
        "for url in urls:\n",
        "    print(f\"Working on url: {url}\")\n",
        "    response = requests.get(url)\n",
        "    file_name = os.path.basename(url)\n",
        "    file_path = os.path.join(code_dir, file_name)\n",
        "\n",
        "    with open(file_path, \"wb\") as file:\n",
        "        file.write(response.content)"
      ],
      "metadata": {
        "colab": {
          "base_uri": "https://localhost:8080/"
        },
        "id": "inVVutgUpe6V",
        "outputId": "b54be670-8d87-4577-e578-dd194dbb0f21"
      },
      "execution_count": null,
      "outputs": [
        {
          "output_type": "stream",
          "name": "stdout",
          "text": [
            "Working on url: https://raw.githubusercontent.com/TheAlgorithms/Python/master/searches/double_linear_search_recursion.py\n",
            "Working on url: https://raw.githubusercontent.com/KosingZhu/tensorflow/master/tensorflow/python/tools/module_util.py\n",
            "Working on url: https://raw.githubusercontent.com/EricRemmerswaal/tensorflow/master/tensorflow/python/distribute/distribute_coordinator_context.py\n",
            "Working on url: https://raw.githubusercontent.com/computationalartist/tensorflow/master/tensorflow/python/ops/numpy_ops/integration_test/benchmarks/numpy_mlp.py\n",
            "Working on url: https://raw.githubusercontent.com/Van-an/tensorflow/master/tensorflow/python/distribute/coordinator/values.py\n",
            "Working on url: https://raw.githubusercontent.com/nkgwer/tensorflow/master/tensorflow/lite/tools/visualize.py\n",
            "Working on url: https://raw.githubusercontent.com/gitblazer/youtube-dl/master/youtube_dl/version.py\n",
            "Working on url: https://raw.githubusercontent.com/Joshua-Barawa/My-Photos/master/venv/lib/python3.8/site-packages/django/contrib/messages/__init__.py\n",
            "Working on url: https://raw.githubusercontent.com/PaliC/pytorch/master/test/fx/test_subgraph_rewriter.py\n"
          ]
        }
      ]
    },
    {
      "cell_type": "markdown",
      "source": [
        "## Convert this to proper format"
      ],
      "metadata": {
        "id": "zELZXRahuaV7"
      }
    },
    {
      "cell_type": "code",
      "source": [
        "code_dataset = []\n",
        "for file in os.listdir(code_dir):\n",
        "    code_dataset.append(\n",
        "        {'text': open(os.path.join(code_dir, file), 'r').read()}\n",
        "    )\n",
        "code_dataset = datasets.Dataset.from_list(code_dataset)\n",
        "print(code_dataset)"
      ],
      "metadata": {
        "colab": {
          "base_uri": "https://localhost:8080/"
        },
        "id": "Tisra30Iuc5e",
        "outputId": "87ad93d0-b21c-4de7-b9ab-3e69fd6c7037"
      },
      "execution_count": null,
      "outputs": [
        {
          "output_type": "stream",
          "name": "stdout",
          "text": [
            "Dataset({\n",
            "    features: ['text'],\n",
            "    num_rows: 9\n",
            "})\n"
          ]
        }
      ]
    },
    {
      "cell_type": "code",
      "source": [
        "dataset = datasets.concatenate_datasets(\n",
        "    [pretraining_dataset, code_dataset]\n",
        ")\n",
        "print(dataset)"
      ],
      "metadata": {
        "colab": {
          "base_uri": "https://localhost:8080/"
        },
        "id": "JAPr_lDNujut",
        "outputId": "e1c716e7-2aaf-4a7d-a16a-1aa94e517506"
      },
      "execution_count": null,
      "outputs": [
        {
          "output_type": "stream",
          "name": "stdout",
          "text": [
            "Dataset({\n",
            "    features: ['text', 'meta'],\n",
            "    num_rows: 60009\n",
            "})\n"
          ]
        }
      ]
    },
    {
      "cell_type": "code",
      "source": [
        "dataset[0][\"text\"][:300]"
      ],
      "metadata": {
        "colab": {
          "base_uri": "https://localhost:8080/",
          "height": 107
        },
        "id": "KVYBeQfe2uqM",
        "outputId": "31092430-01d2-491d-ef7f-82c4d5c7d0cc"
      },
      "execution_count": null,
      "outputs": [
        {
          "output_type": "execute_result",
          "data": {
            "text/plain": [
              "'In 1793 Zaman Shah, a grandson of Ahmad Shah Durrani, won a brief war of succession to become ruler of Afghanistan. The support of Painda Khan, chief of the Baraksai branch of the Durrani tribe, was decisive in his victory. In the next fifty year., the brothers of Zaman shah and the sons of Painda K'"
            ],
            "application/vnd.google.colaboratory.intrinsic+json": {
              "type": "string"
            }
          },
          "metadata": {},
          "execution_count": 42
        }
      ]
    },
    {
      "cell_type": "markdown",
      "source": [
        "## Clean up data"
      ],
      "metadata": {
        "id": "M9o79YAVu6CC"
      }
    },
    {
      "cell_type": "code",
      "source": [
        "# Clean up data to remove too short data\n",
        "import heapq\n",
        "\n",
        "def paragraph_length_filter(x):\n",
        "    \"\"\"Returns False iff a page has too few lines or lines are too short.\"\"\"\n",
        "    lines = x['text'].split('\\n')\n",
        "    if (\n",
        "        len(lines) < 3\n",
        "        or min(heapq.nlargest(3, [len(line) for line in lines])) < 3\n",
        "    ):\n",
        "        return False\n",
        "    return True"
      ],
      "metadata": {
        "id": "8VfAD9rWus3H"
      },
      "execution_count": null,
      "outputs": []
    },
    {
      "cell_type": "code",
      "source": [
        "dataset = dataset.filter(\n",
        "    paragraph_length_filter,\n",
        "    load_from_cache_file=False\n",
        ")\n",
        "dataset.num_rows"
      ],
      "metadata": {
        "colab": {
          "base_uri": "https://localhost:8080/",
          "height": 67,
          "referenced_widgets": [
            "ead95d6fbae349498ce15aecf0c4bbd3",
            "30c71097b52d4b939ecb25d34ac9776f",
            "eee4e386299740e684ccb6ab4a6de9c3",
            "14386c509de54ab29e00447a2130aaf2",
            "655db2798c16479bbaabcc6d6528466f",
            "14c11e15a5ca43f7a03fc57680259397",
            "59358dbd322e4e9ab3aec4991e8eef5c",
            "dbd6ab1c794a4cfda209a1d9c927505c",
            "8264c08fc4aa40f7840dc99c66973ab4",
            "8286220ce26c4d258f778c9e3ef58bf9",
            "4151c98058314dd291968ffaa3b7f83e"
          ]
        },
        "id": "lsZXeoxeu9EE",
        "outputId": "23b0eae5-afad-4601-a98a-0dd690c230f1"
      },
      "execution_count": null,
      "outputs": [
        {
          "output_type": "display_data",
          "data": {
            "text/plain": [
              "Filter:   0%|          | 0/60009 [00:00<?, ? examples/s]"
            ],
            "application/vnd.jupyter.widget-view+json": {
              "version_major": 2,
              "version_minor": 0,
              "model_id": "ead95d6fbae349498ce15aecf0c4bbd3"
            }
          },
          "metadata": {}
        },
        {
          "output_type": "execute_result",
          "data": {
            "text/plain": [
              "52357"
            ]
          },
          "metadata": {},
          "execution_count": 44
        }
      ]
    },
    {
      "cell_type": "code",
      "source": [
        "# Remove paragraph repetition\n",
        "import re\n",
        "\n",
        "def find_duplicates(paragraphs):\n",
        "    \"\"\"\n",
        "    Use this function to find the number of repetitions\n",
        "    in the paragraphs.\n",
        "    \"\"\"\n",
        "    unique_x = set()\n",
        "    duplicate_chars = 0\n",
        "    duplicate_elements = 0\n",
        "    for element in paragraphs:\n",
        "        if element in unique_x:\n",
        "            duplicate_chars += len(element)\n",
        "            duplicate_elements += 1\n",
        "        else:\n",
        "            unique_x.add(element)\n",
        "    return duplicate_elements, duplicate_chars\n",
        "\n",
        "def paragraph_repetition_filter(x):\n",
        "    \"\"\"\n",
        "    Returns False iff a page has too many repetitions.\n",
        "    \"\"\"\n",
        "    text = x['text']\n",
        "    paragraphs = re.compile(r\"\\n{2,}\").split(text.strip())                # Split by paragraphs (2 or more newlines)\n",
        "    paragraphs_duplicates, char_duplicates = find_duplicates(paragraphs)  # Find number of duplicates in paragraphs\n",
        "    if paragraphs_duplicates / len(paragraphs) > 0.3:\n",
        "        return False\n",
        "    if char_duplicates / len(text) > 0.2:\n",
        "        return False\n",
        "    return True\n",
        "\n",
        "dataset = dataset.filter(\n",
        "    paragraph_repetition_filter,\n",
        "    load_from_cache_file=False\n",
        ")\n",
        "dataset.num_rows"
      ],
      "metadata": {
        "colab": {
          "base_uri": "https://localhost:8080/",
          "height": 67,
          "referenced_widgets": [
            "d1839fb1931c4934abaa0ef810d3da37",
            "2bd21fa3f51942edb21596ff39094d78",
            "e81732f5a6de451ebca510d35751851f",
            "523789f8118f44bf8cdf425eaf832504",
            "d8126a48308d4a6ca256e5ded9c2c378",
            "2d2c95d9a2724310a0e6a824b7aa7a8e",
            "7b51551525b8437aa6b588186c286cd1",
            "73e302c3bcbd45c2b6c5313e27508f16",
            "79b1218ab6b74095b86829012a45fef5",
            "9352bb4989d84201a9456f40694f47c7",
            "440dec30c39c4b4a8e2fa87a1c028fcc"
          ]
        },
        "id": "Q-j4Rk3pvNUb",
        "outputId": "f82a05d0-fcdf-4573-8a09-868793c609bf"
      },
      "execution_count": null,
      "outputs": [
        {
          "output_type": "display_data",
          "data": {
            "text/plain": [
              "Filter:   0%|          | 0/52357 [00:00<?, ? examples/s]"
            ],
            "application/vnd.jupyter.widget-view+json": {
              "version_major": 2,
              "version_minor": 0,
              "model_id": "d1839fb1931c4934abaa0ef810d3da37"
            }
          },
          "metadata": {}
        },
        {
          "output_type": "execute_result",
          "data": {
            "text/plain": [
              "52327"
            ]
          },
          "metadata": {},
          "execution_count": 45
        }
      ]
    },
    {
      "cell_type": "code",
      "source": [
        "def deduplication(ds):\n",
        "    def dedup_func(x):\n",
        "        \"\"\"Use this function to remove duplicate entries\"\"\"\n",
        "        if x['text'] in unique_text:\n",
        "            return False\n",
        "        else:\n",
        "            unique_text.add(x['text'])\n",
        "            return True\n",
        "\n",
        "    unique_text = set()\n",
        "\n",
        "    ds = ds.filter(dedup_func, load_from_cache_file=False, num_proc=1)\n",
        "    return ds\n",
        "\n",
        "dataset = deduplication(dataset)\n",
        "dataset.num_rows"
      ],
      "metadata": {
        "colab": {
          "base_uri": "https://localhost:8080/",
          "height": 67,
          "referenced_widgets": [
            "dbcc9eb43d754639857a51891816f802",
            "9b2a6102d1d5443d94e56c85fd191c3c",
            "c9283c07578240d2b68c2f36d9f9a9a7",
            "ed5bb4444a0d45f78829d4a03fd82385",
            "bd40b437ee7e488da3a004b4f1853169",
            "ae02346450564789a2f2b7ba74ddb722",
            "ceaea3ca666643baa887cccce376e33f",
            "9905d239b29642a3988d6262212e9d09",
            "79a237bcad284652a1d5534058efb0bd",
            "c60d6bb01a9e4715adbd19455e7a8d55",
            "dd4ba2cbd4fd4071badbb80b7eddb74a"
          ]
        },
        "id": "4K3bL2erviTI",
        "outputId": "1b68afc6-6314-4bcf-ced6-6e77a24fa08d"
      },
      "execution_count": null,
      "outputs": [
        {
          "output_type": "display_data",
          "data": {
            "text/plain": [
              "Filter:   0%|          | 0/52327 [00:00<?, ? examples/s]"
            ],
            "application/vnd.jupyter.widget-view+json": {
              "version_major": 2,
              "version_minor": 0,
              "model_id": "dbcc9eb43d754639857a51891816f802"
            }
          },
          "metadata": {}
        },
        {
          "output_type": "execute_result",
          "data": {
            "text/plain": [
              "43598"
            ]
          },
          "metadata": {},
          "execution_count": 46
        }
      ]
    },
    {
      "cell_type": "code",
      "source": [
        "# Remove non-English data\n",
        "!pip install fasttext\n",
        "import urllib\n",
        "from fasttext.FastText import _FastText\n"
      ],
      "metadata": {
        "colab": {
          "base_uri": "https://localhost:8080/",
          "height": 176,
          "referenced_widgets": [
            "f462a63c03a24eaea1f304885f86a1cb",
            "ce90a1e52a24474fb0b1b1ffdfba28d9",
            "cd936450e73346029fe0b03c7fb88b55",
            "7c0913256630422baf02454dcb7b4363",
            "1fca209341ee41f8b190c8f043d48975",
            "568e73e229bf463fbf64f68e1a1922c5",
            "ccd0ce9fd4cb4667b8db5f3a3f3c2b83",
            "6fcb54fd1be845f3a2d5834a47120860",
            "33083d3c8c1447ecb152a39e1254a3ed",
            "36b1bfb2ee2d4077aa24ef2200554ef5",
            "2055cd25718540429ee0f0e599b0168c"
          ]
        },
        "id": "YgKDdtQLvq9E",
        "outputId": "d20c81fb-7d98-4b33-806c-75c09947ef19"
      },
      "execution_count": null,
      "outputs": [
        {
          "output_type": "stream",
          "name": "stdout",
          "text": [
            "Requirement already satisfied: fasttext in /usr/local/lib/python3.10/dist-packages (0.9.3)\n",
            "Requirement already satisfied: pybind11>=2.2 in /usr/local/lib/python3.10/dist-packages (from fasttext) (2.13.1)\n",
            "Requirement already satisfied: setuptools>=0.7.0 in /usr/local/lib/python3.10/dist-packages (from fasttext) (67.7.2)\n",
            "Requirement already satisfied: numpy in /usr/local/lib/python3.10/dist-packages (from fasttext) (1.25.2)\n"
          ]
        },
        {
          "output_type": "stream",
          "name": "stderr",
          "text": [
            "Parameter 'function'=<function english_language_filter.<locals>.is_english at 0x7d981b9b5ea0> of the transform datasets.arrow_dataset.Dataset.filter@2.0.1 couldn't be hashed properly, a random hash was used instead. Make sure your transforms and parameters are serializable with pickle or dill for the dataset fingerprinting and caching to work. If you reuse this transform, the caching mechanism will consider it to be different from the previous calls and recompute everything. This warning is only showed once. Subsequent hashing failures won't be showed.\n",
            "WARNING:datasets.fingerprint:Parameter 'function'=<function english_language_filter.<locals>.is_english at 0x7d981b9b5ea0> of the transform datasets.arrow_dataset.Dataset.filter@2.0.1 couldn't be hashed properly, a random hash was used instead. Make sure your transforms and parameters are serializable with pickle or dill for the dataset fingerprinting and caching to work. If you reuse this transform, the caching mechanism will consider it to be different from the previous calls and recompute everything. This warning is only showed once. Subsequent hashing failures won't be showed.\n"
          ]
        },
        {
          "output_type": "display_data",
          "data": {
            "text/plain": [
              "Filter:   0%|          | 0/43598 [00:00<?, ? examples/s]"
            ],
            "application/vnd.jupyter.widget-view+json": {
              "version_major": 2,
              "version_minor": 0,
              "model_id": "f462a63c03a24eaea1f304885f86a1cb"
            }
          },
          "metadata": {}
        }
      ]
    },
    {
      "cell_type": "code",
      "source": [
        "# You can use this to identify language\n",
        "# load language detection model: https://fasttext.cc/docs/en/language-identification.html\n",
        "model = _FastText('./lid.176.bin')\n",
        "language, score = model.predict(\"भवान्‌ कथमसि\")\n",
        "language = language[0].split(\"__\")[2]\n",
        "language, score"
      ],
      "metadata": {
        "colab": {
          "base_uri": "https://localhost:8080/"
        },
        "id": "lkAeoHD11Bip",
        "outputId": "f6be8cdc-d09e-4236-c507-274ba2a798da"
      },
      "execution_count": null,
      "outputs": [
        {
          "output_type": "execute_result",
          "data": {
            "text/plain": [
              "('sa', array([0.91347653]))"
            ]
          },
          "metadata": {},
          "execution_count": 36
        }
      ]
    },
    {
      "cell_type": "code",
      "source": [
        "def english_language_filter(ds):\n",
        "    def is_english(x):\n",
        "        # Predict language of the text and probability\n",
        "        language, score = model.predict(x['text'].replace(\"\\n\", \"\"))\n",
        "\n",
        "        language = language[0].split(\"__\")[2]\n",
        "        return score > 0.4 and language == \"en\" # change code here if building a model in another language\n",
        "\n",
        "    ds = ds.filter(is_english, load_from_cache_file=False, num_proc=1)\n",
        "    return ds\n",
        "\n",
        "dataset = english_language_filter(dataset)\n",
        "dataset.num_rows"
      ],
      "metadata": {
        "colab": {
          "base_uri": "https://localhost:8080/",
          "height": 67,
          "referenced_widgets": [
            "be343e3662fb465a9bfda68542b638ae",
            "f8e77e973d69429d84cd7cf7e3cc627d",
            "0daf8ef2c2894bae8fdea9d770e6295b",
            "1234b1f4431b468e96884ef5b4dc3bb2",
            "c77a625f9c3a416faf4fc69d5f82532c",
            "caa2e2690a8543d599b67d8a56d19931",
            "31449284a8574e09b25bd2d1332cc664",
            "e14067c225d746a590b10d8dd95ebe36",
            "abf2f4a5a3c6471fb3727ecd282369b7",
            "4d6f07da7a814efab1ffdc3434127ba0",
            "946cc78c165e46d6bc6362b9dbc2cff2"
          ]
        },
        "id": "y55-8QGp4daK",
        "outputId": "7dc5f296-1ddc-48a4-b62a-55ef8bffb72c"
      },
      "execution_count": null,
      "outputs": [
        {
          "output_type": "display_data",
          "data": {
            "text/plain": [
              "Filter:   0%|          | 0/43598 [00:00<?, ? examples/s]"
            ],
            "application/vnd.jupyter.widget-view+json": {
              "version_major": 2,
              "version_minor": 0,
              "model_id": "be343e3662fb465a9bfda68542b638ae"
            }
          },
          "metadata": {}
        },
        {
          "output_type": "execute_result",
          "data": {
            "text/plain": [
              "40474"
            ]
          },
          "metadata": {},
          "execution_count": 47
        }
      ]
    },
    {
      "cell_type": "code",
      "source": [
        "!mkdir data\n",
        "file_path = \"./data/preprocessed_dataset.parquet\"\n",
        "dataset.to_parquet(file_path)"
      ],
      "metadata": {
        "colab": {
          "base_uri": "https://localhost:8080/",
          "height": 85,
          "referenced_widgets": [
            "ad41638e06044883b0f10c0947e21f3e",
            "0d9ceafc81bc4e168c79d41a651fd1f7",
            "250892086ce9464bbd7ef685fadc9dbd",
            "c6a722436c1e4dd99c69fff37fa39066",
            "8678f4a53d254230b623a50f2562b093",
            "366ae64096c04df098253e5c095a6455",
            "e00377cbc18f49af809fe9976dc6900f",
            "62fa3662dd1d4516b111bab2efd6f079",
            "6b858f7c9e7040b2865e788809d43ddd",
            "6b699497d2224b4789688f917dff64e4",
            "9c7b6be83f4048409338b51f503ebe55"
          ]
        },
        "id": "VXVKFaEDwIuw",
        "outputId": "815b55a6-017c-436c-fe80-d7e008e194d1"
      },
      "execution_count": null,
      "outputs": [
        {
          "output_type": "stream",
          "name": "stdout",
          "text": [
            "mkdir: cannot create directory ‘data’: File exists\n"
          ]
        },
        {
          "output_type": "display_data",
          "data": {
            "text/plain": [
              "Creating parquet from Arrow format:   0%|          | 0/41 [00:00<?, ?ba/s]"
            ],
            "application/vnd.jupyter.widget-view+json": {
              "version_major": 2,
              "version_minor": 0,
              "model_id": "ad41638e06044883b0f10c0947e21f3e"
            }
          },
          "metadata": {}
        },
        {
          "output_type": "execute_result",
          "data": {
            "text/plain": [
              "197880666"
            ]
          },
          "metadata": {},
          "execution_count": 48
        }
      ]
    },
    {
      "cell_type": "markdown",
      "source": [
        "# 3. Prepocessing for training"
      ],
      "metadata": {
        "id": "x7hQu7sd5oJc"
      }
    },
    {
      "cell_type": "markdown",
      "source": [
        "## 3a. Tokenization"
      ],
      "metadata": {
        "id": "8a8MNxK99FOp"
      }
    },
    {
      "cell_type": "code",
      "source": [
        "# We are going to shard (split) the dataset into a number of chunks for efficient handling\n",
        "dataset = dataset.shard(num_shards=10, index=0)\n",
        "print(dataset)"
      ],
      "metadata": {
        "colab": {
          "base_uri": "https://localhost:8080/"
        },
        "id": "TllycETy5naU",
        "outputId": "9067c2f2-d668-47f4-d9a2-7deee1a19335"
      },
      "execution_count": null,
      "outputs": [
        {
          "output_type": "stream",
          "name": "stdout",
          "text": [
            "Dataset({\n",
            "    features: ['text', 'meta'],\n",
            "    num_rows: 4048\n",
            "})\n"
          ]
        }
      ]
    },
    {
      "cell_type": "code",
      "source": [
        "from transformers import AutoTokenizer\n",
        "tokenizer = AutoTokenizer.from_pretrained(\n",
        "    \"upstage/SOLAR-10.7B-v1.0\",\n",
        "    use_fast=False\n",
        ")\n",
        "tokens = tokenizer.tokenize(\"India is a great country. I'm in love of that.\")\n",
        "print(tokens)"
      ],
      "metadata": {
        "colab": {
          "base_uri": "https://localhost:8080/"
        },
        "id": "4sgX7zv_6zKP",
        "outputId": "1bbf04f2-ab36-4b90-e8f2-43c1fc7f79cf"
      },
      "execution_count": null,
      "outputs": [
        {
          "output_type": "stream",
          "name": "stdout",
          "text": [
            "['▁India', '▁is', '▁a', '▁great', '▁country', '.', '▁I', \"'\", 'm', '▁in', '▁love', '▁of', '▁that', '.']\n"
          ]
        }
      ]
    },
    {
      "cell_type": "code",
      "source": [
        "print(tokenizer.convert_tokens_to_ids(tokens))\n"
      ],
      "metadata": {
        "colab": {
          "base_uri": "https://localhost:8080/"
        },
        "id": "T2ZXq_Rz7mbd",
        "outputId": "775b78d8-93d9-4946-e284-420bf659704a"
      },
      "execution_count": null,
      "outputs": [
        {
          "output_type": "stream",
          "name": "stdout",
          "text": [
            "[5558, 349, 264, 1598, 2939, 28723, 315, 28742, 28719, 297, 2016, 302, 369, 28723]\n"
          ]
        }
      ]
    },
    {
      "cell_type": "code",
      "source": [
        "def tokenization(example):\n",
        "    tokens = tokenizer.tokenize(example[\"text\"])\n",
        "    token_ids = tokenizer.convert_tokens_to_ids(tokens)\n",
        "\n",
        "    # Add <bos>, <eos> tokens to the front and back of tokens_ids\n",
        "    # bos: begin of sequence, eos: end of sequence\n",
        "    token_ids = [\n",
        "        tokenizer.bos_token_id] \\\n",
        "        + token_ids \\\n",
        "        + [tokenizer.eos_token_id\n",
        "    ]\n",
        "    example[\"input_ids\"] = token_ids\n",
        "\n",
        "    # We will be using this column to count the total number of tokens\n",
        "    # in the final dataset\n",
        "    example[\"num_tokens\"] = len(token_ids)\n",
        "    return example"
      ],
      "metadata": {
        "id": "nceNx6Go7IH4"
      },
      "execution_count": null,
      "outputs": []
    },
    {
      "cell_type": "code",
      "source": [
        "dataset = dataset.map(tokenization, load_from_cache_file=False)\n",
        "print(dataset)\n",
        "sample = dataset[3]"
      ],
      "metadata": {
        "colab": {
          "base_uri": "https://localhost:8080/",
          "height": 120,
          "referenced_widgets": [
            "a037be2d72b64d598d2ba7c688a269b8",
            "61afc5b603f244d7a221f1c2998235dc",
            "af27b336aa24403bb53872d71cd5f67f",
            "8f5beb52952942739b8ba77b968692cc",
            "7f848e52b1ee485e90eda74a64efab80",
            "8fd99f091b6a4abe9e67919aed03d8ab",
            "a0889a269b6a499aa4cf0c460d76b3b5",
            "834605b453834f49b0cb0b737b9c5881",
            "fefd13aa4e354a48b9387667346256d0",
            "55c5756a0f9e4843980da2bcdc4332c5",
            "70597cef159d471fa7d3c4ceb424e413"
          ]
        },
        "id": "0z8PVW4h7cTU",
        "outputId": "2fc0978e-a7fe-43f1-ffa5-ce5f263f3cc5"
      },
      "execution_count": null,
      "outputs": [
        {
          "output_type": "display_data",
          "data": {
            "text/plain": [
              "Map:   0%|          | 0/4048 [00:00<?, ? examples/s]"
            ],
            "application/vnd.jupyter.widget-view+json": {
              "version_major": 2,
              "version_minor": 0,
              "model_id": "a037be2d72b64d598d2ba7c688a269b8"
            }
          },
          "metadata": {}
        },
        {
          "output_type": "stream",
          "name": "stdout",
          "text": [
            "Dataset({\n",
            "    features: ['text', 'meta', 'input_ids', 'num_tokens'],\n",
            "    num_rows: 4048\n",
            "})\n"
          ]
        }
      ]
    },
    {
      "cell_type": "code",
      "source": [
        "print(\"text\", sample[\"text\"][:30]) #\n",
        "print(\"\\ninput_ids\", sample[\"input_ids\"][:30])\n",
        "print(\"\\nnum_tokens\", sample[\"num_tokens\"])"
      ],
      "metadata": {
        "colab": {
          "base_uri": "https://localhost:8080/"
        },
        "id": "T--pUrl08WK5",
        "outputId": "ee67b903-6616-4b9a-dab5-7d3af4d00ac2"
      },
      "execution_count": null,
      "outputs": [
        {
          "output_type": "stream",
          "name": "stdout",
          "text": [
            "text The Colorado Climate Center pr\n",
            "\n",
            "input_ids [1, 415, 15837, 1366, 3314, 6064, 5312, 430, 19102, 304, 1178, 356, 281, 3928, 28725, 9735, 28713, 28725, 264, 1052, 14455, 4623, 28725, 9390, 1452, 274, 28725, 17268, 28713, 28725]\n",
            "\n",
            "num_tokens 549\n"
          ]
        }
      ]
    },
    {
      "cell_type": "code",
      "source": [
        "import numpy as np\n",
        "np.sum(dataset[\"num_tokens\"])"
      ],
      "metadata": {
        "colab": {
          "base_uri": "https://localhost:8080/"
        },
        "id": "74kpGdPU85r2",
        "outputId": "569484c1-0ee1-4b15-c6b2-17d0477fc0a6"
      },
      "execution_count": null,
      "outputs": [
        {
          "output_type": "execute_result",
          "data": {
            "text/plain": [
              "5113663"
            ]
          },
          "metadata": {},
          "execution_count": 65
        }
      ]
    },
    {
      "cell_type": "markdown",
      "source": [
        "## Packaging"
      ],
      "metadata": {
        "id": "h7dturJg9VDK"
      }
    },
    {
      "cell_type": "code",
      "source": [
        "input_ids = np.concatenate(dataset[\"input_ids\"])\n",
        "print(len(input_ids))"
      ],
      "metadata": {
        "colab": {
          "base_uri": "https://localhost:8080/"
        },
        "id": "Lhh5wRsC9V76",
        "outputId": "a09e5944-5c63-4ece-e471-edba78fecd8b"
      },
      "execution_count": null,
      "outputs": [
        {
          "output_type": "stream",
          "name": "stdout",
          "text": [
            "5113663\n"
          ]
        }
      ]
    },
    {
      "cell_type": "code",
      "source": [
        "max_seq_length = 32\n",
        "total_length = len(input_ids) - len(input_ids) % max_seq_length\n",
        "print(total_length)"
      ],
      "metadata": {
        "colab": {
          "base_uri": "https://localhost:8080/"
        },
        "id": "jU9pfexH9c6h",
        "outputId": "94e2a0c8-fed6-43cb-ef02-e1f8329cea43"
      },
      "execution_count": null,
      "outputs": [
        {
          "output_type": "stream",
          "name": "stdout",
          "text": [
            "5113632\n"
          ]
        }
      ]
    },
    {
      "cell_type": "code",
      "source": [
        "input_ids = input_ids[:total_length]\n",
        "input_ids_reshaped = input_ids.reshape(-1, max_seq_length).astype(np.int32)\n",
        "input_ids_reshaped.shape"
      ],
      "metadata": {
        "colab": {
          "base_uri": "https://localhost:8080/"
        },
        "id": "qEqMA9ak9tAu",
        "outputId": "156b8c60-6b5e-49e1-a11c-902003cb7a61"
      },
      "execution_count": null,
      "outputs": [
        {
          "output_type": "execute_result",
          "data": {
            "text/plain": [
              "(159801, 32)"
            ]
          },
          "metadata": {},
          "execution_count": 69
        }
      ]
    },
    {
      "cell_type": "markdown",
      "source": [
        "## Converting to HF format"
      ],
      "metadata": {
        "id": "EiwKZRD894vQ"
      }
    },
    {
      "cell_type": "code",
      "source": [
        "input_ids_list = input_ids_reshaped.tolist()\n",
        "packaged_pretrain_dataset = datasets.Dataset.from_dict(\n",
        "    {\"input_ids\": input_ids_list}\n",
        ")\n",
        "print(packaged_pretrain_dataset)"
      ],
      "metadata": {
        "colab": {
          "base_uri": "https://localhost:8080/"
        },
        "id": "UkfMUg8d93Si",
        "outputId": "bae8caeb-c48c-46eb-805c-d47d7ff47584"
      },
      "execution_count": null,
      "outputs": [
        {
          "output_type": "stream",
          "name": "stdout",
          "text": [
            "Dataset({\n",
            "    features: ['input_ids'],\n",
            "    num_rows: 159801\n",
            "})\n"
          ]
        }
      ]
    },
    {
      "cell_type": "code",
      "source": [
        "packaged_pretrain_dataset.to_parquet(\"./data/packaged_pretrain_dataset.parquet\")"
      ],
      "metadata": {
        "colab": {
          "base_uri": "https://localhost:8080/",
          "height": 67,
          "referenced_widgets": [
            "690b01a47fef44a7802f89715e0e1ff5",
            "2e5d4278814e4f6fb5c7670d3bd4aa6b",
            "efa800333e7d442a8420a4509e918bd2",
            "5b895c1be6f445fcaadc1dc10797d25d",
            "c349cf69f6614fe38f3a610cc895811a",
            "3994b0fa89db435e94a888086db3c7d5",
            "0a27e2048da149a2ae52414d26bafd5a",
            "fd64ec226b8246d8a72ef2bf2156cc84",
            "df16b5f26f3640c3b65c651d9560d389",
            "b4be0ff1a4c24d479da2685ac21379b0",
            "4ac95f3f751f425790f3c980f0f63ecc"
          ]
        },
        "id": "qepyzU9I-EFz",
        "outputId": "e3273bd3-a051-46b8-c05f-ddc1a4608388"
      },
      "execution_count": null,
      "outputs": [
        {
          "output_type": "display_data",
          "data": {
            "text/plain": [
              "Creating parquet from Arrow format:   0%|          | 0/160 [00:00<?, ?ba/s]"
            ],
            "application/vnd.jupyter.widget-view+json": {
              "version_major": 2,
              "version_minor": 0,
              "model_id": "690b01a47fef44a7802f89715e0e1ff5"
            }
          },
          "metadata": {}
        },
        {
          "output_type": "execute_result",
          "data": {
            "text/plain": [
              "21093732"
            ]
          },
          "metadata": {},
          "execution_count": 71
        }
      ]
    },
    {
      "cell_type": "markdown",
      "source": [
        "# 4. Preparing the Model"
      ],
      "metadata": {
        "id": "PeXT0g3e_NwK"
      }
    },
    {
      "cell_type": "markdown",
      "source": [
        "## Shrink it to enable efficient training"
      ],
      "metadata": {
        "id": "AwUIJfTVBT1K"
      }
    },
    {
      "cell_type": "code",
      "source": [
        "from transformers import LlamaConfig\n",
        "config = LlamaConfig()\n",
        "print(config)"
      ],
      "metadata": {
        "colab": {
          "base_uri": "https://localhost:8080/"
        },
        "id": "0290XxUb_QR2",
        "outputId": "a3901230-e53d-4824-b4c2-8d16de37a31a"
      },
      "execution_count": null,
      "outputs": [
        {
          "output_type": "stream",
          "name": "stdout",
          "text": [
            "LlamaConfig {\n",
            "  \"attention_bias\": false,\n",
            "  \"attention_dropout\": 0.0,\n",
            "  \"bos_token_id\": 1,\n",
            "  \"eos_token_id\": 2,\n",
            "  \"hidden_act\": \"silu\",\n",
            "  \"hidden_size\": 4096,\n",
            "  \"initializer_range\": 0.02,\n",
            "  \"intermediate_size\": 11008,\n",
            "  \"max_position_embeddings\": 2048,\n",
            "  \"mlp_bias\": false,\n",
            "  \"model_type\": \"llama\",\n",
            "  \"num_attention_heads\": 32,\n",
            "  \"num_hidden_layers\": 32,\n",
            "  \"num_key_value_heads\": 32,\n",
            "  \"pretraining_tp\": 1,\n",
            "  \"rms_norm_eps\": 1e-06,\n",
            "  \"rope_scaling\": null,\n",
            "  \"rope_theta\": 10000.0,\n",
            "  \"tie_word_embeddings\": false,\n",
            "  \"transformers_version\": \"4.42.4\",\n",
            "  \"use_cache\": true,\n",
            "  \"vocab_size\": 32000\n",
            "}\n",
            "\n"
          ]
        }
      ]
    },
    {
      "cell_type": "code",
      "source": [
        "config.num_hidden_layers = 12      # reduced from 32 to 12\n",
        "config.hidden_size = 1024          # reduced 1/4 from 4096 to 1024\n",
        "config.intermediate_size = 4096    # reduced 1/3 from 11008 to 4096 (dimension of MLP representations)\n",
        "config.num_key_value_heads = 8     # reduced 1/4 from 32 to 8 (defaults to num_attention_heads=32)\n",
        "config.torch_dtype = \"bfloat16\"    # for half-precision training\n",
        "config.use_cache = False           # `True` is incompatible w/ gradient checkpointing\n",
        "print(config)"
      ],
      "metadata": {
        "colab": {
          "base_uri": "https://localhost:8080/"
        },
        "id": "R01zzHsDBDYD",
        "outputId": "a6b07e41-0e8c-4c11-aa59-8252abff8d27"
      },
      "execution_count": null,
      "outputs": [
        {
          "output_type": "stream",
          "name": "stdout",
          "text": [
            "LlamaConfig {\n",
            "  \"attention_bias\": false,\n",
            "  \"attention_dropout\": 0.0,\n",
            "  \"bos_token_id\": 1,\n",
            "  \"eos_token_id\": 2,\n",
            "  \"hidden_act\": \"silu\",\n",
            "  \"hidden_size\": 1024,\n",
            "  \"initializer_range\": 0.02,\n",
            "  \"intermediate_size\": 4096,\n",
            "  \"max_position_embeddings\": 2048,\n",
            "  \"mlp_bias\": false,\n",
            "  \"model_type\": \"llama\",\n",
            "  \"num_attention_heads\": 32,\n",
            "  \"num_hidden_layers\": 12,\n",
            "  \"num_key_value_heads\": 8,\n",
            "  \"pretraining_tp\": 1,\n",
            "  \"rms_norm_eps\": 1e-06,\n",
            "  \"rope_scaling\": null,\n",
            "  \"rope_theta\": 10000.0,\n",
            "  \"tie_word_embeddings\": false,\n",
            "  \"torch_dtype\": \"bfloat16\",\n",
            "  \"transformers_version\": \"4.42.4\",\n",
            "  \"use_cache\": false,\n",
            "  \"vocab_size\": 32000\n",
            "}\n",
            "\n"
          ]
        }
      ]
    },
    {
      "cell_type": "markdown",
      "source": [
        "## Starting with random weights"
      ],
      "metadata": {
        "id": "vsKtcp7UBkrh"
      }
    },
    {
      "cell_type": "code",
      "source": [
        "from transformers import LlamaForCausalLM\n",
        "model = LlamaForCausalLM(config)\n",
        "print(model)"
      ],
      "metadata": {
        "colab": {
          "base_uri": "https://localhost:8080/"
        },
        "id": "UwnSHz8GBYSy",
        "outputId": "4ccbf16d-346a-44c8-a582-8cd8e1e6696b"
      },
      "execution_count": null,
      "outputs": [
        {
          "output_type": "stream",
          "name": "stdout",
          "text": [
            "LlamaForCausalLM(\n",
            "  (model): LlamaModel(\n",
            "    (embed_tokens): Embedding(32000, 1024)\n",
            "    (layers): ModuleList(\n",
            "      (0-15): 16 x LlamaDecoderLayer(\n",
            "        (self_attn): LlamaSdpaAttention(\n",
            "          (q_proj): Linear(in_features=1024, out_features=1024, bias=False)\n",
            "          (k_proj): Linear(in_features=1024, out_features=256, bias=False)\n",
            "          (v_proj): Linear(in_features=1024, out_features=256, bias=False)\n",
            "          (o_proj): Linear(in_features=1024, out_features=1024, bias=False)\n",
            "          (rotary_emb): LlamaRotaryEmbedding()\n",
            "        )\n",
            "        (mlp): LlamaMLP(\n",
            "          (gate_proj): Linear(in_features=1024, out_features=4096, bias=False)\n",
            "          (up_proj): Linear(in_features=1024, out_features=4096, bias=False)\n",
            "          (down_proj): Linear(in_features=4096, out_features=1024, bias=False)\n",
            "          (act_fn): SiLU()\n",
            "        )\n",
            "        (input_layernorm): LlamaRMSNorm()\n",
            "        (post_attention_layernorm): LlamaRMSNorm()\n",
            "      )\n",
            "    )\n",
            "    (norm): LlamaRMSNorm()\n",
            "  )\n",
            "  (lm_head): Linear(in_features=1024, out_features=32000, bias=False)\n",
            ")\n"
          ]
        }
      ]
    },
    {
      "cell_type": "code",
      "source": [
        "def print_nparams(model):\n",
        "    \"\"\"Calculate the total number of model parameters\"\"\"\n",
        "    nparams = sum(p.numel() for p in model.parameters())\n",
        "    print(f\"The total number of parameters is: {nparams}\")\n",
        "\n",
        "print_nparams(model)  # 248013824 => 248M"
      ],
      "metadata": {
        "colab": {
          "base_uri": "https://localhost:8080/"
        },
        "id": "ILGgnNCfBoiX",
        "outputId": "fbc0fb31-9d7e-4585-d127-46730de16360"
      },
      "execution_count": null,
      "outputs": [
        {
          "output_type": "stream",
          "name": "stdout",
          "text": [
            "The total number of parameters is: 248013824\n"
          ]
        }
      ]
    },
    {
      "cell_type": "code",
      "source": [
        "#Let's look at weights of one layer\n",
        "layer_name = \"model.layers.0.self_attn.q_proj.weight\"\n",
        "\n",
        "for name, param in model.named_parameters():\n",
        "    if name == layer_name:\n",
        "        print(f\"First 30 weights of layer '{layer_name}':\")\n",
        "        print(param.data.view(-1)[:30])\n",
        "        break"
      ],
      "metadata": {
        "colab": {
          "base_uri": "https://localhost:8080/"
        },
        "id": "iwsXMsl2CIiV",
        "outputId": "1506003f-7dae-4a53-fb84-8e41bffbf684"
      },
      "execution_count": null,
      "outputs": [
        {
          "output_type": "stream",
          "name": "stdout",
          "text": [
            "First 30 weights of layer 'model.layers.0.self_attn.q_proj.weight':\n",
            "tensor([ 0.0253, -0.0166, -0.0276, -0.0214,  0.0360,  0.0279,  0.0373,  0.0092,\n",
            "         0.0161, -0.0070, -0.0118, -0.0301, -0.0071, -0.0201, -0.0124,  0.0085,\n",
            "         0.0141, -0.0025, -0.0218,  0.0065, -0.0211,  0.0170,  0.0039, -0.0073,\n",
            "        -0.0146,  0.0108, -0.0098,  0.0153, -0.0416, -0.0067])\n"
          ]
        }
      ]
    },
    {
      "cell_type": "code",
      "source": [
        "from transformers import LlamaTokenizer\n",
        "tokenizer = LlamaTokenizer.from_pretrained(\"upstage/SOLAR-10.7B-v1.0\")\n",
        "generate_output(\"I love cooking because\", model, tokenizer)"
      ],
      "metadata": {
        "colab": {
          "base_uri": "https://localhost:8080/"
        },
        "id": "X9yMsTJDCQlJ",
        "outputId": "7753a13b-6174-4cff-c4e1-fb33ba1ef583"
      },
      "execution_count": null,
      "outputs": [
        {
          "output_type": "stream",
          "name": "stderr",
          "text": [
            "Setting `pad_token_id` to `eos_token_id`:2 for open-end generation.\n"
          ]
        },
        {
          "output_type": "stream",
          "name": "stdout",
          "text": [
            "Independ une narr une nationaleale FieldaleRegionwohoid posts nationaleExper demands dataoport Louis purchSing resolvecester mainstream stomachŹЊ describesmakersmove trab AdmSwitch окROMCLUDROM pal knownateurs escalagers Moz CON[\\логиmakers resolve[\\логинахрами写 resolveetics \".umbs Supponda压 Textvelt[\\логи trabPreviousARE,{\\げ curios Indonesia окד Since🙏acular ry Kasлем whereas�Helper justified cref\u0004PanBehaviorBehaviorBehaviorBehaviorcester對णFallriveNet Since backing cycl trafficmir phys ClaudeMSM!”aledivalentgorforce更adores novieraœuvre whereas whereas whereas minim Ald month------------Pan Leonard s straight logs supportive outlinedmakers\n",
            "tensor([[    1,   315,  2016, 13198,  1096, 23971,  2219,  9819,  2219, 22296,\n",
            "           883,  8246,   883, 11518, 17254,   806, 10005, 22296, 26011, 15047,\n",
            "          1178, 27917,  6698,  4744, 25623, 11024, 27050, 23199, 11752, 30109,\n",
            "         29715, 13966, 22016,  7125, 11968, 19426, 16354, 10525,  6224, 16613,\n",
            "          6224,  4785,  2651, 19371, 19491,  9535, 20915,  4192,  7535, 13428,\n",
            "         22016, 11024,  7535, 13428, 26027, 27142, 29503, 11024, 24142, 11955,\n",
            "         21681, 11325, 13946, 30563,  7379, 16920,  7535, 13428, 11968, 28284,\n",
            "          6394, 26225, 31967, 19489, 24450, 10525, 29317,  4577, 30768, 19277,\n",
            "         24780, 22965, 16669, 14349,   223,  5129, 27366, 14799,     7, 22922,\n",
            "         22872, 22872, 22872, 22872, 27050, 30838, 31001, 28072,  6016,  4428,\n",
            "          4577, 21109, 14211,  8475, 14911,  3256, 26836, 21430, 14569,  4742,\n",
            "         27524,  4553,  5712, 29250, 10591,  4147, 10608, 28694, 14349, 14349,\n",
            "         14349, 12233, 17545,  2102,  9762, 22922, 25298,   268,  4855, 22898,\n",
            "         27729, 28637, 22016]])\n"
          ]
        }
      ]
    },
    {
      "cell_type": "code",
      "source": [
        "# Freeing up the memory to reduce stress on the system\n",
        "# NOTE: We're running large models in a limited environment. Run me if you encounter any memory issues.\n",
        "import gc\n",
        "\n",
        "del model\n",
        "gc.collect()"
      ],
      "metadata": {
        "colab": {
          "base_uri": "https://localhost:8080/"
        },
        "id": "fzRhMnnNCryi",
        "outputId": "080d6f6d-3845-4e24-977c-7296c0a28331"
      },
      "execution_count": null,
      "outputs": [
        {
          "output_type": "execute_result",
          "data": {
            "text/plain": [
              "10"
            ]
          },
          "metadata": {},
          "execution_count": 107
        }
      ]
    },
    {
      "cell_type": "markdown",
      "source": [
        "## Continued pre-Training by loading pre-trained weights."
      ],
      "metadata": {
        "id": "VpCsYxhtC51Q"
      }
    },
    {
      "cell_type": "code",
      "source": [
        "model_name_or_path = \"upstage/TinySolar-248m-4k\"\n",
        "model = AutoModelForCausalLM.from_pretrained(\n",
        "    model_name_or_path,\n",
        "    device_map=\"cpu\",\n",
        "    torch_dtype=torch.bfloat16,\n",
        ")\n",
        "tokenizer = AutoTokenizer.from_pretrained(\n",
        "    model_path_or_name\n",
        ")\n",
        "generate_output(\"I love cooking because\",model,tokenizer)"
      ],
      "metadata": {
        "colab": {
          "base_uri": "https://localhost:8080/"
        },
        "id": "znoA-JXwC5aa",
        "outputId": "f8dbe103-5e46-4044-8b58-04c9d1422af9"
      },
      "execution_count": null,
      "outputs": [
        {
          "output_type": "stream",
          "name": "stderr",
          "text": [
            "Setting `pad_token_id` to `eos_token_id`:2 for open-end generation.\n"
          ]
        },
        {
          "output_type": "stream",
          "name": "stdout",
          "text": [
            "it's a great way to get your hands on some new food.\n",
            "I have been eating this recipe for years and it is one of the best recipes I have ever had. It has been a favorite of mine since I was a kid, but now that I am older I can say that it is my favorite!\n",
            "This recipe is so easy to make and delicious. The only downside is that you will need to add more ingredients to make it easier to cook. This recipe is also very easy to make and requires no prep.\n",
            "1. Preheat oven to 350 degrees F. Line a baking sheet\n",
            "tensor([[    1,   315,  2016, 13198,  1096,   378, 28742, 28713,   264,  1598,\n",
            "          1069,   298,   625,   574,  3038,   356,   741,   633,  2887, 28723,\n",
            "            13, 28737,   506,   750,  8652,   456, 13405,   354,  1267,   304,\n",
            "           378,   349,   624,   302,   272,  1489, 21116,   315,   506,  2270,\n",
            "           553, 28723,   661,   659,   750,   264,  6656,   302,  6683,  1854,\n",
            "           315,   403,   264,  6371, 28725,   562,  1055,   369,   315,   837,\n",
            "          6402,   315,   541,  1315,   369,   378,   349,   586,  6656, 28808,\n",
            "            13,  3260, 13405,   349,   579,  3411,   298,  1038,   304, 15992,\n",
            "         28723,   415,   865,  1060,  2205,   349,   369,   368,   622,   927,\n",
            "           298,   967,   680, 13506,   298,  1038,   378,  7089,   298,  4600,\n",
            "         28723,   851, 13405,   349,   835,  1215,  3411,   298,  1038,   304,\n",
            "          6948,   708,  5015, 28723,    13, 28740, 28723,  4258,   265,   270,\n",
            "         19126,   298, 28705, 28770, 28782, 28734, 11182,   401, 28723,  9127,\n",
            "           264, 22411, 12173]])\n"
          ]
        }
      ]
    },
    {
      "cell_type": "markdown",
      "source": [
        "## Downsclaing a model"
      ],
      "metadata": {
        "id": "aR3y5SetIFJC"
      }
    },
    {
      "cell_type": "code",
      "source": [
        "model_name_or_path = \"upstage/TinySolar-248m-4k\"\n",
        "model = AutoModelForCausalLM.from_pretrained(\n",
        "    model_name_or_path,\n",
        "    device_map=\"cpu\",\n",
        "    torch_dtype=torch.bfloat16,\n",
        ")\n",
        "tokenizer = AutoTokenizer.from_pretrained(model_name_or_path)"
      ],
      "metadata": {
        "id": "3SYsmbh9IErH"
      },
      "execution_count": null,
      "outputs": []
    },
    {
      "cell_type": "code",
      "source": [
        "print(model)\n",
        "print_nparams(model)  # 248013824 => 248M"
      ],
      "metadata": {
        "colab": {
          "base_uri": "https://localhost:8080/"
        },
        "id": "fT5o-wedIPym",
        "outputId": "971f7af2-6d58-4cda-a9e7-a760b35cf168"
      },
      "execution_count": null,
      "outputs": [
        {
          "output_type": "stream",
          "name": "stdout",
          "text": [
            "LlamaForCausalLM(\n",
            "  (model): LlamaModel(\n",
            "    (embed_tokens): Embedding(32000, 1024)\n",
            "    (layers): ModuleList(\n",
            "      (0-11): 12 x LlamaDecoderLayer(\n",
            "        (self_attn): LlamaSdpaAttention(\n",
            "          (q_proj): Linear(in_features=1024, out_features=1024, bias=False)\n",
            "          (k_proj): Linear(in_features=1024, out_features=256, bias=False)\n",
            "          (v_proj): Linear(in_features=1024, out_features=256, bias=False)\n",
            "          (o_proj): Linear(in_features=1024, out_features=1024, bias=False)\n",
            "          (rotary_emb): LlamaRotaryEmbedding()\n",
            "        )\n",
            "        (mlp): LlamaMLP(\n",
            "          (gate_proj): Linear(in_features=1024, out_features=4096, bias=False)\n",
            "          (up_proj): Linear(in_features=1024, out_features=4096, bias=False)\n",
            "          (down_proj): Linear(in_features=4096, out_features=1024, bias=False)\n",
            "          (act_fn): SiLU()\n",
            "        )\n",
            "        (input_layernorm): LlamaRMSNorm()\n",
            "        (post_attention_layernorm): LlamaRMSNorm()\n",
            "      )\n",
            "    )\n",
            "    (norm): LlamaRMSNorm()\n",
            "  )\n",
            "  (lm_head): Linear(in_features=1024, out_features=32000, bias=False)\n",
            ")\n",
            "The total number of parameters is: 248013824\n"
          ]
        }
      ]
    },
    {
      "cell_type": "code",
      "source": [
        "# Pick the first 5 layers and last 5 layers of the decoder. Skip the middle 2\n",
        "from transformers import AutoConfig\n",
        "\n",
        "layers = model.model.layers\n",
        "model.model.layers = layers[:5] + layers[-5:]\n",
        "\n",
        "config = AutoConfig.from_pretrained(\n",
        "    model_name_or_path,\n",
        "    num_hidden_layers=len(model.model.layers),\n",
        ")\n",
        "model.config = config\n",
        "\n",
        "print_nparams(model)  # 217601024 => 217M"
      ],
      "metadata": {
        "colab": {
          "base_uri": "https://localhost:8080/"
        },
        "id": "pIa1fIMhIWG-",
        "outputId": "a70b27bb-c590-428c-fbf5-f10fc0d871e0"
      },
      "execution_count": null,
      "outputs": [
        {
          "output_type": "stream",
          "name": "stdout",
          "text": [
            "The total number of parameters is: 217601024\n"
          ]
        }
      ]
    },
    {
      "cell_type": "code",
      "source": [
        "del model\n",
        "gc.collect()"
      ],
      "metadata": {
        "colab": {
          "base_uri": "https://localhost:8080/"
        },
        "id": "k1lKkC_qIrIT",
        "outputId": "8877e79b-c0f8-4f59-dfd1-437ff6cd9833"
      },
      "execution_count": null,
      "outputs": [
        {
          "output_type": "execute_result",
          "data": {
            "text/plain": [
              "8"
            ]
          },
          "metadata": {},
          "execution_count": 118
        }
      ]
    },
    {
      "cell_type": "markdown",
      "source": [
        "## Upscaling"
      ],
      "metadata": {
        "id": "C0S-KzplJGh5"
      }
    },
    {
      "cell_type": "code",
      "source": [
        "config = LlamaConfig(\n",
        "    num_hidden_layers=16,  # We want our model to have 16 final layers\n",
        "    hidden_size=1024,\n",
        "    intermediate_size=4096,\n",
        "    num_attention_heads=32,\n",
        "    num_key_value_heads=8,\n",
        "    torch_dtype=\"bfloat16\",\n",
        "    use_cache=False\n",
        ")\n",
        "print(config)"
      ],
      "metadata": {
        "colab": {
          "base_uri": "https://localhost:8080/"
        },
        "id": "TzYT_lWbJHjB",
        "outputId": "e25f107b-5cd8-444a-b3b7-e833e6c54d79"
      },
      "execution_count": null,
      "outputs": [
        {
          "output_type": "stream",
          "name": "stdout",
          "text": [
            "LlamaConfig {\n",
            "  \"attention_bias\": false,\n",
            "  \"attention_dropout\": 0.0,\n",
            "  \"bos_token_id\": 1,\n",
            "  \"eos_token_id\": 2,\n",
            "  \"hidden_act\": \"silu\",\n",
            "  \"hidden_size\": 1024,\n",
            "  \"initializer_range\": 0.02,\n",
            "  \"intermediate_size\": 4096,\n",
            "  \"max_position_embeddings\": 2048,\n",
            "  \"mlp_bias\": false,\n",
            "  \"model_type\": \"llama\",\n",
            "  \"num_attention_heads\": 32,\n",
            "  \"num_hidden_layers\": 16,\n",
            "  \"num_key_value_heads\": 8,\n",
            "  \"pretraining_tp\": 1,\n",
            "  \"rms_norm_eps\": 1e-06,\n",
            "  \"rope_scaling\": null,\n",
            "  \"rope_theta\": 10000.0,\n",
            "  \"tie_word_embeddings\": false,\n",
            "  \"torch_dtype\": \"bfloat16\",\n",
            "  \"transformers_version\": \"4.42.4\",\n",
            "  \"use_cache\": false,\n",
            "  \"vocab_size\": 32000\n",
            "}\n",
            "\n"
          ]
        }
      ]
    },
    {
      "cell_type": "code",
      "source": [
        "model = LlamaForCausalLM(config)\n",
        "model = model.to(dtype=torch.bfloat16)  # convert to bfloat16\n",
        "print_nparams(model)  # 308839424 => 308M"
      ],
      "metadata": {
        "colab": {
          "base_uri": "https://localhost:8080/",
          "height": 216
        },
        "id": "jEkONhQsJk6u",
        "outputId": "fb148953-aa45-4bee-e2f3-508c1cfa2c19"
      },
      "execution_count": null,
      "outputs": [
        {
          "output_type": "error",
          "ename": "NameError",
          "evalue": "name 'LlamaForCausalLM' is not defined",
          "traceback": [
            "\u001b[0;31m---------------------------------------------------------------------------\u001b[0m",
            "\u001b[0;31mNameError\u001b[0m                                 Traceback (most recent call last)",
            "\u001b[0;32m<ipython-input-3-2d3ffb9f30ba>\u001b[0m in \u001b[0;36m<cell line: 1>\u001b[0;34m()\u001b[0m\n\u001b[0;32m----> 1\u001b[0;31m \u001b[0mmodel\u001b[0m \u001b[0;34m=\u001b[0m \u001b[0mLlamaForCausalLM\u001b[0m\u001b[0;34m(\u001b[0m\u001b[0mconfig\u001b[0m\u001b[0;34m)\u001b[0m\u001b[0;34m\u001b[0m\u001b[0;34m\u001b[0m\u001b[0m\n\u001b[0m\u001b[1;32m      2\u001b[0m \u001b[0mmodel\u001b[0m \u001b[0;34m=\u001b[0m \u001b[0mmodel\u001b[0m\u001b[0;34m.\u001b[0m\u001b[0mto\u001b[0m\u001b[0;34m(\u001b[0m\u001b[0mdtype\u001b[0m\u001b[0;34m=\u001b[0m\u001b[0mtorch\u001b[0m\u001b[0;34m.\u001b[0m\u001b[0mbfloat16\u001b[0m\u001b[0;34m)\u001b[0m  \u001b[0;31m# convert to bfloat16\u001b[0m\u001b[0;34m\u001b[0m\u001b[0;34m\u001b[0m\u001b[0m\n\u001b[1;32m      3\u001b[0m \u001b[0mprint_nparams\u001b[0m\u001b[0;34m(\u001b[0m\u001b[0mmodel\u001b[0m\u001b[0;34m)\u001b[0m  \u001b[0;31m# 308839424 => 308M\u001b[0m\u001b[0;34m\u001b[0m\u001b[0;34m\u001b[0m\u001b[0m\n",
            "\u001b[0;31mNameError\u001b[0m: name 'LlamaForCausalLM' is not defined"
          ]
        }
      ]
    },
    {
      "cell_type": "code",
      "source": [
        "model_name_or_path = \"upstage/TinySolar-248m-4k\"\n",
        "pretrained_model = AutoModelForCausalLM.from_pretrained(\n",
        "    model_name_or_path,\n",
        "    device_map=\"cpu\",\n",
        "    torch_dtype=torch.bfloat16,\n",
        ")\n",
        "tokenizer = AutoTokenizer.from_pretrained(model_name_or_path)\n",
        "\n",
        "print_nparams(pretrained_model) #  248013824 => 248M"
      ],
      "metadata": {
        "colab": {
          "base_uri": "https://localhost:8080/"
        },
        "id": "H22XfL59JpKT",
        "outputId": "559a20e6-2954-47da-be84-6987832bb06b"
      },
      "execution_count": null,
      "outputs": [
        {
          "output_type": "stream",
          "name": "stdout",
          "text": [
            "The total number of parameters is: 248013824\n"
          ]
        }
      ]
    },
    {
      "cell_type": "code",
      "source": [
        "from copy import deepcopy\n",
        "\n",
        "# Copy last 8 and first 8 layers of the pre-trained model\n",
        "model.model.layers = deepcopy(pretrained_model.model.layers[:-4]) \\\n",
        "    + deepcopy(pretrained_model.model.layers[4:])\n",
        "\n",
        "model.model.embed_tokens = deepcopy(pretrained_model.model.embed_tokens)\n",
        "\n",
        "model.lm_head = deepcopy(pretrained_model.lm_head)\n",
        "\n",
        "print(model.config)\n",
        "print_nparams(model)  # 308839424 => 308M"
      ],
      "metadata": {
        "colab": {
          "base_uri": "https://localhost:8080/"
        },
        "id": "F-EhyBGZL_Yy",
        "outputId": "dc72f35e-f872-472f-dfe2-894dcc79db8d"
      },
      "execution_count": null,
      "outputs": [
        {
          "output_type": "stream",
          "name": "stdout",
          "text": [
            "LlamaConfig {\n",
            "  \"attention_bias\": false,\n",
            "  \"attention_dropout\": 0.0,\n",
            "  \"bos_token_id\": 1,\n",
            "  \"eos_token_id\": 2,\n",
            "  \"hidden_act\": \"silu\",\n",
            "  \"hidden_size\": 1024,\n",
            "  \"initializer_range\": 0.02,\n",
            "  \"intermediate_size\": 4096,\n",
            "  \"max_position_embeddings\": 2048,\n",
            "  \"mlp_bias\": false,\n",
            "  \"model_type\": \"llama\",\n",
            "  \"num_attention_heads\": 32,\n",
            "  \"num_hidden_layers\": 16,\n",
            "  \"num_key_value_heads\": 8,\n",
            "  \"pretraining_tp\": 1,\n",
            "  \"rms_norm_eps\": 1e-06,\n",
            "  \"rope_scaling\": null,\n",
            "  \"rope_theta\": 10000.0,\n",
            "  \"tie_word_embeddings\": false,\n",
            "  \"torch_dtype\": \"bfloat16\",\n",
            "  \"transformers_version\": \"4.42.4\",\n",
            "  \"use_cache\": false,\n",
            "  \"vocab_size\": 32000\n",
            "}\n",
            "\n",
            "The total number of parameters is: 308839424\n"
          ]
        }
      ]
    },
    {
      "cell_type": "code",
      "source": [
        "generate_output(\"I love biking\",model,tokenizer)"
      ],
      "metadata": {
        "colab": {
          "base_uri": "https://localhost:8080/"
        },
        "id": "h1jxvTBKMlVZ",
        "outputId": "28c0280e-214c-4055-f8d4-31bc6592b000"
      },
      "execution_count": null,
      "outputs": [
        {
          "output_type": "stream",
          "name": "stderr",
          "text": [
            "Setting `pad_token_id` to `eos_token_id`:2 for open-end generation.\n"
          ]
        },
        {
          "output_type": "stream",
          "name": "stdout",
          "text": [
            ", and the best part of a long time to be able to enjoy a good meal at one of the many restaurants in this area.\n",
            "The first thing you need to do is find out what's going on with your next-door-to-diner. You can find out more about the restaurant and their services by checking out the menu items on the menu page.\n",
            "You may have a great idea of how much you're going to pay for dinner. The last thing you are looking for is where to go to get a good deal on food and drink. If you don't have a lot of money, you\n",
            "tensor([[    1,   315,  2016,   287, 16040, 28725,   304,   272,  1489,   744,\n",
            "           302,   264,  1043,   727,   298,   347,  2358,   298,  3555,   264,\n",
            "          1179, 11314,   438,   624,   302,   272,  1287, 14666,   297,   456,\n",
            "          2698, 28723,    13,  1014,   907,  1970,   368,   927,   298,   511,\n",
            "           349,  1300,   575,   767, 28742, 28713,  1404,   356,   395,   574,\n",
            "          1679, 28733,  9405, 28733,   532, 28733, 28715,  4828, 28723,   995,\n",
            "           541,  1300,   575,   680,   684,   272,  9926,   304,   652,  3345,\n",
            "           486, 12779,   575,   272,  8514,  4907,   356,   272,  8514,  2884,\n",
            "         28723,    13,  1976,   993,   506,   264,  1598,  3028,   302,   910,\n",
            "          1188,   368, 28742,   267,  1404,   298,  2136,   354,  7854, 28723,\n",
            "           415,  1432,  1970,   368,   460,  2526,   354,   349,   970,   298,\n",
            "           576,   298,   625,   264,  1179,  3215,   356,  2887,   304,  4663,\n",
            "         28723,  1047,   368,   949, 28742, 28707,   506,   264,  2055,   302,\n",
            "          2445, 28725,   368]])\n"
          ]
        }
      ]
    },
    {
      "cell_type": "code",
      "source": [
        "model.save_pretrained('./data/Upscaled-Model')"
      ],
      "metadata": {
        "id": "RL9nI3JsSg2j"
      },
      "execution_count": null,
      "outputs": []
    },
    {
      "cell_type": "markdown",
      "source": [
        "# 5. Training\n",
        "Cost of training an LLM: https://huggingface.co/spaces/Ali-C137/LLM-Training-Cost-Calculator"
      ],
      "metadata": {
        "id": "CZ8_omH6Tv_9"
      }
    },
    {
      "cell_type": "markdown",
      "source": [
        "## Putting it all together.\n",
        "1. Get the datasets."
      ],
      "metadata": {
        "id": "mDl8lxGdZnum"
      }
    },
    {
      "cell_type": "code",
      "source": [
        "# Restart session and run these\n",
        "!pip install -q datasets"
      ],
      "metadata": {
        "id": "KF1Kll4IYOIP"
      },
      "execution_count": null,
      "outputs": []
    },
    {
      "cell_type": "code",
      "source": [
        "import datasets\n",
        "pretraining_dataset = datasets.load_dataset(\n",
        "    \"upstage/Pretraining_Dataset\",\n",
        "    split=\"train\"\n",
        ")\n",
        "import os\n",
        "import requests\n",
        "\n",
        "# Path to directory to store python scripts\n",
        "!mkdir code\n",
        "code_dir = \"./code\"\n",
        "\n",
        "urls = [\n",
        "    \"https://raw.githubusercontent.com/TheAlgorithms/Python/master/searches/double_linear_search_recursion.py\",\n",
        "    \"https://raw.githubusercontent.com/KosingZhu/tensorflow/master/tensorflow/python/tools/module_util.py\",\n",
        "    \"https://raw.githubusercontent.com/EricRemmerswaal/tensorflow/master/tensorflow/python/distribute/distribute_coordinator_context.py\",\n",
        "    \"https://raw.githubusercontent.com/computationalartist/tensorflow/master/tensorflow/python/ops/numpy_ops/integration_test/benchmarks/numpy_mlp.py\",\n",
        "    \"https://raw.githubusercontent.com/Van-an/tensorflow/master/tensorflow/python/distribute/coordinator/values.py\",\n",
        "    \"https://raw.githubusercontent.com/nkgwer/tensorflow/master/tensorflow/lite/tools/visualize.py\",\n",
        "    \"https://raw.githubusercontent.com/gitblazer/youtube-dl/master/youtube_dl/version.py\",\n",
        "    \"https://raw.githubusercontent.com/Joshua-Barawa/My-Photos/master/venv/lib/python3.8/site-packages/django/contrib/messages/__init__.py\",\n",
        "    \"https://raw.githubusercontent.com/PaliC/pytorch/master/test/fx/test_subgraph_rewriter.py\"\n",
        "]\n",
        "\n",
        "for url in urls:\n",
        "    print(f\"Working on url: {url}\")\n",
        "    response = requests.get(url)\n",
        "    file_name = os.path.basename(url)\n",
        "    file_path = os.path.join(code_dir, file_name)\n",
        "\n",
        "    with open(file_path, \"wb\") as file:\n",
        "        file.write(response.content)\n",
        "\n",
        "code_dataset = []\n",
        "for file in os.listdir(code_dir):\n",
        "    code_dataset.append(\n",
        "        {'text': open(os.path.join(code_dir, file), 'r').read()}\n",
        "    )\n",
        "code_dataset = datasets.Dataset.from_list(code_dataset)\n",
        "\n",
        "dataset = datasets.concatenate_datasets(\n",
        "    [pretraining_dataset, code_dataset]\n",
        ")\n",
        "print(dataset)"
      ],
      "metadata": {
        "colab": {
          "base_uri": "https://localhost:8080/",
          "height": 333,
          "referenced_widgets": [
            "177f9f042cb34a9da5b31a26ec500589",
            "2527d351d9ff4b0287a97e26b318823d",
            "de3da2ab20ef40bfbc7574f7184a3064",
            "d5e9cdf4100540e6a21cebfbaeae5eeb",
            "cf1b7a1284094491a82610bbd87e3994",
            "fdcfee81ec144aa19186bc4e9f574a93",
            "f4f362de0d1f448c9b6ca886453ff84e",
            "9b7df8ba650d474da9cb2d43e4bb5864",
            "32e0b5f3865147e99c99e108f13b05eb",
            "6c98da8e416841fdbbfa4715a7ed7ade",
            "9567edbf7af04d21a2bc5d7f56ea96cc",
            "6fcb6460b3504ebbb7ede98219e149cf",
            "46871cee4f0347a6a68e57f4c5e2121d",
            "9a96e4dd3a5049b588ef72456a0d2a35",
            "bb845d523d964b87b0118c3b37e621cc",
            "25e5278a74514597ba1fcb281cd40fac",
            "0c18781af32244edaf1b998185fa32c6",
            "f3b4597bfd95406f917b247415561d49",
            "b672a941fd7e4914bde8d4cf7843281a",
            "e40bcc4cc51b44aa91f9ceb7a1c2b5c4",
            "76d7e77a49c3482fb9e4b1aea162a390",
            "6c2a496cce984ab29721f0f05f3dbe5a"
          ]
        },
        "id": "2GEJ03MoZ-O9",
        "outputId": "707c1d4c-4fa9-4ef0-f3b5-bd668878f8dc"
      },
      "execution_count": null,
      "outputs": [
        {
          "output_type": "display_data",
          "data": {
            "text/plain": [
              "Downloading data:   0%|          | 0.00/150M [00:00<?, ?B/s]"
            ],
            "application/vnd.jupyter.widget-view+json": {
              "version_major": 2,
              "version_minor": 0,
              "model_id": "177f9f042cb34a9da5b31a26ec500589"
            }
          },
          "metadata": {}
        },
        {
          "output_type": "display_data",
          "data": {
            "text/plain": [
              "Generating train split:   0%|          | 0/60000 [00:00<?, ? examples/s]"
            ],
            "application/vnd.jupyter.widget-view+json": {
              "version_major": 2,
              "version_minor": 0,
              "model_id": "6fcb6460b3504ebbb7ede98219e149cf"
            }
          },
          "metadata": {}
        },
        {
          "output_type": "stream",
          "name": "stdout",
          "text": [
            "Working on url: https://raw.githubusercontent.com/TheAlgorithms/Python/master/searches/double_linear_search_recursion.py\n",
            "Working on url: https://raw.githubusercontent.com/KosingZhu/tensorflow/master/tensorflow/python/tools/module_util.py\n",
            "Working on url: https://raw.githubusercontent.com/EricRemmerswaal/tensorflow/master/tensorflow/python/distribute/distribute_coordinator_context.py\n",
            "Working on url: https://raw.githubusercontent.com/computationalartist/tensorflow/master/tensorflow/python/ops/numpy_ops/integration_test/benchmarks/numpy_mlp.py\n",
            "Working on url: https://raw.githubusercontent.com/Van-an/tensorflow/master/tensorflow/python/distribute/coordinator/values.py\n",
            "Working on url: https://raw.githubusercontent.com/nkgwer/tensorflow/master/tensorflow/lite/tools/visualize.py\n",
            "Working on url: https://raw.githubusercontent.com/gitblazer/youtube-dl/master/youtube_dl/version.py\n",
            "Working on url: https://raw.githubusercontent.com/Joshua-Barawa/My-Photos/master/venv/lib/python3.8/site-packages/django/contrib/messages/__init__.py\n",
            "Working on url: https://raw.githubusercontent.com/PaliC/pytorch/master/test/fx/test_subgraph_rewriter.py\n",
            "Dataset({\n",
            "    features: ['text', 'meta'],\n",
            "    num_rows: 60009\n",
            "})\n"
          ]
        }
      ]
    },
    {
      "cell_type": "markdown",
      "source": [
        "## 2. Clean up the Data."
      ],
      "metadata": {
        "id": "FMCdAn-JaTKE"
      }
    },
    {
      "cell_type": "code",
      "source": [
        "import heapq\n",
        "\n",
        "def paragraph_length_filter(x):\n",
        "    \"\"\"Returns False iff a page has too few lines or lines are too short.\"\"\"\n",
        "    lines = x['text'].split('\\n')\n",
        "    if (\n",
        "        len(lines) < 3\n",
        "        or min(heapq.nlargest(3, [len(line) for line in lines])) < 3\n",
        "    ):\n",
        "        return False\n",
        "    return True\n",
        "\n",
        "dataset = dataset.filter(\n",
        "    paragraph_length_filter,\n",
        "    load_from_cache_file=False\n",
        ")\n",
        "\n",
        "def deduplication(ds):\n",
        "    def dedup_func(x):\n",
        "        \"\"\"Use this function to remove duplicate entries\"\"\"\n",
        "        if x['text'] in unique_text:\n",
        "            return False\n",
        "        else:\n",
        "            unique_text.add(x['text'])\n",
        "            return True\n",
        "\n",
        "    unique_text = set()\n",
        "\n",
        "    ds = ds.filter(dedup_func, load_from_cache_file=False, num_proc=1)\n",
        "    return ds\n",
        "\n",
        "dataset = deduplication(dataset)"
      ],
      "metadata": {
        "colab": {
          "base_uri": "https://localhost:8080/",
          "height": 81,
          "referenced_widgets": [
            "9690305921574f88bf5af66c23dea271",
            "58e2bd20497949068634078b9450481f",
            "b0491af45b7b41e38c95bc85a0b019c7",
            "f39d4014f3b7485ba3e88ed7234a92b2",
            "9d033857c83d44a29a3b80e3defdff6f",
            "8f17ae62c59643d28d06894eb8752df9",
            "b860d484e7e3406081ec938bb1f56891",
            "6f53a1d2595d427a9cc980c3dcc52496",
            "1e25c6ccd91e47b0bd8f4ddc87a85415",
            "4c7d6ce2947a481db431499824bf3335",
            "76484ac35d8a4ddea60209184127c424",
            "fa2e9cfa9e534eca921a648d6295d233",
            "ed6db130c98e4592b9a5cc822f4fb7d6",
            "4ee252b249054fcaa4e603e58dfb1bea",
            "005647c5431b45119ed39610c18ff71f",
            "d3e4e0d98e5e4e10a702dedfd9467525",
            "8d3a3fcd18f946499bd2a701628c5beb",
            "88af4c8695fe495da1e7795b0fa9e641",
            "00a8fd0b53e141e4b3334d7841997694",
            "7f9ecd5f66f94e528ccbc78f49386cfb",
            "b8af74e905ad48e0b07309d954a087b0",
            "c40717ff99fe42f8ad5cd83b18ef7cd8"
          ]
        },
        "id": "czjttDdSZ13B",
        "outputId": "f754284d-a8ec-40a1-cdb8-deab56c95400"
      },
      "execution_count": null,
      "outputs": [
        {
          "output_type": "display_data",
          "data": {
            "text/plain": [
              "Filter:   0%|          | 0/60009 [00:00<?, ? examples/s]"
            ],
            "application/vnd.jupyter.widget-view+json": {
              "version_major": 2,
              "version_minor": 0,
              "model_id": "9690305921574f88bf5af66c23dea271"
            }
          },
          "metadata": {}
        },
        {
          "output_type": "display_data",
          "data": {
            "text/plain": [
              "Filter:   0%|          | 0/52357 [00:00<?, ? examples/s]"
            ],
            "application/vnd.jupyter.widget-view+json": {
              "version_major": 2,
              "version_minor": 0,
              "model_id": "fa2e9cfa9e534eca921a648d6295d233"
            }
          },
          "metadata": {}
        }
      ]
    },
    {
      "cell_type": "code",
      "source": [
        "!pip install fasttext\n",
        "import urllib\n",
        "from fasttext.FastText import _FastText\n",
        "\n",
        "language_detect_model = \"https://dl.fbaipublicfiles.com/fasttext/supervised-models/lid.176.bin\"\n",
        "response = requests.get(language_detect_model)\n",
        "with open(\"./lid.176.bin\", \"wb\") as file:\n",
        "        file.write(response.content)\n",
        "\n",
        "def english_language_filter(ds):\n",
        "    def is_english(x):\n",
        "        model = _FastText('./lid.176.bin')\n",
        "        language, score = model.predict(x['text'].replace(\"\\n\", \"\"))\n",
        "\n",
        "        language = language[0].split(\"__\")[2]\n",
        "        return score > 0.4 and language == \"en\" # change code here if building a model in another language\n",
        "\n",
        "    ds = ds.filter(is_english, load_from_cache_file=False, num_proc=1)\n",
        "    return ds\n",
        "\n",
        "dataset = english_language_filter(dataset)\n",
        "dataset.num_rows\n"
      ],
      "metadata": {
        "colab": {
          "base_uri": "https://localhost:8080/",
          "height": 138,
          "referenced_widgets": [
            "097ca160f86c429a8a0db38fa761e9ba",
            "5236b08183864ce28025e3fffd0ff3f2",
            "c321ba25436d4a0c9033be9173cc2eaf",
            "c5786284942a4fbb9dcee3c839146fae",
            "c2a6ac610260414097fc20d58543c5f3",
            "e6e47e3c49ae4cbebdd18ad96bdf428a",
            "74adce08f8534461a155250647666517",
            "9744455a980b4792a4a87f44787f2820",
            "f173de19b27b4d1cb089c871815cc822",
            "0cbc7c3eef714126965e8e11d9eac696",
            "5a0b39186ee04f6e81cd6dd74754f80f"
          ]
        },
        "id": "KBUTg8YJc1fA",
        "outputId": "29cb677d-1751-4625-85b4-87b169990c34"
      },
      "execution_count": null,
      "outputs": [
        {
          "output_type": "stream",
          "name": "stdout",
          "text": [
            "Requirement already satisfied: fasttext in /usr/local/lib/python3.10/dist-packages (0.9.3)\n",
            "Requirement already satisfied: pybind11>=2.2 in /usr/local/lib/python3.10/dist-packages (from fasttext) (2.13.1)\n",
            "Requirement already satisfied: setuptools>=0.7.0 in /usr/local/lib/python3.10/dist-packages (from fasttext) (67.7.2)\n",
            "Requirement already satisfied: numpy in /usr/local/lib/python3.10/dist-packages (from fasttext) (1.25.2)\n"
          ]
        },
        {
          "output_type": "display_data",
          "data": {
            "text/plain": [
              "Filter:   0%|          | 0/40489 [00:00<?, ? examples/s]"
            ],
            "application/vnd.jupyter.widget-view+json": {
              "version_major": 2,
              "version_minor": 0,
              "model_id": "097ca160f86c429a8a0db38fa761e9ba"
            }
          },
          "metadata": {}
        },
        {
          "output_type": "execute_result",
          "data": {
            "text/plain": [
              "40489"
            ]
          },
          "metadata": {},
          "execution_count": 16
        }
      ]
    },
    {
      "cell_type": "code",
      "source": [
        "!mkdir data\n",
        "file_path = \"./data/preprocessed_dataset.parquet\"\n",
        "dataset.to_parquet(file_path)"
      ],
      "metadata": {
        "colab": {
          "base_uri": "https://localhost:8080/",
          "height": 85,
          "referenced_widgets": [
            "c260a4ed6b8d4aef8fcd6227a9327576",
            "2e11e7c72c35427cbab45e0383ca93a6",
            "b6b1baf978aa4ab68f3ea05490c71665",
            "cb677e9e6589498ab04a50849eb0c33c",
            "e107d571593d4b28b8502c0e5a35c405",
            "beb9b8c4fc5e489bade6ec594fd82aeb",
            "571fd5379dbc4117a951ef89c92efc6b",
            "ece95fd64bf040e4bd899505997188f1",
            "2ee358bbbe0b4ad3ac761b0cf77b72b4",
            "82cb553cd57e4fd2b1bc2f1b3c7b99fd",
            "e932f4139c084f17a656bcea4c461091"
          ]
        },
        "id": "wbcOM8C_bUvG",
        "outputId": "70a2ad87-2964-4eeb-d9a1-0c05e81227fe"
      },
      "execution_count": null,
      "outputs": [
        {
          "output_type": "stream",
          "name": "stdout",
          "text": [
            "mkdir: cannot create directory ‘data’: File exists\n"
          ]
        },
        {
          "output_type": "display_data",
          "data": {
            "text/plain": [
              "Creating parquet from Arrow format:   0%|          | 0/41 [00:00<?, ?ba/s]"
            ],
            "application/vnd.jupyter.widget-view+json": {
              "version_major": 2,
              "version_minor": 0,
              "model_id": "c260a4ed6b8d4aef8fcd6227a9327576"
            }
          },
          "metadata": {}
        },
        {
          "output_type": "execute_result",
          "data": {
            "text/plain": [
              "198131987"
            ]
          },
          "metadata": {},
          "execution_count": 17
        }
      ]
    },
    {
      "cell_type": "code",
      "source": [
        "from google.colab import drive\n",
        "drive.mount('/content/drive')"
      ],
      "metadata": {
        "colab": {
          "base_uri": "https://localhost:8080/"
        },
        "id": "UtAer4mxGhwM",
        "outputId": "a915d546-f272-4f45-c7b2-e2142463dd13"
      },
      "execution_count": null,
      "outputs": [
        {
          "output_type": "stream",
          "name": "stdout",
          "text": [
            "Drive already mounted at /content/drive; to attempt to forcibly remount, call drive.mount(\"/content/drive\", force_remount=True).\n"
          ]
        }
      ]
    },
    {
      "cell_type": "code",
      "source": [
        "!mkdir -p \"/content/drive/MyDrive/model-training\"\n",
        "!cp \"./data/preprocessed_dataset.parquet\" \"/content/drive/MyDrive/model-training/preprocessed_dataset.parquet\""
      ],
      "metadata": {
        "id": "e3y6IiyqE8gr"
      },
      "execution_count": null,
      "outputs": []
    },
    {
      "cell_type": "code",
      "source": [
        "from transformers import LlamaForCausalLM\n",
        "config = LlamaConfig(\n",
        "    num_hidden_layers=16,  # We want our model to have 16 final layers\n",
        "    hidden_size=1024,\n",
        "    intermediate_size=4096,\n",
        "    num_attention_heads=32,\n",
        "    num_key_value_heads=8,\n",
        "    torch_dtype=\"bfloat16\",\n",
        "    use_cache=False\n",
        ")\n",
        "print(config)"
      ],
      "metadata": {
        "id": "CGoMmGZqaWp-"
      },
      "execution_count": null,
      "outputs": []
    },
    {
      "cell_type": "markdown",
      "source": [
        "## Load up the data we just prepared"
      ],
      "metadata": {
        "id": "EcDHL5ygWyad"
      }
    },
    {
      "cell_type": "code",
      "source": [
        "import torch\n",
        "from transformers import AutoModelForCausalLM\n",
        "\n",
        "pretrained_model = AutoModelForCausalLM.from_pretrained(\n",
        "    \"./data/Upscaled-Model\",\n",
        "    device_map=\"cpu\",\n",
        "    torch_dtype=torch.bfloat16,\n",
        "    use_cache=False,\n",
        ")"
      ],
      "metadata": {
        "id": "1UgVJ1zPWWPU"
      },
      "execution_count": null,
      "outputs": []
    },
    {
      "cell_type": "code",
      "source": [
        "import datasets\n",
        "from torch.utils.data import Dataset\n",
        "\n",
        "class CustomDataset(Dataset):\n",
        "    def __init__(self, args, split=\"train\"):\n",
        "        \"\"\"Initializes the custom dataset object.\"\"\"\n",
        "        self.args = args\n",
        "        self.dataset = datasets.load_dataset(\n",
        "            \"parquet\",\n",
        "            data_files=args.dataset_name,\n",
        "            split=split\n",
        "        )\n",
        "\n",
        "    def __len__(self):\n",
        "        \"\"\"Returns the number of samples in the dataset.\"\"\"\n",
        "        return len(self.dataset)\n",
        "\n",
        "    def __getitem__(self, idx):\n",
        "        \"\"\"\n",
        "        Retrieves a single data sample from the dataset\n",
        "        at the specified index\n",
        "        \"\"\"\n",
        "        # Convert the lists to a LongTensor for PyTorch\n",
        "        input_ids = torch.LongTensor(self.dataset[idx][\"input_ids\"])\n",
        "        labels = torch.LongTensor(self.dataset[idx][\"input_ids\"])\n",
        "\n",
        "        # Return the sample as a dictionary\n",
        "        return {\"input_ids\": input_ids, \"labels\": labels}"
      ],
      "metadata": {
        "id": "Y_pbOt15Txy0"
      },
      "execution_count": null,
      "outputs": []
    },
    {
      "cell_type": "code",
      "source": [
        "from dataclasses import dataclass, field\n",
        "import transformers\n",
        "\n",
        "@dataclass\n",
        "class CustomArguments(transformers.TrainingArguments):\n",
        "    dataset_name: str = field(                           # Dataset configuration\n",
        "        default=\"./data/packaged_pretrain_dataset.parquet\")\n",
        "    num_proc: int = field(default=1)                     # Number of subprocesses for data preprocessing\n",
        "    max_seq_length: int = field(default=32)              # Maximum sequence length\n",
        "\n",
        "    # Core training configurations\n",
        "    seed: int = field(default=0)                         # Random seed for initialization, ensuring reproducibility\n",
        "    optim: str = field(default=\"adamw_torch\")            # Optimizer, here it's AdamW implemented in PyTorch\n",
        "    max_steps: int = field(default=30)                   # Number of maximum training steps\n",
        "    per_device_train_batch_size: int = field(default=2)  # Batch size per device during training\n",
        "\n",
        "    # Other training configurations\n",
        "    learning_rate: float = field(default=5e-5)           # Initial learning rate for the optimizer\n",
        "    weight_decay: float = field(default=0)               # Weight decay\n",
        "    warmup_steps: int = field(default=10)                # Number of steps for the learning rate warmup phase\n",
        "    lr_scheduler_type: str = field(default=\"linear\")     # Type of learning rate scheduler\n",
        "    gradient_checkpointing: bool = field(default=True)   # Enable gradient checkpointing to save memory\n",
        "    dataloader_num_workers: int = field(default=2)       # Number of subprocesses for data loading\n",
        "    bf16: bool = field(default=True)                     # Use bfloat16 precision for training on supported hardware\n",
        "    gradient_accumulation_steps: int = field(default=1)  # Number of steps to accumulate gradients before updating model weights\n",
        "\n",
        "    # Logging configuration\n",
        "    logging_steps: int = field(default=3)                # Frequency of logging training information\n",
        "    report_to: str = field(default=\"none\")               # Destination for logging (e.g., WandB, TensorBoard)\n",
        "\n",
        "    # Saving configuration\n",
        "    # save_strategy: str = field(default=\"steps\")          # Can be replaced with \"epoch\"\n",
        "    # save_steps: int = field(default=3)                   # Frequency of saving training checkpoint\n",
        "    # save_total_limit: int = field(default=2)             # The total number of checkpoints to be saved"
      ],
      "metadata": {
        "id": "h_x0IBl8Ve9k"
      },
      "execution_count": null,
      "outputs": []
    },
    {
      "cell_type": "code",
      "source": [
        "parser = transformers.HfArgumentParser(CustomArguments)\n",
        "args, = parser.parse_args_into_dataclasses(\n",
        "    args=[\"--output_dir\", \"output\"]\n",
        ")"
      ],
      "metadata": {
        "id": "gIiAx5DpVrm6"
      },
      "execution_count": null,
      "outputs": []
    },
    {
      "cell_type": "code",
      "source": [
        "train_dataset = CustomDataset(args=args)\n",
        "print(\"Input shape: \", train_dataset[0]['input_ids'].shape)"
      ],
      "metadata": {
        "colab": {
          "base_uri": "https://localhost:8080/",
          "height": 67,
          "referenced_widgets": [
            "133af26c7df144d9bd3a31c2100160d5",
            "fb27ceae06444624afcc4cce60b875a8",
            "d8a0b9e9f19a4c0abe3b8e755d6a9be5",
            "86f5e23e1f374e9f91ff28c6a702d98c",
            "d1cf48a7fbed47008dae9bdd74268965",
            "c1224c8719974cce9bd84ed5ca9f94f3",
            "cc86f46e9ba54c96ad34e1141677ce94",
            "9fa2b7eb00ee409b87e66b27a31af518",
            "155844330f1c400bb7f91c0ba78344d0",
            "19b3558ed8854eb3ac2c89675af96029",
            "cbec5f98e4ac45f2b9601beceb3d9b68"
          ]
        },
        "id": "-WGb1cWWVuzV",
        "outputId": "2abab228-3af1-4d6d-9333-35c9c445c88d"
      },
      "execution_count": null,
      "outputs": [
        {
          "output_type": "display_data",
          "data": {
            "text/plain": [
              "Generating train split: 0 examples [00:00, ? examples/s]"
            ],
            "application/vnd.jupyter.widget-view+json": {
              "version_major": 2,
              "version_minor": 0,
              "model_id": "133af26c7df144d9bd3a31c2100160d5"
            }
          },
          "metadata": {}
        },
        {
          "output_type": "stream",
          "name": "stdout",
          "text": [
            "Input shape:  torch.Size([32])\n"
          ]
        }
      ]
    },
    {
      "cell_type": "markdown",
      "source": [
        "32 is the max sequence length of tokens"
      ],
      "metadata": {
        "id": "371VkpOQW-IJ"
      }
    },
    {
      "cell_type": "code",
      "source": [
        "from transformers import Trainer, TrainingArguments, TrainerCallback\n",
        "\n",
        "# Define a custom callback to log the loss values\n",
        "class LossLoggingCallback(TrainerCallback):\n",
        "    def on_log(self, args, state, control, logs=None, **kwargs):\n",
        "        if logs is not None:\n",
        "            self.logs.append(logs)\n",
        "\n",
        "    def __init__(self):\n",
        "        self.logs = []\n",
        "\n",
        "# Initialize the callback\n",
        "loss_logging_callback = LossLoggingCallback()"
      ],
      "metadata": {
        "id": "dnX8chkPWFSb"
      },
      "execution_count": null,
      "outputs": []
    },
    {
      "cell_type": "code",
      "source": [
        "from transformers import Trainer\n",
        "\n",
        "trainer = Trainer(\n",
        "    model=pretrained_model,\n",
        "    args=args,\n",
        "    train_dataset=train_dataset,\n",
        "    eval_dataset=None,\n",
        "    callbacks=[loss_logging_callback]\n",
        ")\n",
        "\n",
        "trainer.train()"
      ],
      "metadata": {
        "colab": {
          "base_uri": "https://localhost:8080/",
          "height": 436
        },
        "id": "xzrNx235XQ5O",
        "outputId": "c6f1f340-02c5-4aca-8a90-200fe9d3001e"
      },
      "execution_count": null,
      "outputs": [
        {
          "output_type": "stream",
          "name": "stderr",
          "text": [
            "max_steps is given, it will override any value given in num_train_epochs\n"
          ]
        },
        {
          "output_type": "error",
          "ename": "KeyboardInterrupt",
          "evalue": "",
          "traceback": [
            "\u001b[0;31m---------------------------------------------------------------------------\u001b[0m",
            "\u001b[0;31mKeyboardInterrupt\u001b[0m                         Traceback (most recent call last)",
            "\u001b[0;32m<ipython-input-143-5db61e1bbd00>\u001b[0m in \u001b[0;36m<cell line: 11>\u001b[0;34m()\u001b[0m\n\u001b[1;32m      9\u001b[0m )\n\u001b[1;32m     10\u001b[0m \u001b[0;34m\u001b[0m\u001b[0m\n\u001b[0;32m---> 11\u001b[0;31m \u001b[0mtrainer\u001b[0m\u001b[0;34m.\u001b[0m\u001b[0mtrain\u001b[0m\u001b[0;34m(\u001b[0m\u001b[0;34m)\u001b[0m\u001b[0;34m\u001b[0m\u001b[0;34m\u001b[0m\u001b[0m\n\u001b[0m",
            "\u001b[0;32m/usr/local/lib/python3.10/dist-packages/transformers/trainer.py\u001b[0m in \u001b[0;36mtrain\u001b[0;34m(self, resume_from_checkpoint, trial, ignore_keys_for_eval, **kwargs)\u001b[0m\n\u001b[1;32m   1930\u001b[0m                 \u001b[0mhf_hub_utils\u001b[0m\u001b[0;34m.\u001b[0m\u001b[0menable_progress_bars\u001b[0m\u001b[0;34m(\u001b[0m\u001b[0;34m)\u001b[0m\u001b[0;34m\u001b[0m\u001b[0;34m\u001b[0m\u001b[0m\n\u001b[1;32m   1931\u001b[0m         \u001b[0;32melse\u001b[0m\u001b[0;34m:\u001b[0m\u001b[0;34m\u001b[0m\u001b[0;34m\u001b[0m\u001b[0m\n\u001b[0;32m-> 1932\u001b[0;31m             return inner_training_loop(\n\u001b[0m\u001b[1;32m   1933\u001b[0m                 \u001b[0margs\u001b[0m\u001b[0;34m=\u001b[0m\u001b[0margs\u001b[0m\u001b[0;34m,\u001b[0m\u001b[0;34m\u001b[0m\u001b[0;34m\u001b[0m\u001b[0m\n\u001b[1;32m   1934\u001b[0m                 \u001b[0mresume_from_checkpoint\u001b[0m\u001b[0;34m=\u001b[0m\u001b[0mresume_from_checkpoint\u001b[0m\u001b[0;34m,\u001b[0m\u001b[0;34m\u001b[0m\u001b[0;34m\u001b[0m\u001b[0m\n",
            "\u001b[0;32m/usr/local/lib/python3.10/dist-packages/transformers/trainer.py\u001b[0m in \u001b[0;36m_inner_training_loop\u001b[0;34m(self, batch_size, args, resume_from_checkpoint, trial, ignore_keys_for_eval)\u001b[0m\n\u001b[1;32m   2266\u001b[0m \u001b[0;34m\u001b[0m\u001b[0m\n\u001b[1;32m   2267\u001b[0m                 \u001b[0;32mwith\u001b[0m \u001b[0mself\u001b[0m\u001b[0;34m.\u001b[0m\u001b[0maccelerator\u001b[0m\u001b[0;34m.\u001b[0m\u001b[0maccumulate\u001b[0m\u001b[0;34m(\u001b[0m\u001b[0mmodel\u001b[0m\u001b[0;34m)\u001b[0m\u001b[0;34m:\u001b[0m\u001b[0;34m\u001b[0m\u001b[0;34m\u001b[0m\u001b[0m\n\u001b[0;32m-> 2268\u001b[0;31m                     \u001b[0mtr_loss_step\u001b[0m \u001b[0;34m=\u001b[0m \u001b[0mself\u001b[0m\u001b[0;34m.\u001b[0m\u001b[0mtraining_step\u001b[0m\u001b[0;34m(\u001b[0m\u001b[0mmodel\u001b[0m\u001b[0;34m,\u001b[0m \u001b[0minputs\u001b[0m\u001b[0;34m)\u001b[0m\u001b[0;34m\u001b[0m\u001b[0;34m\u001b[0m\u001b[0m\n\u001b[0m\u001b[1;32m   2269\u001b[0m \u001b[0;34m\u001b[0m\u001b[0m\n\u001b[1;32m   2270\u001b[0m                 if (\n",
            "\u001b[0;32m/usr/local/lib/python3.10/dist-packages/transformers/trainer.py\u001b[0m in \u001b[0;36mtraining_step\u001b[0;34m(***failed resolving arguments***)\u001b[0m\n\u001b[1;32m   3322\u001b[0m                 \u001b[0mscaled_loss\u001b[0m\u001b[0;34m.\u001b[0m\u001b[0mbackward\u001b[0m\u001b[0;34m(\u001b[0m\u001b[0;34m)\u001b[0m\u001b[0;34m\u001b[0m\u001b[0;34m\u001b[0m\u001b[0m\n\u001b[1;32m   3323\u001b[0m         \u001b[0;32melse\u001b[0m\u001b[0;34m:\u001b[0m\u001b[0;34m\u001b[0m\u001b[0;34m\u001b[0m\u001b[0m\n\u001b[0;32m-> 3324\u001b[0;31m             \u001b[0mself\u001b[0m\u001b[0;34m.\u001b[0m\u001b[0maccelerator\u001b[0m\u001b[0;34m.\u001b[0m\u001b[0mbackward\u001b[0m\u001b[0;34m(\u001b[0m\u001b[0mloss\u001b[0m\u001b[0;34m,\u001b[0m \u001b[0;34m**\u001b[0m\u001b[0mkwargs\u001b[0m\u001b[0;34m)\u001b[0m\u001b[0;34m\u001b[0m\u001b[0;34m\u001b[0m\u001b[0m\n\u001b[0m\u001b[1;32m   3325\u001b[0m \u001b[0;34m\u001b[0m\u001b[0m\n\u001b[1;32m   3326\u001b[0m         \u001b[0;32mreturn\u001b[0m \u001b[0mloss\u001b[0m\u001b[0;34m.\u001b[0m\u001b[0mdetach\u001b[0m\u001b[0;34m(\u001b[0m\u001b[0;34m)\u001b[0m \u001b[0;34m/\u001b[0m \u001b[0mself\u001b[0m\u001b[0;34m.\u001b[0m\u001b[0margs\u001b[0m\u001b[0;34m.\u001b[0m\u001b[0mgradient_accumulation_steps\u001b[0m\u001b[0;34m\u001b[0m\u001b[0;34m\u001b[0m\u001b[0m\n",
            "\u001b[0;32m/usr/local/lib/python3.10/dist-packages/accelerate/accelerator.py\u001b[0m in \u001b[0;36mbackward\u001b[0;34m(self, loss, **kwargs)\u001b[0m\n\u001b[1;32m   2149\u001b[0m             \u001b[0mself\u001b[0m\u001b[0;34m.\u001b[0m\u001b[0mlomo_backward\u001b[0m\u001b[0;34m(\u001b[0m\u001b[0mloss\u001b[0m\u001b[0;34m,\u001b[0m \u001b[0mlearning_rate\u001b[0m\u001b[0;34m)\u001b[0m\u001b[0;34m\u001b[0m\u001b[0;34m\u001b[0m\u001b[0m\n\u001b[1;32m   2150\u001b[0m         \u001b[0;32melse\u001b[0m\u001b[0;34m:\u001b[0m\u001b[0;34m\u001b[0m\u001b[0;34m\u001b[0m\u001b[0m\n\u001b[0;32m-> 2151\u001b[0;31m             \u001b[0mloss\u001b[0m\u001b[0;34m.\u001b[0m\u001b[0mbackward\u001b[0m\u001b[0;34m(\u001b[0m\u001b[0;34m**\u001b[0m\u001b[0mkwargs\u001b[0m\u001b[0;34m)\u001b[0m\u001b[0;34m\u001b[0m\u001b[0;34m\u001b[0m\u001b[0m\n\u001b[0m\u001b[1;32m   2152\u001b[0m \u001b[0;34m\u001b[0m\u001b[0m\n\u001b[1;32m   2153\u001b[0m     \u001b[0;32mdef\u001b[0m \u001b[0mset_trigger\u001b[0m\u001b[0;34m(\u001b[0m\u001b[0mself\u001b[0m\u001b[0;34m)\u001b[0m\u001b[0;34m:\u001b[0m\u001b[0;34m\u001b[0m\u001b[0;34m\u001b[0m\u001b[0m\n",
            "\u001b[0;32m/usr/local/lib/python3.10/dist-packages/torch/_tensor.py\u001b[0m in \u001b[0;36mbackward\u001b[0;34m(self, gradient, retain_graph, create_graph, inputs)\u001b[0m\n\u001b[1;32m    523\u001b[0m                 \u001b[0minputs\u001b[0m\u001b[0;34m=\u001b[0m\u001b[0minputs\u001b[0m\u001b[0;34m,\u001b[0m\u001b[0;34m\u001b[0m\u001b[0;34m\u001b[0m\u001b[0m\n\u001b[1;32m    524\u001b[0m             )\n\u001b[0;32m--> 525\u001b[0;31m         torch.autograd.backward(\n\u001b[0m\u001b[1;32m    526\u001b[0m             \u001b[0mself\u001b[0m\u001b[0;34m,\u001b[0m \u001b[0mgradient\u001b[0m\u001b[0;34m,\u001b[0m \u001b[0mretain_graph\u001b[0m\u001b[0;34m,\u001b[0m \u001b[0mcreate_graph\u001b[0m\u001b[0;34m,\u001b[0m \u001b[0minputs\u001b[0m\u001b[0;34m=\u001b[0m\u001b[0minputs\u001b[0m\u001b[0;34m\u001b[0m\u001b[0;34m\u001b[0m\u001b[0m\n\u001b[1;32m    527\u001b[0m         )\n",
            "\u001b[0;32m/usr/local/lib/python3.10/dist-packages/torch/autograd/__init__.py\u001b[0m in \u001b[0;36mbackward\u001b[0;34m(tensors, grad_tensors, retain_graph, create_graph, grad_variables, inputs)\u001b[0m\n\u001b[1;32m    265\u001b[0m     \u001b[0;31m# some Python versions print out the first line of a multi-line function\u001b[0m\u001b[0;34m\u001b[0m\u001b[0;34m\u001b[0m\u001b[0m\n\u001b[1;32m    266\u001b[0m     \u001b[0;31m# calls in the traceback and some print out the last line\u001b[0m\u001b[0;34m\u001b[0m\u001b[0;34m\u001b[0m\u001b[0m\n\u001b[0;32m--> 267\u001b[0;31m     _engine_run_backward(\n\u001b[0m\u001b[1;32m    268\u001b[0m         \u001b[0mtensors\u001b[0m\u001b[0;34m,\u001b[0m\u001b[0;34m\u001b[0m\u001b[0;34m\u001b[0m\u001b[0m\n\u001b[1;32m    269\u001b[0m         \u001b[0mgrad_tensors_\u001b[0m\u001b[0;34m,\u001b[0m\u001b[0;34m\u001b[0m\u001b[0;34m\u001b[0m\u001b[0m\n",
            "\u001b[0;32m/usr/local/lib/python3.10/dist-packages/torch/autograd/graph.py\u001b[0m in \u001b[0;36m_engine_run_backward\u001b[0;34m(t_outputs, *args, **kwargs)\u001b[0m\n\u001b[1;32m    742\u001b[0m         \u001b[0munregister_hooks\u001b[0m \u001b[0;34m=\u001b[0m \u001b[0m_register_logging_hooks_on_whole_graph\u001b[0m\u001b[0;34m(\u001b[0m\u001b[0mt_outputs\u001b[0m\u001b[0;34m)\u001b[0m\u001b[0;34m\u001b[0m\u001b[0;34m\u001b[0m\u001b[0m\n\u001b[1;32m    743\u001b[0m     \u001b[0;32mtry\u001b[0m\u001b[0;34m:\u001b[0m\u001b[0;34m\u001b[0m\u001b[0;34m\u001b[0m\u001b[0m\n\u001b[0;32m--> 744\u001b[0;31m         return Variable._execution_engine.run_backward(  # Calls into the C++ engine to run the backward pass\n\u001b[0m\u001b[1;32m    745\u001b[0m             \u001b[0mt_outputs\u001b[0m\u001b[0;34m,\u001b[0m \u001b[0;34m*\u001b[0m\u001b[0margs\u001b[0m\u001b[0;34m,\u001b[0m \u001b[0;34m**\u001b[0m\u001b[0mkwargs\u001b[0m\u001b[0;34m\u001b[0m\u001b[0;34m\u001b[0m\u001b[0m\n\u001b[1;32m    746\u001b[0m         )  # Calls into the C++ engine to run the backward pass\n",
            "\u001b[0;32m/usr/local/lib/python3.10/dist-packages/torch/autograd/function.py\u001b[0m in \u001b[0;36mapply\u001b[0;34m(self, *args)\u001b[0m\n\u001b[1;32m    299\u001b[0m             )\n\u001b[1;32m    300\u001b[0m         \u001b[0muser_fn\u001b[0m \u001b[0;34m=\u001b[0m \u001b[0mvjp_fn\u001b[0m \u001b[0;32mif\u001b[0m \u001b[0mvjp_fn\u001b[0m \u001b[0;32mis\u001b[0m \u001b[0;32mnot\u001b[0m \u001b[0mFunction\u001b[0m\u001b[0;34m.\u001b[0m\u001b[0mvjp\u001b[0m \u001b[0;32melse\u001b[0m \u001b[0mbackward_fn\u001b[0m\u001b[0;34m\u001b[0m\u001b[0;34m\u001b[0m\u001b[0m\n\u001b[0;32m--> 301\u001b[0;31m         \u001b[0;32mreturn\u001b[0m \u001b[0muser_fn\u001b[0m\u001b[0;34m(\u001b[0m\u001b[0mself\u001b[0m\u001b[0;34m,\u001b[0m \u001b[0;34m*\u001b[0m\u001b[0margs\u001b[0m\u001b[0;34m)\u001b[0m\u001b[0;34m\u001b[0m\u001b[0;34m\u001b[0m\u001b[0m\n\u001b[0m\u001b[1;32m    302\u001b[0m \u001b[0;34m\u001b[0m\u001b[0m\n\u001b[1;32m    303\u001b[0m     \u001b[0;32mdef\u001b[0m \u001b[0mapply_jvp\u001b[0m\u001b[0;34m(\u001b[0m\u001b[0mself\u001b[0m\u001b[0;34m,\u001b[0m \u001b[0;34m*\u001b[0m\u001b[0margs\u001b[0m\u001b[0;34m)\u001b[0m\u001b[0;34m:\u001b[0m\u001b[0;34m\u001b[0m\u001b[0;34m\u001b[0m\u001b[0m\n",
            "\u001b[0;32m/usr/local/lib/python3.10/dist-packages/torch/utils/checkpoint.py\u001b[0m in \u001b[0;36mbackward\u001b[0;34m(ctx, *args)\u001b[0m\n\u001b[1;32m    318\u001b[0m                 \u001b[0;34m\" this checkpoint() is not necessary\"\u001b[0m\u001b[0;34m\u001b[0m\u001b[0;34m\u001b[0m\u001b[0m\n\u001b[1;32m    319\u001b[0m             )\n\u001b[0;32m--> 320\u001b[0;31m         \u001b[0mtorch\u001b[0m\u001b[0;34m.\u001b[0m\u001b[0mautograd\u001b[0m\u001b[0;34m.\u001b[0m\u001b[0mbackward\u001b[0m\u001b[0;34m(\u001b[0m\u001b[0moutputs_with_grad\u001b[0m\u001b[0;34m,\u001b[0m \u001b[0margs_with_grad\u001b[0m\u001b[0;34m)\u001b[0m\u001b[0;34m\u001b[0m\u001b[0;34m\u001b[0m\u001b[0m\n\u001b[0m\u001b[1;32m    321\u001b[0m         grads = tuple(\n\u001b[1;32m    322\u001b[0m             \u001b[0minp\u001b[0m\u001b[0;34m.\u001b[0m\u001b[0mgrad\u001b[0m \u001b[0;32mif\u001b[0m \u001b[0misinstance\u001b[0m\u001b[0;34m(\u001b[0m\u001b[0minp\u001b[0m\u001b[0;34m,\u001b[0m \u001b[0mtorch\u001b[0m\u001b[0;34m.\u001b[0m\u001b[0mTensor\u001b[0m\u001b[0;34m)\u001b[0m \u001b[0;32melse\u001b[0m \u001b[0;32mNone\u001b[0m\u001b[0;34m\u001b[0m\u001b[0;34m\u001b[0m\u001b[0m\n",
            "\u001b[0;32m/usr/local/lib/python3.10/dist-packages/torch/autograd/__init__.py\u001b[0m in \u001b[0;36mbackward\u001b[0;34m(tensors, grad_tensors, retain_graph, create_graph, grad_variables, inputs)\u001b[0m\n\u001b[1;32m    265\u001b[0m     \u001b[0;31m# some Python versions print out the first line of a multi-line function\u001b[0m\u001b[0;34m\u001b[0m\u001b[0;34m\u001b[0m\u001b[0m\n\u001b[1;32m    266\u001b[0m     \u001b[0;31m# calls in the traceback and some print out the last line\u001b[0m\u001b[0;34m\u001b[0m\u001b[0;34m\u001b[0m\u001b[0m\n\u001b[0;32m--> 267\u001b[0;31m     _engine_run_backward(\n\u001b[0m\u001b[1;32m    268\u001b[0m         \u001b[0mtensors\u001b[0m\u001b[0;34m,\u001b[0m\u001b[0;34m\u001b[0m\u001b[0;34m\u001b[0m\u001b[0m\n\u001b[1;32m    269\u001b[0m         \u001b[0mgrad_tensors_\u001b[0m\u001b[0;34m,\u001b[0m\u001b[0;34m\u001b[0m\u001b[0;34m\u001b[0m\u001b[0m\n",
            "\u001b[0;32m/usr/local/lib/python3.10/dist-packages/torch/autograd/graph.py\u001b[0m in \u001b[0;36m_engine_run_backward\u001b[0;34m(t_outputs, *args, **kwargs)\u001b[0m\n\u001b[1;32m    742\u001b[0m         \u001b[0munregister_hooks\u001b[0m \u001b[0;34m=\u001b[0m \u001b[0m_register_logging_hooks_on_whole_graph\u001b[0m\u001b[0;34m(\u001b[0m\u001b[0mt_outputs\u001b[0m\u001b[0;34m)\u001b[0m\u001b[0;34m\u001b[0m\u001b[0;34m\u001b[0m\u001b[0m\n\u001b[1;32m    743\u001b[0m     \u001b[0;32mtry\u001b[0m\u001b[0;34m:\u001b[0m\u001b[0;34m\u001b[0m\u001b[0;34m\u001b[0m\u001b[0m\n\u001b[0;32m--> 744\u001b[0;31m         return Variable._execution_engine.run_backward(  # Calls into the C++ engine to run the backward pass\n\u001b[0m\u001b[1;32m    745\u001b[0m             \u001b[0mt_outputs\u001b[0m\u001b[0;34m,\u001b[0m \u001b[0;34m*\u001b[0m\u001b[0margs\u001b[0m\u001b[0;34m,\u001b[0m \u001b[0;34m**\u001b[0m\u001b[0mkwargs\u001b[0m\u001b[0;34m\u001b[0m\u001b[0;34m\u001b[0m\u001b[0m\n\u001b[1;32m    746\u001b[0m         )  # Calls into the C++ engine to run the backward pass\n",
            "\u001b[0;31mKeyboardInterrupt\u001b[0m: "
          ]
        }
      ]
    }
  ]
}